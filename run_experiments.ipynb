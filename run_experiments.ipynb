{
 "cells": [
  {
   "cell_type": "code",
   "execution_count": 1,
   "metadata": {},
   "outputs": [
    {
     "name": "stderr",
     "output_type": "stream",
     "text": [
      "wandb: Currently logged in as: omegachysis (use `wandb login --relogin` to force relogin)\n",
      "wandb: Tracking run with wandb version 0.10.2\n",
      "wandb: Run data is saved locally in wandb\\run-20200924_100716-27r6izih\n",
      "wandb: Syncing run elated-sea-22\n"
     ]
    },
    {
     "data": {
      "text/html": [
       "\n",
       "                Logging results to <a href=\"https://wandb.com\" target=\"_blank\">Weights & Biases</a> <a href=\"https://docs.wandb.com/integrations/jupyter.html\" target=\"_blank\">(Documentation)</a>.<br/>\n",
       "                Project page: <a href=\"https://wandb.ai/omegachysis/neural-cellular-automata\" target=\"_blank\">https://wandb.ai/omegachysis/neural-cellular-automata</a><br/>\n",
       "                Run page: <a href=\"https://wandb.ai/omegachysis/neural-cellular-automata/runs/27r6izih\" target=\"_blank\">https://wandb.ai/omegachysis/neural-cellular-automata/runs/27r6izih</a><br/>\n",
       "            "
      ],
      "text/plain": [
       "<IPython.core.display.HTML object>"
      ]
     },
     "metadata": {},
     "output_type": "display_data"
    },
    {
     "name": "stdout",
     "output_type": "stream",
     "text": [
      "\n",
      "Stopping due to time-out\n",
      "Time:  3.3459954261779785 seconds\n",
      "Stopping due to time-out\n",
      "Time:  2.000001907348633 seconds\n",
      "Stopping due to time-out\n",
      "Time:  2.014930486679077 seconds\n",
      "Stopping due to time-out\n",
      "Time:  2.009000539779663 seconds\n"
     ]
    },
    {
     "name": "stderr",
     "output_type": "stream",
     "text": [
      "wandb: Waiting for W&B process to finish, PID 10544\n",
      "wandb: Program ended successfully.\n",
      "wandb: - 1.67MB of 1.67MB uploaded (0.00MB deduped)\r"
     ]
    },
    {
     "name": "stdout",
     "output_type": "stream",
     "text": [
      "Stopping due to time-out\n",
      "Time:  2.018998622894287 seconds\n",
      "\n"
     ]
    },
    {
     "name": "stderr",
     "output_type": "stream",
     "text": [
      "wandb:                                                                                \n",
      "wandb: Find user logs for this run at: wandb\\run-20200924_100716-27r6izih\\logs\\debug.log\n",
      "wandb: Find internal logs for this run at: wandb\\run-20200924_100716-27r6izih\\logs\\debug-internal.log\n",
      "wandb: Run summary:\n",
      "wandb:          loss 0.013742960058152676\n",
      "wandb:         _step 316\n",
      "wandb:      _runtime 13\n",
      "wandb:    _timestamp 1600956451\n",
      "wandb: Run history:\n",
      "wandb:         loss █▅▃▃▃▃▃▃▃▃▃▃▃▃▃▃▂▂▂▂▂▂▂▂▂▂▂▂▂▂▂▁▁▁▁▁▁▁▁▁\n",
      "wandb:        _step ▁▁▁▂▂▂▂▂▂▃▃▃▃▃▄▄▄▄▄▄▅▅▅▅▅▅▆▆▆▆▆▇▇▇▇▇▇███\n",
      "wandb:     _runtime ▁▁▁▂▂▂▂▂▃▃▃▃▄▄▄▄▄▅▅▅▅▅▅▅▅▅▆▆▆▆▆▇▇▇▇▇████\n",
      "wandb:   _timestamp ▁▁▁▂▂▂▂▂▃▃▃▃▄▄▄▄▄▅▅▅▅▅▅▅▅▅▆▆▆▆▆▇▇▇▇▇████\n",
      "wandb: Synced 6 W&B file(s), 10 media file(s), 0 artifact file(s) and 5 other file(s)\n",
      "wandb: \n",
      "wandb: Synced elated-sea-22: https://wandb.ai/omegachysis/neural-cellular-automata/runs/27r6izih\n",
      "wandb: Tracking run with wandb version 0.10.2\n",
      "wandb: Run data is saved locally in wandb\\run-20200924_100731-2bn9elw2\n",
      "wandb: Syncing run earnest-smoke-23\n"
     ]
    },
    {
     "data": {
      "text/html": [
       "\n",
       "                Logging results to <a href=\"https://wandb.com\" target=\"_blank\">Weights & Biases</a> <a href=\"https://docs.wandb.com/integrations/jupyter.html\" target=\"_blank\">(Documentation)</a>.<br/>\n",
       "                Project page: <a href=\"https://wandb.ai/omegachysis/neural-cellular-automata\" target=\"_blank\">https://wandb.ai/omegachysis/neural-cellular-automata</a><br/>\n",
       "                Run page: <a href=\"https://wandb.ai/omegachysis/neural-cellular-automata/runs/2bn9elw2\" target=\"_blank\">https://wandb.ai/omegachysis/neural-cellular-automata/runs/2bn9elw2</a><br/>\n",
       "            "
      ],
      "text/plain": [
       "<IPython.core.display.HTML object>"
      ]
     },
     "metadata": {},
     "output_type": "display_data"
    },
    {
     "name": "stdout",
     "output_type": "stream",
     "text": [
      "\n",
      "Stopping due to time-out\n",
      "Time:  2.004988193511963 seconds\n",
      "Stopping due to time-out\n",
      "Time:  2.0189998149871826 seconds\n",
      "Stopping due to time-out\n",
      "Time:  2.0080010890960693 seconds\n",
      "Stopping due to time-out\n",
      "Time:  2.0089945793151855 seconds\n"
     ]
    },
    {
     "name": "stderr",
     "output_type": "stream",
     "text": [
      "wandb: Waiting for W&B process to finish, PID 2508\n",
      "wandb: Program ended successfully.\n",
      "wandb: - 1.66MB of 1.66MB uploaded (0.00MB deduped)\r"
     ]
    },
    {
     "name": "stdout",
     "output_type": "stream",
     "text": [
      "Stopping due to time-out\n",
      "Time:  2.0049984455108643 seconds\n",
      "\n"
     ]
    },
    {
     "name": "stderr",
     "output_type": "stream",
     "text": [
      "wandb:                                                                                \n",
      "wandb: Find user logs for this run at: wandb\\run-20200924_100731-2bn9elw2\\logs\\debug.log\n",
      "wandb: Find internal logs for this run at: wandb\\run-20200924_100731-2bn9elw2\\logs\\debug-internal.log\n",
      "wandb: Run summary:\n",
      "wandb:          loss 0.014648672193288803\n",
      "wandb:         _step 330\n",
      "wandb:      _runtime 12\n",
      "wandb:    _timestamp 1600956469\n",
      "wandb: Run history:\n",
      "wandb:         loss █▅▅▄▄▄▄▄▄▃▄▃▃▃▃▃▃▂▂▂▃▂▂▂▂▂▂▁▂▁▁▁▁▁▁▁▁▁▁▁\n",
      "wandb:        _step ▁▁▁▂▂▂▂▂▂▃▃▃▃▃▄▄▄▄▄▄▅▅▅▅▅▅▆▆▆▆▆▇▇▇▇▇▇███\n",
      "wandb:     _runtime ▁▁▁▁▂▂▂▂▂▃▃▃▃▄▄▄▄▄▅▅▅▅▅▅▅▅▆▆▆▆▆▇▇▇▇▇████\n",
      "wandb:   _timestamp ▁▁▁▁▂▂▂▂▂▃▃▃▃▄▄▄▄▄▅▅▅▅▅▅▅▅▆▆▆▆▆▇▇▇▇▇████\n",
      "wandb: Synced 6 W&B file(s), 10 media file(s), 0 artifact file(s) and 5 other file(s)\n",
      "wandb: \n",
      "wandb: Synced earnest-smoke-23: https://wandb.ai/omegachysis/neural-cellular-automata/runs/2bn9elw2\n",
      "wandb: Tracking run with wandb version 0.10.2\n",
      "wandb: Run data is saved locally in wandb\\run-20200924_100749-2lh73qge\n",
      "wandb: Syncing run wandering-donkey-24\n"
     ]
    },
    {
     "data": {
      "text/html": [
       "\n",
       "                Logging results to <a href=\"https://wandb.com\" target=\"_blank\">Weights & Biases</a> <a href=\"https://docs.wandb.com/integrations/jupyter.html\" target=\"_blank\">(Documentation)</a>.<br/>\n",
       "                Project page: <a href=\"https://wandb.ai/omegachysis/neural-cellular-automata\" target=\"_blank\">https://wandb.ai/omegachysis/neural-cellular-automata</a><br/>\n",
       "                Run page: <a href=\"https://wandb.ai/omegachysis/neural-cellular-automata/runs/2lh73qge\" target=\"_blank\">https://wandb.ai/omegachysis/neural-cellular-automata/runs/2lh73qge</a><br/>\n",
       "            "
      ],
      "text/plain": [
       "<IPython.core.display.HTML object>"
      ]
     },
     "metadata": {},
     "output_type": "display_data"
    },
    {
     "name": "stdout",
     "output_type": "stream",
     "text": [
      "\n",
      "Stopping due to time-out\n",
      "Time:  2.0159871578216553 seconds\n",
      "Stopping due to time-out\n",
      "Time:  2.014993906021118 seconds\n",
      "Stopping due to time-out\n",
      "Time:  2.0059971809387207 seconds\n",
      "Stopping due to time-out\n",
      "Time:  2.0289995670318604 seconds\n",
      "Stopping due to time-out\n",
      "Time:  2.0039310455322266 seconds\n"
     ]
    },
    {
     "name": "stderr",
     "output_type": "stream",
     "text": [
      "wandb: Waiting for W&B process to finish, PID 7924\n",
      "wandb: Program ended successfully.\n",
      "wandb: - 1.71MB of 1.71MB uploaded (0.00MB deduped)\r"
     ]
    },
    {
     "name": "stdout",
     "output_type": "stream",
     "text": [
      "\n"
     ]
    },
    {
     "name": "stderr",
     "output_type": "stream",
     "text": [
      "wandb:                                                                                \n",
      "wandb: Find user logs for this run at: wandb\\run-20200924_100749-2lh73qge\\logs\\debug.log\n",
      "wandb: Find internal logs for this run at: wandb\\run-20200924_100749-2lh73qge\\logs\\debug-internal.log\n",
      "wandb: Run summary:\n",
      "wandb:          loss 0.013700481504201889\n",
      "wandb:         _step 325\n",
      "wandb:      _runtime 12\n",
      "wandb:    _timestamp 1600956486\n",
      "wandb: Run history:\n",
      "wandb:         loss █▅▄▄▃▃▃▃▃▃▃▃▃▃▂▂▂▂▂▂▂▂▂▂▂▂▂▁▁▁▁▁▁▁▁▁▁▁▁▁\n",
      "wandb:        _step ▁▁▁▂▂▂▂▂▂▃▃▃▃▃▃▄▄▄▄▄▅▅▅▅▅▅▆▆▆▆▆▇▇▇▇▇▇███\n",
      "wandb:     _runtime ▁▂▂▂▂▃▃▃▃▃▃▃▃▃▄▄▄▄▅▅▅▅▆▆▆▆▆▆▆▆▆▇▇▇▇▇████\n",
      "wandb:   _timestamp ▁▂▂▂▂▃▃▃▃▃▃▃▃▃▄▄▄▄▅▅▅▅▆▆▆▆▆▆▆▆▆▇▇▇▇▇████\n",
      "wandb: Synced 6 W&B file(s), 10 media file(s), 0 artifact file(s) and 5 other file(s)\n",
      "wandb: \n",
      "wandb: Synced wandering-donkey-24: https://wandb.ai/omegachysis/neural-cellular-automata/runs/2lh73qge\n"
     ]
    }
   ],
   "source": [
    "import module1 as lib\n",
    "from importlib import reload\n",
    "reload(lib)\n",
    "\n",
    "for _ in range(3):\n",
    "    lib.run_once(group=\"test1\", config=lib.test_config)\n",
    "quit()"
   ]
  },
  {
   "cell_type": "code",
   "execution_count": null,
   "metadata": {},
   "outputs": [],
   "source": []
  }
 ],
 "metadata": {
  "kernelspec": {
   "display_name": "Python 3",
   "language": "python",
   "name": "python3"
  },
  "language_info": {
   "codemirror_mode": {
    "name": "ipython",
    "version": 3
   },
   "file_extension": ".py",
   "mimetype": "text/x-python",
   "name": "python",
   "nbconvert_exporter": "python",
   "pygments_lexer": "ipython3",
   "version": "3.8.3"
  }
 },
 "nbformat": 4,
 "nbformat_minor": 4
}
