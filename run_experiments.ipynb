{
 "cells": [
  {
   "cell_type": "code",
   "execution_count": null,
   "metadata": {},
   "outputs": [
    {
     "name": "stderr",
     "output_type": "stream",
     "text": [
      "wandb: Waiting for W&B process to finish, PID 7612\n",
      "wandb: Program ended successfully.\n",
      "wandb: - 8.22MB of 8.22MB uploaded (0.00MB deduped)\r"
     ]
    },
    {
     "name": "stdout",
     "output_type": "stream",
     "text": [
      "\n"
     ]
    },
    {
     "name": "stderr",
     "output_type": "stream",
     "text": [
      "wandb:                                                                                \n",
      "wandb: Find user logs for this run at: wandb\\run-20200924_152958-ga18414r\\logs\\debug.log\n",
      "wandb: Find internal logs for this run at: wandb\\run-20200924_152958-ga18414r\\logs\\debug-internal.log\n",
      "wandb: Run summary:\n",
      "wandb:          loss 0.027144527062773705\n",
      "wandb:         _step 73\n",
      "wandb:      _runtime 114\n",
      "wandb:    _timestamp 1600975918\n",
      "wandb: Run history:\n",
      "wandb:         loss ██▁▁▁▁▁▁▁▁▁▁▁▁▁▁▁▁▁▁▁▁▁▁▁▁▁▁▁▁▁▁▁▁▁▁▁▁▁▁\n",
      "wandb:        _step ▁▁▁▁▂▂▂▂▂▃▃▃▃▃▃▄▄▄▄▄▅▅▅▅▅▅▆▆▆▆▆▇▇▇▇▇▇███\n",
      "wandb:     _runtime ▁▁▁▁▁▁▁▁▁▁▂▂▂▂▂▂▂▂▂▂▂▂▂▂▂▂▂▂▂▂▃▃▃▃▃▃▃▃▃█\n",
      "wandb:   _timestamp ▁▁▁▁▁▁▁▁▁▁▂▂▂▂▂▂▂▂▂▂▂▂▂▂▂▂▂▂▂▂▃▃▃▃▃▃▃▃▃█\n",
      "wandb: Synced 6 W&B file(s), 10 media file(s), 0 artifact file(s) and 5 other file(s)\n",
      "wandb: \n",
      "wandb: Synced cerulean-moon-122: https://wandb.ai/omegachysis/neural-cellular-automata/runs/ga18414r\n",
      "wandb: Tracking run with wandb version 0.10.2\n",
      "wandb: Run data is saved locally in wandb\\run-20200924_153158-2fts5pit\n",
      "wandb: Syncing run visionary-cloud-123\n"
     ]
    },
    {
     "data": {
      "text/html": [
       "\n",
       "                Logging results to <a href=\"https://wandb.com\" target=\"_blank\">Weights & Biases</a> <a href=\"https://docs.wandb.com/integrations/jupyter.html\" target=\"_blank\">(Documentation)</a>.<br/>\n",
       "                Project page: <a href=\"https://wandb.ai/omegachysis/neural-cellular-automata\" target=\"_blank\">https://wandb.ai/omegachysis/neural-cellular-automata</a><br/>\n",
       "                Run page: <a href=\"https://wandb.ai/omegachysis/neural-cellular-automata/runs/2fts5pit\" target=\"_blank\">https://wandb.ai/omegachysis/neural-cellular-automata/runs/2fts5pit</a><br/>\n",
       "            "
      ],
      "text/plain": [
       "<IPython.core.display.HTML object>"
      ]
     },
     "metadata": {},
     "output_type": "display_data"
    },
    {
     "name": "stdout",
     "output_type": "stream",
     "text": [
      "\n",
      "Stopping due to time-out\n",
      "Time:  6.042995929718018 seconds\n",
      "Best loss:  0.025329458\n",
      "Stopping due to time-out\n",
      "Time:  6.075000524520874 seconds\n",
      "Best loss:  0.025252663\n",
      "Stopping due to time-out\n",
      "Time:  6.003995418548584 seconds\n",
      "Best loss:  0.025219189\n",
      "Stopping due to time-out\n",
      "Time:  6.107994794845581 seconds\n",
      "Best loss:  0.02493125\n",
      "Stopping due to time-out\n",
      "Time:  6.051002025604248 seconds\n"
     ]
    },
    {
     "name": "stderr",
     "output_type": "stream",
     "text": [
      "wandb: Waiting for W&B process to finish, PID 6020\n",
      "wandb: Program ended successfully.\n",
      "wandb: - 3.90MB of 3.90MB uploaded (0.00MB deduped)\r"
     ]
    },
    {
     "name": "stdout",
     "output_type": "stream",
     "text": [
      "Best loss:  0.021617766\n",
      "\n"
     ]
    },
    {
     "name": "stderr",
     "output_type": "stream",
     "text": [
      "wandb:                                                                                \n",
      "wandb: Find user logs for this run at: wandb\\run-20200924_153158-2fts5pit\\logs\\debug.log\n",
      "wandb: Find internal logs for this run at: wandb\\run-20200924_153158-2fts5pit\\logs\\debug-internal.log\n",
      "wandb: Run summary:\n",
      "wandb:          loss 0.021617766469717026\n",
      "wandb:         _step 196\n",
      "wandb:      _runtime 34\n",
      "wandb:    _timestamp 1600975957\n",
      "wandb: Run history:\n",
      "wandb:         loss █▂▃▂▂▂▂▂▂▂▂▂▂▂▂▂▂▂▂▂▂▂▂▂▂▂▂▂▂▂▂▂▂▁▁▁▁▁▁▁\n",
      "wandb:        _step ▁▁▁▂▂▂▂▂▂▃▃▃▃▃▃▄▄▄▄▄▅▅▅▅▅▅▆▆▆▆▆▇▇▇▇▇▇███\n",
      "wandb:     _runtime ▁▁▁▁▁▂▂▂▂▂▃▃▃▃▃▄▄▄▄▄▄▅▅▅▅▅▆▆▆▆▆▇▇▇▇▇▇███\n",
      "wandb:   _timestamp ▁▁▁▁▁▂▂▂▂▂▃▃▃▃▃▄▄▄▄▄▄▅▅▅▅▅▆▆▆▆▆▇▇▇▇▇▇███\n",
      "wandb: Synced 6 W&B file(s), 10 media file(s), 0 artifact file(s) and 6 other file(s)\n",
      "wandb: \n",
      "wandb: Synced visionary-cloud-123: https://wandb.ai/omegachysis/neural-cellular-automata/runs/2fts5pit\n",
      "wandb: Tracking run with wandb version 0.10.2\n",
      "wandb: Run data is saved locally in wandb\\run-20200924_153237-1w5c9evs\n",
      "wandb: Syncing run bright-tree-124\n"
     ]
    },
    {
     "data": {
      "text/html": [
       "\n",
       "                Logging results to <a href=\"https://wandb.com\" target=\"_blank\">Weights & Biases</a> <a href=\"https://docs.wandb.com/integrations/jupyter.html\" target=\"_blank\">(Documentation)</a>.<br/>\n",
       "                Project page: <a href=\"https://wandb.ai/omegachysis/neural-cellular-automata\" target=\"_blank\">https://wandb.ai/omegachysis/neural-cellular-automata</a><br/>\n",
       "                Run page: <a href=\"https://wandb.ai/omegachysis/neural-cellular-automata/runs/1w5c9evs\" target=\"_blank\">https://wandb.ai/omegachysis/neural-cellular-automata/runs/1w5c9evs</a><br/>\n",
       "            "
      ],
      "text/plain": [
       "<IPython.core.display.HTML object>"
      ]
     },
     "metadata": {},
     "output_type": "display_data"
    },
    {
     "name": "stdout",
     "output_type": "stream",
     "text": [
      "\n",
      "Stopping due to time-out\n",
      "Time:  6.058996677398682 seconds\n",
      "Best loss:  0.044244483\n",
      "Stopping due to time-out\n",
      "Time:  6.352999687194824 seconds\n",
      "Best loss:  0.029617697\n",
      "Stopping due to time-out\n",
      "Time:  6.1925437450408936 seconds\n",
      "Best loss:  0.02950716\n",
      "Stopping due to time-out\n",
      "Time:  6.426976680755615 seconds\n",
      "Best loss:  0.028624538\n",
      "Stopping due to time-out\n",
      "Time:  6.831994295120239 seconds\n"
     ]
    },
    {
     "name": "stderr",
     "output_type": "stream",
     "text": [
      "wandb: Waiting for W&B process to finish, PID 7764\n",
      "wandb: Program ended successfully.\n",
      "wandb: - 11.16MB of 11.16MB uploaded (0.00MB deduped)\r"
     ]
    },
    {
     "name": "stdout",
     "output_type": "stream",
     "text": [
      "Best loss:  0.028624538\n",
      "Stopping early due to loss plateau...\n",
      "\n"
     ]
    },
    {
     "name": "stderr",
     "output_type": "stream",
     "text": [
      "wandb:                                                                                \n",
      "wandb: Find user logs for this run at: wandb\\run-20200924_153237-1w5c9evs\\logs\\debug.log\n",
      "wandb: Find internal logs for this run at: wandb\\run-20200924_153237-1w5c9evs\\logs\\debug-internal.log\n",
      "wandb: Run summary:\n",
      "wandb:          loss 0.028762787580490112\n",
      "wandb:         _step 32\n",
      "wandb:      _runtime 38\n",
      "wandb:    _timestamp 1600976000\n",
      "wandb: Run history:\n",
      "wandb:         loss █▃▁▂▁▁▁▁▁▁▁▁▁▁▁▁▁▁▁▁▁▁▁▁▁▁▁▁▁▁▁▁\n",
      "wandb:        _step ▁▁▁▂▂▂▂▃▃▃▃▃▄▄▄▄▅▅▅▅▆▆▆▆▆▇▇▇▇███\n",
      "wandb:     _runtime ▁▁▂▂▂▂▂▃▃▃▃▄▄▄▄▄▅▅▅▆▆▆▆▆▇▇▇▇▇███\n",
      "wandb:   _timestamp ▁▁▂▂▂▂▂▃▃▃▃▄▄▄▄▄▅▅▅▆▆▆▆▆▇▇▇▇▇███\n",
      "wandb: Synced 6 W&B file(s), 10 media file(s), 0 artifact file(s) and 5 other file(s)\n",
      "wandb: \n",
      "wandb: Synced bright-tree-124: https://wandb.ai/omegachysis/neural-cellular-automata/runs/1w5c9evs\n",
      "wandb: Tracking run with wandb version 0.10.2\n",
      "wandb: Run data is saved locally in wandb\\run-20200924_153320-3ut9wejp\n",
      "wandb: Syncing run atomic-thunder-125\n"
     ]
    },
    {
     "data": {
      "text/html": [
       "\n",
       "                Logging results to <a href=\"https://wandb.com\" target=\"_blank\">Weights & Biases</a> <a href=\"https://docs.wandb.com/integrations/jupyter.html\" target=\"_blank\">(Documentation)</a>.<br/>\n",
       "                Project page: <a href=\"https://wandb.ai/omegachysis/neural-cellular-automata\" target=\"_blank\">https://wandb.ai/omegachysis/neural-cellular-automata</a><br/>\n",
       "                Run page: <a href=\"https://wandb.ai/omegachysis/neural-cellular-automata/runs/3ut9wejp\" target=\"_blank\">https://wandb.ai/omegachysis/neural-cellular-automata/runs/3ut9wejp</a><br/>\n",
       "            "
      ],
      "text/plain": [
       "<IPython.core.display.HTML object>"
      ]
     },
     "metadata": {},
     "output_type": "display_data"
    },
    {
     "name": "stdout",
     "output_type": "stream",
     "text": [
      "\n",
      "Stopping due to time-out\n",
      "Time:  6.644018888473511 seconds\n",
      "Best loss:  0.29582492\n",
      "Stopping due to time-out\n",
      "Time:  6.259999990463257 seconds\n"
     ]
    },
    {
     "name": "stderr",
     "output_type": "stream",
     "text": [
      "wandb: Waiting for W&B process to finish, PID 3428\n",
      "wandb: Program ended successfully.\n"
     ]
    },
    {
     "name": "stdout",
     "output_type": "stream",
     "text": [
      "Best loss:  0.29582492\n",
      "Stopping early due to loss plateau...\n",
      "\n"
     ]
    },
    {
     "name": "stderr",
     "output_type": "stream",
     "text": [
      "wandb:                                                                                \n",
      "wandb: Find user logs for this run at: wandb\\run-20200924_153320-3ut9wejp\\logs\\debug.log\n",
      "wandb: Find internal logs for this run at: wandb\\run-20200924_153320-3ut9wejp\\logs\\debug-internal.log\n",
      "wandb: Run summary:\n",
      "wandb:          loss 0.30156323313713074\n",
      "wandb:         _step 14\n",
      "wandb:      _runtime 16\n",
      "wandb:    _timestamp 1600976021\n",
      "wandb: Run history:\n",
      "wandb:         loss ▁█████████████\n",
      "wandb:        _step ▁▂▂▃▃▄▄▅▅▆▆▇▇█\n",
      "wandb:     _runtime ▁▂▂▂▃▄▅▅▆▆▇▇██\n",
      "wandb:   _timestamp ▁▂▂▂▃▄▅▅▆▆▇▇██\n",
      "wandb: Synced 6 W&B file(s), 4 media file(s), 0 artifact file(s) and 3 other file(s)\n",
      "wandb: \n",
      "wandb: Synced atomic-thunder-125: https://wandb.ai/omegachysis/neural-cellular-automata/runs/3ut9wejp\n",
      "wandb: Tracking run with wandb version 0.10.2\n",
      "wandb: Run data is saved locally in wandb\\run-20200924_153341-26nzv265\n",
      "wandb: Syncing run fragrant-wood-126\n"
     ]
    },
    {
     "data": {
      "text/html": [
       "\n",
       "                Logging results to <a href=\"https://wandb.com\" target=\"_blank\">Weights & Biases</a> <a href=\"https://docs.wandb.com/integrations/jupyter.html\" target=\"_blank\">(Documentation)</a>.<br/>\n",
       "                Project page: <a href=\"https://wandb.ai/omegachysis/neural-cellular-automata\" target=\"_blank\">https://wandb.ai/omegachysis/neural-cellular-automata</a><br/>\n",
       "                Run page: <a href=\"https://wandb.ai/omegachysis/neural-cellular-automata/runs/26nzv265\" target=\"_blank\">https://wandb.ai/omegachysis/neural-cellular-automata/runs/26nzv265</a><br/>\n",
       "            "
      ],
      "text/plain": [
       "<IPython.core.display.HTML object>"
      ]
     },
     "metadata": {},
     "output_type": "display_data"
    },
    {
     "name": "stdout",
     "output_type": "stream",
     "text": [
      "\n",
      "Stopping due to time-out\n",
      "Time:  6.373965501785278 seconds\n",
      "Best loss:  0.028333055\n"
     ]
    }
   ],
   "source": [
    "import module1 as lib\n",
    "from importlib import reload\n",
    "reload(lib)\n",
    "\n",
    "for _ in range(5):\n",
    "    lib.run_once(\"randomized_3\", lib.Config().randomized())"
   ]
  },
  {
   "cell_type": "code",
   "execution_count": null,
   "metadata": {},
   "outputs": [],
   "source": []
  }
 ],
 "metadata": {
  "kernelspec": {
   "display_name": "Python 3",
   "language": "python",
   "name": "python3"
  },
  "language_info": {
   "codemirror_mode": {
    "name": "ipython",
    "version": 3
   },
   "file_extension": ".py",
   "mimetype": "text/x-python",
   "name": "python",
   "nbconvert_exporter": "python",
   "pygments_lexer": "ipython3",
   "version": "3.8.3"
  }
 },
 "nbformat": 4,
 "nbformat_minor": 4
}
