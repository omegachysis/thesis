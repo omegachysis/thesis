{
 "cells": [
  {
   "cell_type": "code",
   "execution_count": null,
   "metadata": {},
   "outputs": [],
   "source": [
    "import module1\n",
    "from importlib import reload\n",
    "import random\n",
    "reload(module1)\n",
    "\n",
    "def run_experiment(name, img_size, channel_count):\n",
    "    ca = module1.CellularAutomata(\n",
    "        img_size=img_size, \n",
    "        channel_count=channel_count,\n",
    "        layer_counts=[128],\n",
    "        perception_kernel=module1.sobel_state_kernel())\n",
    "    ca.noise_range = (0, 0) #(-0.1, 0.1)\n",
    "    ca.conserve_mass = False\n",
    "    ca.edge_strategy = module1.EdgeStrategy.MIRROR\n",
    "\n",
    "    x0 = lambda: ca.pointfilled(ca.constfilled(1.0), point_value=0.0)\n",
    "    xf = lambda: ca.bordered(ca.constfilled(1.0), border_value=0.0)\n",
    "    training = module1.init_training(ca, learning_rate=1.0e-4)\n",
    "\n",
    "    lifetime = 20\n",
    "    training.run(x0, xf, lifetime, max_seconds=30)\n",
    "    xs = training.do_sample_run(x0, xf, lifetime)\n",
    "    training.save(name, xs)\n",
    "    \n",
    "#results = {}\n",
    "irange = range(4,12)\n",
    "jrange = range(1,6)\n",
    "nrange = range(5)\n",
    "\n",
    "for i in irange:\n",
    "    for j in jrange:\n",
    "        for n in nrange:\n",
    "            name = f\"{i},{j},{n}\"\n",
    "            print(f\"\\nRunning experiment {name}\")\n",
    "            run_experiment(name, img_size=i, channel_count=j*3)\n",
    "            #if (i,j) not in results: results[(i,j)] = []\n",
    "            #results[(i,j)].append(res)"
   ]
  },
  {
   "cell_type": "code",
   "execution_count": 7,
   "metadata": {},
   "outputs": [
    {
     "name": "stdout",
     "output_type": "stream",
     "text": [
      "Mean of minimum losses across experiments:\n"
     ]
    },
    {
     "data": {
      "image/png": "[encoded data removed]",
      "text/plain": [
       "<Figure size 432x288 with 1 Axes>"
      ]
     },
     "metadata": {
      "needs_background": "light"
     },
     "output_type": "display_data"
    },
    {
     "name": "stdout",
     "output_type": "stream",
     "text": [
      "Mean of loss standard deviations:\n"
     ]
    },
    {
     "data": {
      "image/png": "[encoded data removed]",
      "text/plain": [
       "<Figure size 432x288 with 1 Axes>"
      ]
     },
     "metadata": {
      "needs_background": "light"
     },
     "output_type": "display_data"
    },
    {
     "name": "stdout",
     "output_type": "stream",
     "text": [
      "Mean of number of epochs in 30 secs:\n"
     ]
    },
    {
     "data": {
      "image/png": "[encoded data removed]",
      "text/plain": [
       "<Figure size 432x288 with 1 Axes>"
      ]
     },
     "metadata": {
      "needs_background": "light"
     },
     "output_type": "display_data"
    }
   ],
   "source": [
    "import numpy as np\n",
    "import matplotlib\n",
    "import matplotlib.pyplot as plt\n",
    "import glob\n",
    "import statistics as stats\n",
    "\n",
    "vals = np.zeros([len(irange), len(jrange)])\n",
    "\n",
    "print(\"Mean of minimum losses across experiments:\")\n",
    "for i in irange:\n",
    "    for j in jrange:\n",
    "        min_losses = []\n",
    "        for n in nrange:\n",
    "            with open(f\"./results/{i},{j},{n}_loss_hist.txt\", 'r') as f:\n",
    "                min_losses.append(min([float(loss.strip()) for loss in f.readlines()]))\n",
    "        vals[i-irange[0],j-jrange[0]] = stats.mean(min_losses)\n",
    "fig, ax = plt.subplots()\n",
    "im = ax.imshow(vals, cmap='jet')\n",
    "plt.show()\n",
    "\n",
    "print(\"Mean of loss standard deviations:\")\n",
    "for i in irange:\n",
    "    for j in jrange:\n",
    "        std_devs = []\n",
    "        for n in nrange:\n",
    "            with open(f\"./results/{i},{j},{n}_loss_hist.txt\", 'r') as f:\n",
    "                std_devs.append(stats.stdev([float(loss.strip()) for loss in f.readlines()]))\n",
    "        vals[i-irange[0],j-jrange[0]] = stats.mean(std_devs)\n",
    "fig, ax = plt.subplots()\n",
    "im = ax.imshow(vals, cmap='jet')\n",
    "plt.show()\n",
    "\n",
    "print(\"Mean of number of epochs in 30 secs:\")\n",
    "for i in irange:\n",
    "    for j in jrange:\n",
    "        lens = []\n",
    "        for n in nrange:\n",
    "            with open(f\"./results/{i},{j},{n}_loss_hist.txt\", 'r') as f:\n",
    "                lens.append(len([float(loss.strip()) for loss in f.readlines()]))\n",
    "        vals[i-irange[0],j-jrange[0]] = stats.mean(lens)\n",
    "fig, ax = plt.subplots()\n",
    "im = ax.imshow(vals, cmap='jet')\n",
    "plt.show()"
   ]
  },
  {
   "cell_type": "code",
   "execution_count": null,
   "metadata": {},
   "outputs": [],
   "source": []
  }
 ],
 "metadata": {
  "kernelspec": {
   "display_name": "Python 3",
   "language": "python",
   "name": "python3"
  },
  "language_info": {
   "codemirror_mode": {
    "name": "ipython",
    "version": 3
   },
   "file_extension": ".py",
   "mimetype": "text/x-python",
   "name": "python",
   "nbconvert_exporter": "python",
   "pygments_lexer": "ipython3",
   "version": "3.8.3"
  }
 },
 "nbformat": 4,
 "nbformat_minor": 4
}
