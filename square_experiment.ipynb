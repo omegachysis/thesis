{
 "cells": [
  {
   "cell_type": "code",
   "execution_count": null,
   "metadata": {},
   "outputs": [],
   "source": [
    "import module1\n",
    "from importlib import reload\n",
    "reload(module1)\n",
    "\n",
    "def run_experiment(img_size, channel_count):\n",
    "    ca = module1.CellularAutomata(\n",
    "        img_size=img_size, \n",
    "        channel_count=channel_count, \n",
    "        layer_counts=[512],\n",
    "        perception_kernel=module1.sobel_state_kernel())\n",
    "    lifetime = img_size * 2\n",
    "    ca.edge_strategy = module1.EdgeStrategy.MIRROR\n",
    "\n",
    "    x0 = ca.pointfilled\n",
    "    xf = lambda: ca.bordered(ca.constfilled(1.0), border_value=0.0)\n",
    "    training = module1.init_training(ca, do_load=False, learning_rate=1.0e-3)\n",
    "    training.show_sample_run(x0, xf, lifetime)\n",
    "\n",
    "    print(\"Training...\")\n",
    "    training.run(x0, xf, lifetime, target_loss=0, max_seconds=20)\n",
    "    training.show_sample_run(x0, xf, lifetime)\n",
    "    training.show_loss_history()\n",
    "    return training\n",
    "\n",
    "results = {}\n",
    "irange = range(4,12)\n",
    "jrange = range(4,12)\n",
    "\n",
    "for i in irange:\n",
    "    for j in jrange:\n",
    "        for n in range(20):\n",
    "            print(f\"Running experiment ({i},{j})...\")\n",
    "            res = run_experiment(img_size=i, channel_count=j)\n",
    "            if (i,j) not in results: results[(i,j)] = []\n",
    "            results[(i,j)].append(res)"
   ]
  },
  {
   "cell_type": "code",
   "execution_count": 13,
   "metadata": {},
   "outputs": [
    {
     "name": "stdout",
     "output_type": "stream",
     "text": [
      "RESULTS: \n"
     ]
    },
    {
     "data": {
      "image/png": "[encoded data removed]",
      "text/plain": [
       "<Figure size 432x288 with 1 Axes>"
      ]
     },
     "metadata": {
      "needs_background": "light"
     },
     "output_type": "display_data"
    }
   ],
   "source": [
    "import numpy as np\n",
    "import matplotlib\n",
    "import matplotlib.pyplot as plt\n",
    "\n",
    "print(\"RESULTS: \")\n",
    "\n",
    "vals = np.zeros([len(irange), len(jrange)])\n",
    "for k,v in results.items():\n",
    "    i,j = k\n",
    "    vals[i-irange[0],j-jrange[0]] = sum([len(vi.loss_hist) for vi in v]) / len(v)\n",
    "\n",
    "fig, ax = plt.subplots()\n",
    "im = ax.imshow(vals, cmap='jet')\n",
    "\n",
    "plt.show()"
   ]
  },
  {
   "cell_type": "code",
   "execution_count": null,
   "metadata": {},
   "outputs": [],
   "source": []
  }
 ],
 "metadata": {
  "kernelspec": {
   "display_name": "Python 3",
   "language": "python",
   "name": "python3"
  },
  "language_info": {
   "codemirror_mode": {
    "name": "ipython",
    "version": 3
   },
   "file_extension": ".py",
   "mimetype": "text/x-python",
   "name": "python",
   "nbconvert_exporter": "python",
   "pygments_lexer": "ipython3",
   "version": "3.8.3"
  }
 },
 "nbformat": 4,
 "nbformat_minor": 4
}
