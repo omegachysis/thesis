{
 "cells": [
  {
   "cell_type": "code",
   "execution_count": 1,
   "metadata": {},
   "outputs": [
    {
     "name": "stderr",
     "output_type": "stream",
     "text": [
      "wandb: Currently logged in as: omegachysis (use `wandb login --relogin` to force relogin)\n",
      "wandb: Tracking run with wandb version 0.10.2\n",
      "wandb: Run data is saved locally in wandb\\run-20200923_194100-apni1xgj\n",
      "wandb: Syncing run playful-glitter-14\n"
     ]
    },
    {
     "data": {
      "text/html": [
       "\n",
       "                Logging results to <a href=\"https://wandb.com\" target=\"_blank\">Weights & Biases</a> <a href=\"https://docs.wandb.com/integrations/jupyter.html\" target=\"_blank\">(Documentation)</a>.<br/>\n",
       "                Project page: <a href=\"https://wandb.ai/omegachysis/test\" target=\"_blank\">https://wandb.ai/omegachysis/test</a><br/>\n",
       "                Run page: <a href=\"https://wandb.ai/omegachysis/test/runs/apni1xgj\" target=\"_blank\">https://wandb.ai/omegachysis/test/runs/apni1xgj</a><br/>\n",
       "            "
      ],
      "text/plain": [
       "<IPython.core.display.HTML object>"
      ]
     },
     "metadata": {},
     "output_type": "display_data"
    },
    {
     "name": "stdout",
     "output_type": "stream",
     "text": [
      "\n",
      "32/32 [==============================] - 0s 2ms/step - loss: 3437.3596\n",
      "32/32 [==============================] - 0s 2ms/step - loss: 1914.3992\n",
      "32/32 [==============================] - 0s 2ms/step - loss: 909.1532\n",
      "32/32 [==============================] - 0s 2ms/step - loss: 333.1421\n",
      "32/32 [==============================] - 0s 2ms/step - loss: 85.9073\n",
      "32/32 [==============================] - 0s 2ms/step - loss: 14.4988\n",
      "32/32 [==============================] - 0s 2ms/step - loss: 1.5113\n",
      "32/32 [==============================] - 0s 2ms/step - loss: 0.1813\n",
      "32/32 [==============================] - 0s 2ms/step - loss: 0.1124\n",
      "32/32 [==============================] - 0s 2ms/step - loss: 0.1109\n"
     ]
    },
    {
     "name": "stderr",
     "output_type": "stream",
     "text": [
      "wandb: Waiting for W&B process to finish, PID 17552\n",
      "wandb: Program ended successfully.\n",
      "wandb: - 0.00MB of 0.00MB uploaded (0.00MB deduped)\r"
     ]
    },
    {
     "name": "stdout",
     "output_type": "stream",
     "text": [
      "\n"
     ]
    },
    {
     "name": "stderr",
     "output_type": "stream",
     "text": [
      "wandb:                                                                                \n",
      "wandb: Find user logs for this run at: wandb\\run-20200923_194100-apni1xgj\\logs\\debug.log\n",
      "wandb: Find internal logs for this run at: wandb\\run-20200923_194100-apni1xgj\\logs\\debug-internal.log\n",
      "wandb: Run summary:\n",
      "wandb:         loss 0.11087411642074585\n",
      "wandb:        _step 9\n",
      "wandb:     _runtime 4\n",
      "wandb:   _timestamp 1600904466\n",
      "wandb: Run history:\n",
      "wandb:         loss █▅▃▂▁▁▁▁▁▁\n",
      "wandb:        _step ▁▂▃▃▄▅▆▆▇█\n",
      "wandb:     _runtime ▁▁▁▁▁▁▁███\n",
      "wandb:   _timestamp ▁▁▁▁▁▁▁███\n",
      "wandb: Synced 5 W&B file(s), 0 media file(s), 0 artifact file(s) and 1 other file(s)\n",
      "wandb: \n",
      "wandb: Synced playful-glitter-14: https://wandb.ai/omegachysis/test/runs/apni1xgj\n",
      "wandb: Tracking run with wandb version 0.10.2\n",
      "wandb: Run data is saved locally in wandb\\run-20200923_194106-1e28ce5u\n",
      "wandb: Syncing run dutiful-vortex-15\n"
     ]
    },
    {
     "data": {
      "text/html": [
       "\n",
       "                Logging results to <a href=\"https://wandb.com\" target=\"_blank\">Weights & Biases</a> <a href=\"https://docs.wandb.com/integrations/jupyter.html\" target=\"_blank\">(Documentation)</a>.<br/>\n",
       "                Project page: <a href=\"https://wandb.ai/omegachysis/test\" target=\"_blank\">https://wandb.ai/omegachysis/test</a><br/>\n",
       "                Run page: <a href=\"https://wandb.ai/omegachysis/test/runs/1e28ce5u\" target=\"_blank\">https://wandb.ai/omegachysis/test/runs/1e28ce5u</a><br/>\n",
       "            "
      ],
      "text/plain": [
       "<IPython.core.display.HTML object>"
      ]
     },
     "metadata": {},
     "output_type": "display_data"
    },
    {
     "name": "stdout",
     "output_type": "stream",
     "text": [
      "\n",
      "32/32 [==============================] - 0s 2ms/step - loss: 3419.3076\n",
      "32/32 [==============================] - 0s 3ms/step - loss: 1884.3606\n",
      "32/32 [==============================] - 0s 2ms/step - loss: 888.8960\n",
      "32/32 [==============================] - 0s 4ms/step - loss: 331.4400\n",
      "32/32 [==============================] - 0s 3ms/step - loss: 87.1756\n",
      "32/32 [==============================] - 0s 3ms/step - loss: 14.2163\n",
      "32/32 [==============================] - 0s 3ms/step - loss: 1.5193\n",
      "32/32 [==============================] - 0s 4ms/step - loss: 0.2010\n",
      "32/32 [==============================] - 0s 3ms/step - loss: 0.1342\n",
      "32/32 [==============================] - 0s 3ms/step - loss: 0.1327\n"
     ]
    },
    {
     "data": {
      "text/plain": [
       "<module 'test_wandb' from 'E:\\\\Files\\\\Programming\\\\thesis\\\\test_wandb.py'>"
      ]
     },
     "execution_count": 1,
     "metadata": {},
     "output_type": "execute_result"
    }
   ],
   "source": [
    "import test_wandb\n",
    "from importlib import reload\n",
    "reload(test_wandb)"
   ]
  },
  {
   "cell_type": "code",
   "execution_count": null,
   "metadata": {},
   "outputs": [],
   "source": []
  }
 ],
 "metadata": {
  "kernelspec": {
   "display_name": "Python 3",
   "language": "python",
   "name": "python3"
  },
  "language_info": {
   "codemirror_mode": {
    "name": "ipython",
    "version": 3
   },
   "file_extension": ".py",
   "mimetype": "text/x-python",
   "name": "python",
   "nbconvert_exporter": "python",
   "pygments_lexer": "ipython3",
   "version": "3.8.3"
  }
 },
 "nbformat": 4,
 "nbformat_minor": 4
}
