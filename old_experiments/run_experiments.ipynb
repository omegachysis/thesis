{
 "cells": [
  {
   "cell_type": "code",
   "execution_count": 7,
   "metadata": {},
   "outputs": [
    {
     "name": "stderr",
     "output_type": "stream",
     "text": [
      "wandb: Waiting for W&B process to finish, PID 10824\n",
      "wandb: Program ended successfully.\n",
      "wandb: - 0.21MB of 0.21MB uploaded (0.00MB deduped)\r"
     ]
    },
    {
     "name": "stdout",
     "output_type": "stream",
     "text": [
      "\n"
     ]
    },
    {
     "name": "stderr",
     "output_type": "stream",
     "text": [
      "wandb:                                                                                \n",
      "wandb: Find user logs for this run at: wandb\\run-20200924_153832-1sib0mh6\\logs\\debug.log\n",
      "wandb: Find internal logs for this run at: wandb\\run-20200924_153832-1sib0mh6\\logs\\debug-internal.log\n",
      "wandb: Run summary:\n",
      "wandb:          loss 0.29936471581459045\n",
      "wandb:         _step 37\n",
      "wandb:      _runtime 75\n",
      "wandb:    _timestamp 1600976393\n",
      "wandb: Run history:\n",
      "wandb:         loss ▁████████████████████████████████████\n",
      "wandb:        _step ▁▁▁▂▂▂▂▂▃▃▃▃▃▄▄▄▄▄▅▅▅▅▅▅▆▆▆▆▆▇▇▇▇▇███\n",
      "wandb:     _runtime ▁▁▁▁▁▁▁▁▁▁▁▁▁▁▁▁▁▁▁▁▂▂▂▂▂▂▂▂▂▂▂▂▂▂▂▂█\n",
      "wandb:   _timestamp ▁▁▁▁▁▁▁▁▁▁▁▁▁▁▁▁▁▁▁▁▂▂▂▂▂▂▂▂▂▂▂▂▂▂▂▂█\n",
      "wandb: Synced 6 W&B file(s), 4 media file(s), 0 artifact file(s) and 2 other file(s)\n",
      "wandb: \n",
      "wandb: Synced lemon-forest-132: https://wandb.ai/omegachysis/neural-cellular-automata/runs/1sib0mh6\n",
      "wandb: Tracking run with wandb version 0.10.2\n",
      "wandb: Run data is saved locally in wandb\\run-20200924_153953-wd2jxonw\n",
      "wandb: Syncing run denim-sun-133\n"
     ]
    },
    {
     "data": {
      "text/html": [
       "\n",
       "                Logging results to <a href=\"https://wandb.com\" target=\"_blank\">Weights & Biases</a> <a href=\"https://docs.wandb.com/integrations/jupyter.html\" target=\"_blank\">(Documentation)</a>.<br/>\n",
       "                Project page: <a href=\"https://wandb.ai/omegachysis/neural-cellular-automata\" target=\"_blank\">https://wandb.ai/omegachysis/neural-cellular-automata</a><br/>\n",
       "                Run page: <a href=\"https://wandb.ai/omegachysis/neural-cellular-automata/runs/wd2jxonw\" target=\"_blank\">https://wandb.ai/omegachysis/neural-cellular-automata/runs/wd2jxonw</a><br/>\n",
       "            "
      ],
      "text/plain": [
       "<IPython.core.display.HTML object>"
      ]
     },
     "metadata": {},
     "output_type": "display_data"
    },
    {
     "name": "stdout",
     "output_type": "stream",
     "text": [
      "\n",
      "Stopping due to time-out\n",
      "Time:  6.1460020542144775 seconds\n",
      "Best loss:  0.026155615\n",
      "Stopping due to time-out\n",
      "Time:  6.124999523162842 seconds\n",
      "Best loss:  0.025735868\n",
      "Stopping due to time-out\n",
      "Time:  6.273997783660889 seconds\n"
     ]
    },
    {
     "name": "stderr",
     "output_type": "stream",
     "text": [
      "wandb: Waiting for W&B process to finish, PID 10860\n",
      "wandb: Program ended successfully.\n"
     ]
    },
    {
     "name": "stdout",
     "output_type": "stream",
     "text": [
      "Best loss:  0.025735868\n",
      "Stopping early due to loss plateau...\n",
      "\n"
     ]
    },
    {
     "name": "stderr",
     "output_type": "stream",
     "text": [
      "wandb:                                                                                \n",
      "wandb: Find user logs for this run at: wandb\\run-20200924_153953-wd2jxonw\\logs\\debug.log\n",
      "wandb: Find internal logs for this run at: wandb\\run-20200924_153953-wd2jxonw\\logs\\debug-internal.log\n",
      "wandb: Run summary:\n",
      "wandb:          loss 0.025763405486941338\n",
      "wandb:         _step 53\n",
      "wandb:      _runtime 22\n",
      "wandb:    _timestamp 1600976421\n",
      "wandb: Run history:\n",
      "wandb:         loss █▂▁▁▁▁▁▁▁▁▁▁▁▁▁▁▁▁▁▁▁▁▁▁▁▁▁▁▁▁▁▁▁▁▁▁▁▁▁▁\n",
      "wandb:        _step ▁▁▁▂▂▂▂▂▂▃▃▃▃▃▃▄▄▄▄▄▅▅▅▅▅▅▆▆▆▆▆▇▇▇▇▇▇███\n",
      "wandb:     _runtime ▁▁▁▂▂▂▂▂▂▃▃▃▃▃▄▄▄▄▅▅▅▅▅▅▆▆▆▆▆▆▆▆▆▇▇▇▇▇██\n",
      "wandb:   _timestamp ▁▁▁▂▂▂▂▂▂▃▃▃▃▃▄▄▄▄▅▅▅▅▅▅▆▆▆▆▆▆▆▆▆▇▇▇▇▇██\n",
      "wandb: Synced 6 W&B file(s), 6 media file(s), 0 artifact file(s) and 4 other file(s)\n",
      "wandb: \n",
      "wandb: Synced denim-sun-133: https://wandb.ai/omegachysis/neural-cellular-automata/runs/wd2jxonw\n",
      "wandb: Tracking run with wandb version 0.10.2\n",
      "wandb: Run data is saved locally in wandb\\run-20200924_154020-1n400b1b\n",
      "wandb: Syncing run hardy-pyramid-134\n"
     ]
    },
    {
     "data": {
      "text/html": [
       "\n",
       "                Logging results to <a href=\"https://wandb.com\" target=\"_blank\">Weights & Biases</a> <a href=\"https://docs.wandb.com/integrations/jupyter.html\" target=\"_blank\">(Documentation)</a>.<br/>\n",
       "                Project page: <a href=\"https://wandb.ai/omegachysis/neural-cellular-automata\" target=\"_blank\">https://wandb.ai/omegachysis/neural-cellular-automata</a><br/>\n",
       "                Run page: <a href=\"https://wandb.ai/omegachysis/neural-cellular-automata/runs/1n400b1b\" target=\"_blank\">https://wandb.ai/omegachysis/neural-cellular-automata/runs/1n400b1b</a><br/>\n",
       "            "
      ],
      "text/plain": [
       "<IPython.core.display.HTML object>"
      ]
     },
     "metadata": {},
     "output_type": "display_data"
    },
    {
     "name": "stdout",
     "output_type": "stream",
     "text": [
      "\n",
      "Stopping due to time-out\n",
      "Time:  6.071993589401245 seconds\n",
      "Best loss:  0.02787661\n",
      "Stopping due to time-out\n",
      "Time:  6.16499924659729 seconds\n",
      "Best loss:  0.025746474\n",
      "Stopping due to time-out\n",
      "Time:  6.259000778198242 seconds\n",
      "Best loss:  0.025698006\n",
      "Stopping due to time-out\n",
      "Time:  6.0838377475738525 seconds\n",
      "Best loss:  0.02568917\n",
      "Stopping due to time-out\n",
      "Time:  6.054027795791626 seconds\n"
     ]
    },
    {
     "name": "stderr",
     "output_type": "stream",
     "text": [
      "wandb: Waiting for W&B process to finish, PID 11820\n",
      "wandb: Program ended successfully.\n",
      "wandb: - 5.86MB of 5.86MB uploaded (0.00MB deduped)\r"
     ]
    },
    {
     "name": "stdout",
     "output_type": "stream",
     "text": [
      "Best loss:  0.02568917\n",
      "Stopping early due to loss plateau...\n",
      "\n"
     ]
    },
    {
     "name": "stderr",
     "output_type": "stream",
     "text": [
      "wandb:                                                                                \n",
      "wandb: Find user logs for this run at: wandb\\run-20200924_154020-1n400b1b\\logs\\debug.log\n",
      "wandb: Find internal logs for this run at: wandb\\run-20200924_154020-1n400b1b\\logs\\debug-internal.log\n",
      "wandb: Run summary:\n",
      "wandb:          loss 0.025738978758454323\n",
      "wandb:         _step 109\n",
      "wandb:      _runtime 34\n",
      "wandb:    _timestamp 1600976460\n",
      "wandb: Run history:\n",
      "wandb:         loss █▁▂▁▁▁▁▁▁▁▁▁▁▁▁▁▁▁▁▁▁▁▁▁▁▁▁▁▁▁▁▁▁▁▁▁▁▁▁▁\n",
      "wandb:        _step ▁▁▁▂▂▂▂▂▂▃▃▃▃▃▃▄▄▄▄▄▅▅▅▅▅▅▆▆▆▆▆▇▇▇▇▇▇███\n",
      "wandb:     _runtime ▁▁▁▁▂▂▂▂▂▃▃▃▃▃▄▄▄▄▄▄▅▅▅▅▅▆▆▆▆▆▆▇▇▇▇▇████\n",
      "wandb:   _timestamp ▁▁▁▁▂▂▂▂▂▃▃▃▃▃▄▄▄▄▄▄▅▅▅▅▅▆▆▆▆▆▆▇▇▇▇▇████\n",
      "wandb: Synced 6 W&B file(s), 10 media file(s), 0 artifact file(s) and 5 other file(s)\n",
      "wandb: \n",
      "wandb: Synced hardy-pyramid-134: https://wandb.ai/omegachysis/neural-cellular-automata/runs/1n400b1b\n",
      "wandb: Tracking run with wandb version 0.10.2\n",
      "wandb: Run data is saved locally in wandb\\run-20200924_154100-2tdumuv1\n",
      "wandb: Syncing run ancient-wood-135\n"
     ]
    },
    {
     "data": {
      "text/html": [
       "\n",
       "                Logging results to <a href=\"https://wandb.com\" target=\"_blank\">Weights & Biases</a> <a href=\"https://docs.wandb.com/integrations/jupyter.html\" target=\"_blank\">(Documentation)</a>.<br/>\n",
       "                Project page: <a href=\"https://wandb.ai/omegachysis/neural-cellular-automata\" target=\"_blank\">https://wandb.ai/omegachysis/neural-cellular-automata</a><br/>\n",
       "                Run page: <a href=\"https://wandb.ai/omegachysis/neural-cellular-automata/runs/2tdumuv1\" target=\"_blank\">https://wandb.ai/omegachysis/neural-cellular-automata/runs/2tdumuv1</a><br/>\n",
       "            "
      ],
      "text/plain": [
       "<IPython.core.display.HTML object>"
      ]
     },
     "metadata": {},
     "output_type": "display_data"
    },
    {
     "name": "stdout",
     "output_type": "stream",
     "text": [
      "\n",
      "Stopping due to time-out\n",
      "Time:  6.021023273468018 seconds\n",
      "Best loss:  0.025705522\n",
      "Stopping due to time-out\n",
      "Time:  6.013001441955566 seconds\n",
      "Best loss:  0.02552879\n",
      "Stopping due to time-out\n",
      "Time:  6.012012958526611 seconds\n",
      "Best loss:  0.024425318\n",
      "Stopping due to time-out\n",
      "Time:  6.05599308013916 seconds\n",
      "Best loss:  0.023192978\n",
      "Stopping due to time-out\n",
      "Time:  6.02100396156311 seconds\n",
      "Best loss: "
     ]
    },
    {
     "name": "stderr",
     "output_type": "stream",
     "text": [
      "wandb: Waiting for W&B process to finish, PID 9088\n",
      "wandb: Program ended successfully.\n"
     ]
    },
    {
     "name": "stdout",
     "output_type": "stream",
     "text": [
      " 0.0222442\n",
      "\n"
     ]
    },
    {
     "name": "stderr",
     "output_type": "stream",
     "text": [
      "wandb:                                                                                \n",
      "wandb: Find user logs for this run at: wandb\\run-20200924_154100-2tdumuv1\\logs\\debug.log\n",
      "wandb: Find internal logs for this run at: wandb\\run-20200924_154100-2tdumuv1\\logs\\debug-internal.log\n",
      "wandb: Run summary:\n",
      "wandb:          loss 0.022357098758220673\n",
      "wandb:         _step 304\n",
      "wandb:      _runtime 32\n",
      "wandb:    _timestamp 1600976498\n",
      "wandb: Run history:\n",
      "wandb:         loss █▂▁▁▁▁▁▁▁▁▁▁▁▁▁▁▁▁▁▁▁▁▁▁▁▁▁▁▁▁▁▁▁▁▁▁▁▁▁▁\n",
      "wandb:        _step ▁▁▁▁▂▂▂▂▂▃▃▃▃▃▃▄▄▄▄▄▅▅▅▅▅▅▆▆▆▆▆▇▇▇▇▇▇███\n",
      "wandb:     _runtime ▁▁▁▁▁▂▂▂▃▃▃▃▃▃▃▄▄▄▄▅▅▅▅▅▅▅▆▆▆▆▆▇▇▇▇▇▇███\n",
      "wandb:   _timestamp ▁▁▁▁▁▂▂▂▃▃▃▃▃▃▃▄▄▄▄▅▅▅▅▅▅▅▆▆▆▆▆▇▇▇▇▇▇███\n",
      "wandb: Synced 6 W&B file(s), 10 media file(s), 0 artifact file(s) and 6 other file(s)\n",
      "wandb: \n",
      "wandb: Synced ancient-wood-135: https://wandb.ai/omegachysis/neural-cellular-automata/runs/2tdumuv1\n",
      "wandb: Tracking run with wandb version 0.10.2\n",
      "wandb: Run data is saved locally in wandb\\run-20200924_154138-1sjsr6ss\n",
      "wandb: Syncing run clear-resonance-136\n"
     ]
    },
    {
     "data": {
      "text/html": [
       "\n",
       "                Logging results to <a href=\"https://wandb.com\" target=\"_blank\">Weights & Biases</a> <a href=\"https://docs.wandb.com/integrations/jupyter.html\" target=\"_blank\">(Documentation)</a>.<br/>\n",
       "                Project page: <a href=\"https://wandb.ai/omegachysis/neural-cellular-automata\" target=\"_blank\">https://wandb.ai/omegachysis/neural-cellular-automata</a><br/>\n",
       "                Run page: <a href=\"https://wandb.ai/omegachysis/neural-cellular-automata/runs/1sjsr6ss\" target=\"_blank\">https://wandb.ai/omegachysis/neural-cellular-automata/runs/1sjsr6ss</a><br/>\n",
       "            "
      ],
      "text/plain": [
       "<IPython.core.display.HTML object>"
      ]
     },
     "metadata": {},
     "output_type": "display_data"
    },
    {
     "name": "stdout",
     "output_type": "stream",
     "text": [
      "\n",
      "Stopping due to time-out\n",
      "Time:  6.155077934265137 seconds\n",
      "Best loss:  0.029091263\n",
      "Stopping due to time-out\n",
      "Time:  6.081978797912598 seconds\n"
     ]
    },
    {
     "name": "stderr",
     "output_type": "stream",
     "text": [
      "wandb: Waiting for W&B process to finish, PID 1904\n",
      "wandb: Program ended successfully.\n",
      "wandb: - 1.06MB of 1.06MB uploaded (0.00MB deduped)\r"
     ]
    },
    {
     "name": "stdout",
     "output_type": "stream",
     "text": [
      "Best loss:  0.029091263\n",
      "Stopping early due to loss plateau...\n",
      "\n"
     ]
    },
    {
     "name": "stderr",
     "output_type": "stream",
     "text": [
      "wandb:                                                                                \n",
      "wandb: Find user logs for this run at: wandb\\run-20200924_154138-1sjsr6ss\\logs\\debug.log\n",
      "wandb: Find internal logs for this run at: wandb\\run-20200924_154138-1sjsr6ss\\logs\\debug-internal.log\n",
      "wandb: Run summary:\n",
      "wandb:          loss 0.07629230618476868\n",
      "wandb:         _step 62\n",
      "wandb:      _runtime 14\n",
      "wandb:    _timestamp 1600976518\n",
      "wandb: Run history:\n",
      "wandb:         loss █▁▁▂▁▁▁▁▁▁▁▁▁▁▁▁▁▁▁▁▁▁▁▁▁▁▁▁▁▁▁▁▁▁▁▁▁▁▁▁\n",
      "wandb:        _step ▁▁▁▁▂▂▂▂▂▃▃▃▃▃▃▄▄▄▄▄▅▅▅▅▅▅▆▆▆▆▆▇▇▇▇▇▇███\n",
      "wandb:     _runtime ▁▂▂▂▂▂▂▂▂▃▃▃▃▄▄▄▄▄▄▅▅▅▅▅▅▅▅▆▆▆▆▇▇▇▇▇▇▇▇█\n",
      "wandb:   _timestamp ▁▂▂▂▂▂▂▂▂▃▃▃▃▄▄▄▄▄▄▅▅▅▅▅▅▅▅▆▆▆▆▇▇▇▇▇▇▇▇█\n",
      "wandb: Synced 6 W&B file(s), 4 media file(s), 0 artifact file(s) and 2 other file(s)\n",
      "wandb: \n",
      "wandb: Synced clear-resonance-136: https://wandb.ai/omegachysis/neural-cellular-automata/runs/1sjsr6ss\n",
      "wandb: Tracking run with wandb version 0.10.2\n",
      "wandb: Run data is saved locally in wandb\\run-20200924_154158-1y7kkwsb\n",
      "wandb: Syncing run solar-serenity-137\n"
     ]
    },
    {
     "data": {
      "text/html": [
       "\n",
       "                Logging results to <a href=\"https://wandb.com\" target=\"_blank\">Weights & Biases</a> <a href=\"https://docs.wandb.com/integrations/jupyter.html\" target=\"_blank\">(Documentation)</a>.<br/>\n",
       "                Project page: <a href=\"https://wandb.ai/omegachysis/neural-cellular-automata\" target=\"_blank\">https://wandb.ai/omegachysis/neural-cellular-automata</a><br/>\n",
       "                Run page: <a href=\"https://wandb.ai/omegachysis/neural-cellular-automata/runs/1y7kkwsb\" target=\"_blank\">https://wandb.ai/omegachysis/neural-cellular-automata/runs/1y7kkwsb</a><br/>\n",
       "            "
      ],
      "text/plain": [
       "<IPython.core.display.HTML object>"
      ]
     },
     "metadata": {},
     "output_type": "display_data"
    },
    {
     "name": "stdout",
     "output_type": "stream",
     "text": [
      "\n",
      "Stopping due to time-out\n",
      "Time:  6.035929918289185 seconds\n",
      "Best loss:  0.025900647\n",
      "Stopping due to time-out\n",
      "Time:  6.136525630950928 seconds\n",
      "Best loss:  0.025691174\n",
      "Stopping due to time-out\n",
      "Time:  6.071676731109619 seconds\n",
      "Best loss:  0.025684366\n",
      "Stopping due to time-out\n",
      "Time:  6.141049861907959 seconds\n",
      "Best loss:  0.025671571\n",
      "Stopping due to time-out\n",
      "Time:  6.175997734069824 seconds\n",
      "Best loss:  0.025659323\n"
     ]
    }
   ],
   "source": [
    "import module1 as lib\n",
    "from importlib import reload\n",
    "reload(lib)\n",
    "\n",
    "for _ in range(5):\n",
    "    config = lib.Config().randomized()\n",
    "    config.size = 20\n",
    "    config.num_channels = 3\n",
    "    lib.run_once(\"randomized_4\", config)"
   ]
  },
  {
   "cell_type": "code",
   "execution_count": null,
   "metadata": {},
   "outputs": [],
   "source": []
  }
 ],
 "metadata": {
  "kernelspec": {
   "display_name": "Python 3",
   "language": "python",
   "name": "python3"
  },
  "language_info": {
   "codemirror_mode": {
    "name": "ipython",
    "version": 3
   },
   "file_extension": ".py",
   "mimetype": "text/x-python",
   "name": "python",
   "nbconvert_exporter": "python",
   "pygments_lexer": "ipython3",
   "version": "3.8.3"
  }
 },
 "nbformat": 4,
 "nbformat_minor": 4
}
