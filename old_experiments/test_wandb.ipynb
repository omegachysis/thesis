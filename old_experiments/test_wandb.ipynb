{
 "cells": [
  {
   "cell_type": "code",
   "execution_count": 2,
   "metadata": {},
   "outputs": [
    {
     "name": "stderr",
     "output_type": "stream",
     "text": [
      "wandb: Tracking run with wandb version 0.10.2\n",
      "wandb: Run data is saved locally in wandb\\run-20200923_205907-amnx6v17\n",
      "wandb: Syncing run clear-sky-52\n"
     ]
    },
    {
     "data": {
      "text/html": [
       "\n",
       "                Logging results to <a href=\"https://wandb.com\" target=\"_blank\">Weights & Biases</a> <a href=\"https://docs.wandb.com/integrations/jupyter.html\" target=\"_blank\">(Documentation)</a>.<br/>\n",
       "                Project page: <a href=\"https://wandb.ai/omegachysis/test\" target=\"_blank\">https://wandb.ai/omegachysis/test</a><br/>\n",
       "                Run page: <a href=\"https://wandb.ai/omegachysis/test/runs/amnx6v17\" target=\"_blank\">https://wandb.ai/omegachysis/test/runs/amnx6v17</a><br/>\n",
       "            "
      ],
      "text/plain": [
       "<IPython.core.display.HTML object>"
      ]
     },
     "metadata": {},
     "output_type": "display_data"
    },
    {
     "name": "stdout",
     "output_type": "stream",
     "text": [
      "\n",
      "32/32 [==============================] - 0s 2ms/step - loss: 5246.8735\n",
      "32/32 [==============================] - 0s 2ms/step - loss: 4051.1650\n",
      "32/32 [==============================] - 0s 2ms/step - loss: 3131.5906\n",
      "32/32 [==============================] - 0s 2ms/step - loss: 2415.1531\n",
      "32/32 [==============================] - 0s 2ms/step - loss: 1834.8710\n",
      "32/32 [==============================] - 0s 2ms/step - loss: 1351.9930\n",
      "32/32 [==============================] - 0s 2ms/step - loss: 951.0567\n",
      "32/32 [==============================] - 0s 2ms/step - loss: 638.0118\n",
      "32/32 [==============================] - ETA: 0s - loss: 400.557 - 0s 2ms/step - loss: 400.5571\n",
      "32/32 [==============================] - 0s 2ms/step - loss: 235.7728\n"
     ]
    },
    {
     "name": "stderr",
     "output_type": "stream",
     "text": [
      "wandb: Waiting for W&B process to finish, PID 13488\n",
      "wandb: Program ended successfully.\n",
      "wandb: - 0.01MB of 0.01MB uploaded (0.00MB deduped)\r"
     ]
    },
    {
     "name": "stdout",
     "output_type": "stream",
     "text": [
      "\n"
     ]
    },
    {
     "name": "stderr",
     "output_type": "stream",
     "text": [
      "wandb:                                                                                \n",
      "wandb: Find user logs for this run at: wandb\\run-20200923_205907-amnx6v17\\logs\\debug.log\n",
      "wandb: Find internal logs for this run at: wandb\\run-20200923_205907-amnx6v17\\logs\\debug-internal.log\n",
      "wandb: Run summary:\n",
      "wandb:         loss 235.7727813720703\n",
      "wandb:        _step 9\n",
      "wandb:     _runtime 4\n",
      "wandb:   _timestamp 1600909153\n",
      "wandb: Run history:\n",
      "wandb:         loss █▆▅▄▃▃▂▂▁▁\n",
      "wandb:        _step ▁▂▃▃▄▅▆▆▇█\n",
      "wandb:     _runtime ▁▁▁███████\n",
      "wandb:   _timestamp ▁▁▁███████\n",
      "wandb: Synced 6 W&B file(s), 0 media file(s), 0 artifact file(s) and 1 other file(s)\n",
      "wandb: \n",
      "wandb: Synced clear-sky-52: https://wandb.ai/omegachysis/test/runs/amnx6v17\n",
      "wandb: Tracking run with wandb version 0.10.2\n",
      "wandb: Run data is saved locally in wandb\\run-20200923_205913-2b82eppl\n",
      "wandb: Syncing run valiant-dawn-53\n"
     ]
    },
    {
     "data": {
      "text/html": [
       "\n",
       "                Logging results to <a href=\"https://wandb.com\" target=\"_blank\">Weights & Biases</a> <a href=\"https://docs.wandb.com/integrations/jupyter.html\" target=\"_blank\">(Documentation)</a>.<br/>\n",
       "                Project page: <a href=\"https://wandb.ai/omegachysis/test\" target=\"_blank\">https://wandb.ai/omegachysis/test</a><br/>\n",
       "                Run page: <a href=\"https://wandb.ai/omegachysis/test/runs/2b82eppl\" target=\"_blank\">https://wandb.ai/omegachysis/test/runs/2b82eppl</a><br/>\n",
       "            "
      ],
      "text/plain": [
       "<IPython.core.display.HTML object>"
      ]
     },
     "metadata": {},
     "output_type": "display_data"
    },
    {
     "name": "stdout",
     "output_type": "stream",
     "text": [
      "\n",
      "32/32 [==============================] - 0s 2ms/step - loss: 6798.9014\n",
      "32/32 [==============================] - 0s 2ms/step - loss: 5211.2954\n",
      "32/32 [==============================] - 0s 2ms/step - loss: 3964.3430\n",
      "32/32 [==============================] - 0s 2ms/step - loss: 2949.2830\n",
      "32/32 [==============================] - 0s 2ms/step - loss: 2094.9597\n",
      "32/32 [==============================] - 0s 2ms/step - loss: 1396.8793\n",
      "32/32 [==============================] - 0s 2ms/step - loss: 859.9770\n",
      "32/32 [==============================] - 0s 2ms/step - loss: 483.1311\n",
      "32/32 [==============================] - 0s 1ms/step - loss: 241.7847\n",
      "32/32 [==============================] - 0s 2ms/step - loss: 105.8391\n"
     ]
    },
    {
     "name": "stderr",
     "output_type": "stream",
     "text": [
      "wandb: Waiting for W&B process to finish, PID 16144\n",
      "wandb: Program ended successfully.\n",
      "wandb: - 0.01MB of 0.01MB uploaded (0.00MB deduped)\r"
     ]
    },
    {
     "name": "stdout",
     "output_type": "stream",
     "text": [
      "\n"
     ]
    },
    {
     "name": "stderr",
     "output_type": "stream",
     "text": [
      "wandb:                                                                                \n",
      "wandb: Find user logs for this run at: wandb\\run-20200923_205913-2b82eppl\\logs\\debug.log\n",
      "wandb: Find internal logs for this run at: wandb\\run-20200923_205913-2b82eppl\\logs\\debug-internal.log\n",
      "wandb: Run summary:\n",
      "wandb:         loss 105.83905029296875\n",
      "wandb:        _step 9\n",
      "wandb:     _runtime 3\n",
      "wandb:   _timestamp 1600909162\n",
      "wandb: Run history:\n",
      "wandb:         loss █▆▅▄▃▂▂▁▁▁\n",
      "wandb:        _step ▁▂▃▃▄▅▆▆▇█\n",
      "wandb:     _runtime ▁▁▁▁██████\n",
      "wandb:   _timestamp ▁▁▁▁██████\n",
      "wandb: Synced 6 W&B file(s), 0 media file(s), 0 artifact file(s) and 1 other file(s)\n",
      "wandb: \n",
      "wandb: Synced valiant-dawn-53: https://wandb.ai/omegachysis/test/runs/2b82eppl\n",
      "wandb: Tracking run with wandb version 0.10.2\n",
      "wandb: Run data is saved locally in wandb\\run-20200923_205922-3vi71118\n",
      "wandb: Syncing run rosy-sun-54\n"
     ]
    },
    {
     "data": {
      "text/html": [
       "\n",
       "                Logging results to <a href=\"https://wandb.com\" target=\"_blank\">Weights & Biases</a> <a href=\"https://docs.wandb.com/integrations/jupyter.html\" target=\"_blank\">(Documentation)</a>.<br/>\n",
       "                Project page: <a href=\"https://wandb.ai/omegachysis/test\" target=\"_blank\">https://wandb.ai/omegachysis/test</a><br/>\n",
       "                Run page: <a href=\"https://wandb.ai/omegachysis/test/runs/3vi71118\" target=\"_blank\">https://wandb.ai/omegachysis/test/runs/3vi71118</a><br/>\n",
       "            "
      ],
      "text/plain": [
       "<IPython.core.display.HTML object>"
      ]
     },
     "metadata": {},
     "output_type": "display_data"
    },
    {
     "name": "stdout",
     "output_type": "stream",
     "text": [
      "\n",
      "32/32 [==============================] - 0s 1ms/step - loss: 1866.0543\n",
      "32/32 [==============================] - 0s 1ms/step - loss: 679.0981\n",
      "32/32 [==============================] - 0s 1ms/step - loss: 171.0112\n",
      "32/32 [==============================] - 0s 2ms/step - loss: 24.8563\n",
      "32/32 [==============================] - 0s 2ms/step - loss: 1.8275\n",
      "32/32 [==============================] - 0s 2ms/step - loss: 0.1010\n",
      "32/32 [==============================] - 0s 2ms/step - loss: 0.0619\n",
      "32/32 [==============================] - 0s 1ms/step - loss: 0.0615\n",
      "32/32 [==============================] - 0s 1ms/step - loss: 0.0610\n",
      "32/32 [==============================] - 0s 2ms/step - loss: 0.0604\n"
     ]
    },
    {
     "name": "stderr",
     "output_type": "stream",
     "text": [
      "wandb: Waiting for W&B process to finish, PID 11532\n",
      "wandb: Program ended successfully.\n",
      "wandb: - 0.01MB of 0.01MB uploaded (0.00MB deduped)\r"
     ]
    },
    {
     "name": "stdout",
     "output_type": "stream",
     "text": [
      "\n"
     ]
    },
    {
     "name": "stderr",
     "output_type": "stream",
     "text": [
      "wandb:                                                                                \n",
      "wandb: Find user logs for this run at: wandb\\run-20200923_205922-3vi71118\\logs\\debug.log\n",
      "wandb: Find internal logs for this run at: wandb\\run-20200923_205922-3vi71118\\logs\\debug-internal.log\n",
      "wandb: Run summary:\n",
      "wandb:         loss 0.06044162064790726\n",
      "wandb:        _step 9\n",
      "wandb:     _runtime 3\n",
      "wandb:   _timestamp 1600909171\n",
      "wandb: Run history:\n",
      "wandb:         loss █▄▂▁▁▁▁▁▁▁\n",
      "wandb:        _step ▁▂▃▃▄▅▆▆▇█\n",
      "wandb:     _runtime ▁▁▁▁██████\n",
      "wandb:   _timestamp ▁▁▁▁██████\n",
      "wandb: Synced 6 W&B file(s), 0 media file(s), 0 artifact file(s) and 1 other file(s)\n",
      "wandb: \n",
      "wandb: Synced rosy-sun-54: https://wandb.ai/omegachysis/test/runs/3vi71118\n",
      "wandb: Tracking run with wandb version 0.10.2\n",
      "wandb: Run data is saved locally in wandb\\run-20200923_205931-2zl86p43\n",
      "wandb: Syncing run major-bee-55\n"
     ]
    },
    {
     "data": {
      "text/html": [
       "\n",
       "                Logging results to <a href=\"https://wandb.com\" target=\"_blank\">Weights & Biases</a> <a href=\"https://docs.wandb.com/integrations/jupyter.html\" target=\"_blank\">(Documentation)</a>.<br/>\n",
       "                Project page: <a href=\"https://wandb.ai/omegachysis/test\" target=\"_blank\">https://wandb.ai/omegachysis/test</a><br/>\n",
       "                Run page: <a href=\"https://wandb.ai/omegachysis/test/runs/2zl86p43\" target=\"_blank\">https://wandb.ai/omegachysis/test/runs/2zl86p43</a><br/>\n",
       "            "
      ],
      "text/plain": [
       "<IPython.core.display.HTML object>"
      ]
     },
     "metadata": {},
     "output_type": "display_data"
    },
    {
     "name": "stdout",
     "output_type": "stream",
     "text": [
      "\n",
      "32/32 [==============================] - 0s 2ms/step - loss: 1269.0115\n",
      "32/32 [==============================] - 0s 1ms/step - loss: 358.9081\n",
      "32/32 [==============================] - 0s 2ms/step - loss: 51.0491\n",
      "32/32 [==============================] - 0s 3ms/step - loss: 2.1886\n",
      "32/32 [==============================] - 0s 2ms/step - loss: 0.0634\n",
      "32/32 [==============================] - 0s 2ms/step - loss: 0.0598\n",
      "32/32 [==============================] - 0s 2ms/step - loss: 0.0571\n",
      "32/32 [==============================] - 0s 2ms/step - loss: 0.0565\n",
      "32/32 [==============================] - 0s 1ms/step - loss: 0.0559\n",
      "32/32 [==============================] - 0s 2ms/step - loss: 0.0553\n"
     ]
    },
    {
     "name": "stderr",
     "output_type": "stream",
     "text": [
      "wandb: Waiting for W&B process to finish, PID 5144\n",
      "wandb: Program ended successfully.\n",
      "wandb: - 0.01MB of 0.01MB uploaded (0.00MB deduped)\r"
     ]
    },
    {
     "name": "stdout",
     "output_type": "stream",
     "text": [
      "\n"
     ]
    },
    {
     "name": "stderr",
     "output_type": "stream",
     "text": [
      "wandb:                                                                                \n",
      "wandb: Find user logs for this run at: wandb\\run-20200923_205931-2zl86p43\\logs\\debug.log\n",
      "wandb: Find internal logs for this run at: wandb\\run-20200923_205931-2zl86p43\\logs\\debug-internal.log\n",
      "wandb: Run summary:\n",
      "wandb:         loss 0.05527782067656517\n",
      "wandb:        _step 9\n",
      "wandb:     _runtime 3\n",
      "wandb:   _timestamp 1600909181\n",
      "wandb: Run history:\n",
      "wandb:         loss █▃▁▁▁▁▁▁▁▁\n",
      "wandb:        _step ▁▂▃▃▄▅▆▆▇█\n",
      "wandb:     _runtime ▁▁▁▁██████\n",
      "wandb:   _timestamp ▁▁▁▁██████\n",
      "wandb: Synced 6 W&B file(s), 0 media file(s), 0 artifact file(s) and 1 other file(s)\n",
      "wandb: \n",
      "wandb: Synced major-bee-55: https://wandb.ai/omegachysis/test/runs/2zl86p43\n"
     ]
    }
   ],
   "source": [
    "import test_wandb\n",
    "from importlib import reload\n",
    "reload(test_wandb)\n",
    "test_wandb.main()\n",
    "quit()"
   ]
  },
  {
   "cell_type": "code",
   "execution_count": null,
   "metadata": {},
   "outputs": [],
   "source": []
  }
 ],
 "metadata": {
  "kernelspec": {
   "display_name": "Python 3",
   "language": "python",
   "name": "python3"
  },
  "language_info": {
   "codemirror_mode": {
    "name": "ipython",
    "version": 3
   },
   "file_extension": ".py",
   "mimetype": "text/x-python",
   "name": "python",
   "nbconvert_exporter": "python",
   "pygments_lexer": "ipython3",
   "version": "3.8.3"
  }
 },
 "nbformat": 4,
 "nbformat_minor": 4
}
