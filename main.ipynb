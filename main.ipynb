{
 "cells": [
  {
   "cell_type": "code",
   "execution_count": 1,
   "metadata": {},
   "outputs": [
    {
     "name": "stderr",
     "output_type": "stream",
     "text": [
      "wandb: Currently logged in as: omegachysis (use `wandb login --relogin` to force relogin)\n",
      "c:\\users\\matthew a. robinson\\appdata\\local\\programs\\python\\python38\\lib\\site-packages\\IPython\\html.py:12: ShimWarning: The `IPython.html` package has been deprecated since IPython 4.0. You should import from `notebook` instead. `IPython.html.widgets` has moved to `ipywidgets`.\n",
      "  warn(\"The `IPython.html` package has been deprecated since IPython 4.0. \"\n"
     ]
    },
    {
     "data": {
      "text/html": [
       "\n",
       "                Tracking run with wandb version 0.10.10<br/>\n",
       "                Syncing run <strong style=\"color:#cdcd00\">swept-planet-681</strong> to <a href=\"https://wandb.ai\" target=\"_blank\">Weights & Biases</a> <a href=\"https://docs.wandb.com/integrations/jupyter.html\" target=\"_blank\">(Documentation)</a>.<br/>\n",
       "                Project page: <a href=\"https://wandb.ai/omegachysis/neural-cellular-automata\" target=\"_blank\">https://wandb.ai/omegachysis/neural-cellular-automata</a><br/>\n",
       "                Run page: <a href=\"https://wandb.ai/omegachysis/neural-cellular-automata/runs/16xvfmv9\" target=\"_blank\">https://wandb.ai/omegachysis/neural-cellular-automata/runs/16xvfmv9</a><br/>\n",
       "                Run data is saved locally in <code>E:\\Files\\Programming\\thesis\\wandb\\run-20201111_165805-16xvfmv9</code><br/><br/>\n",
       "            "
      ],
      "text/plain": [
       "<IPython.core.display.HTML object>"
      ]
     },
     "metadata": {},
     "output_type": "display_data"
    },
    {
     "name": "stdout",
     "output_type": "stream",
     "text": [
      "Model: \"sequential\"\n",
      "_________________________________________________________________\n",
      "Layer (type)                 Output Shape              Param #   \n",
      "=================================================================\n",
      "conv2d (Conv2D)              multiple                  16100     \n",
      "_________________________________________________________________\n",
      "conv2d_1 (Conv2D)            multiple                  5265      \n",
      "=================================================================\n",
      "Total params: 21,365\n",
      "Trainable params: 21,365\n",
      "Non-trainable params: 0\n",
      "_________________________________________________________________\n",
      "Target state:\n"
     ]
    },
    {
     "data": {
      "image/png": "[encoded data removed]",
      "text/plain": [
       "<IPython.core.display.Image object>"
      ]
     },
     "metadata": {},
     "output_type": "display_data"
    },
    {
     "name": "stdout",
     "output_type": "stream",
     "text": [
      "Lifetime:  8\n",
      "Target size:  4\n",
      "Stopping due to target loss\n",
      "Time:  2.4150023460388184 seconds\n",
      "Best loss:  0.0052633737\n",
      "Lifetime:  16\n",
      "Target size:  8\n",
      "Stopping due to target loss\n",
      "Time:  3.217000722885132 seconds\n",
      "Best loss:  0.0052633737\n",
      "Lifetime:  24\n",
      "Target size:  12\n",
      "Stopping due to target loss\n",
      "Time:  3.3730008602142334 seconds\n",
      "Best loss:  0.0052633737\n",
      "Lifetime:  32\n",
      "Target size:  16\n",
      "Stopping due to target loss\n",
      "Time:  10.934999465942383 seconds\n",
      "Best loss:  0.0052633737\n",
      "Lifetime:  40\n",
      "Target size:  20\n",
      "Stopping due to target loss\n",
      "Time:  7.902989149093628 seconds\n",
      "Best loss:  0.0052633737\n",
      "Lifetime:  48\n",
      "Target size:  24\n",
      "Stopping due to target loss\n",
      "Time:  11.085999250411987 seconds\n",
      "Best loss:  0.0052633737\n",
      "Lifetime:  56\n",
      "Target size:  28\n",
      "Stopping due to target loss\n",
      "Time:  9.874999761581421 seconds\n",
      "Best loss:  0.0052633737\n",
      "Lifetime:  64\n",
      "Target size:  32\n",
      "Stopping due to target loss\n",
      "Time:  15.231991052627563 seconds\n",
      "Best loss:  0.0052633737\n",
      "Total elapsed time: 66.7699785232544 seconds\n"
     ]
    },
    {
     "data": {
      "text/html": [
       "Finishing last run (ID:16xvfmv9) before initializing another..."
      ],
      "text/plain": [
       "<IPython.core.display.HTML object>"
      ]
     },
     "metadata": {},
     "output_type": "display_data"
    },
    {
     "data": {
      "text/html": [
       "<br/>Waiting for W&B process to finish, PID 8512<br/>Program ended successfully."
      ],
      "text/plain": [
       "<IPython.core.display.HTML object>"
      ]
     },
     "metadata": {},
     "output_type": "display_data"
    },
    {
     "data": {
      "text/html": [
       "Find user logs for this run at: <code>E:\\Files\\Programming\\thesis\\wandb\\run-20201111_165805-16xvfmv9\\logs\\debug.log</code>"
      ],
      "text/plain": [
       "<IPython.core.display.HTML object>"
      ]
     },
     "metadata": {},
     "output_type": "display_data"
    },
    {
     "data": {
      "text/html": [
       "Find internal logs for this run at: <code>E:\\Files\\Programming\\thesis\\wandb\\run-20201111_165805-16xvfmv9\\logs\\debug-internal.log</code>"
      ],
      "text/plain": [
       "<IPython.core.display.HTML object>"
      ]
     },
     "metadata": {},
     "output_type": "display_data"
    },
    {
     "data": {
      "text/html": [
       "<h3>Run summary:</h3><br/><style>\n",
       "    table.wandb td:nth-child(1) { padding: 0 10px; text-align: right }\n",
       "    </style><table class=\"wandb\">\n",
       "<tr><td>loss</td><td>0.00979</td></tr><tr><td>step</td><td>398</td></tr><tr><td>loss0</td><td>0.00979</td></tr><tr><td>_step</td><td>398</td></tr><tr><td>_runtime</td><td>70</td></tr><tr><td>_timestamp</td><td>1605131955</td></tr><tr><td>total_seconds</td><td>66.76998</td></tr></table>"
      ],
      "text/plain": [
       "<IPython.core.display.HTML object>"
      ]
     },
     "metadata": {},
     "output_type": "display_data"
    },
    {
     "data": {
      "text/html": [
       "<h3>Run history:</h3><br/><style>\n",
       "    table.wandb td:nth-child(1) { padding: 0 10px; text-align: right }\n",
       "    </style><table class=\"wandb\">\n",
       "<tr><td>loss</td><td>█▂▁▁▂▁▁▁▁▁▁▁▁▁▁▁▁▁▁▁▁▁▁▁▁▁▁▁▁▁▁▁▁▁▁▁▁▁▁▁</td></tr><tr><td>step</td><td>▁▁▁▁▂▂▂▂▂▃▃▃▃▃▃▄▄▄▄▄▅▅▅▅▅▅▆▆▆▆▆▇▇▇▇▇▇███</td></tr><tr><td>loss0</td><td>█▂▁▁▂▁▁▁▁▁▁▁▁▁▁▁▁▁▁▁▁▁▁▁▁▁▁▁▁▁▁▁▁▁▁▁▁▁▁▁</td></tr><tr><td>_step</td><td>▁▁▁▁▂▂▂▂▂▃▃▃▃▃▃▄▄▄▄▄▅▅▅▅▅▅▆▆▆▆▆▇▇▇▇▇▇███</td></tr><tr><td>_runtime</td><td>▁▁▁▁▁▁▁▁▂▂▂▂▂▂▂▃▃▃▃▃▃▄▄▄▄▄▅▅▅▅▅▆▆▆▇▇▇▇██</td></tr><tr><td>_timestamp</td><td>▁▁▁▁▁▁▁▁▂▂▂▂▂▂▂▃▃▃▃▃▃▄▄▄▄▄▅▅▅▅▅▆▆▆▇▇▇▇██</td></tr></table><br/>"
      ],
      "text/plain": [
       "<IPython.core.display.HTML object>"
      ]
     },
     "metadata": {},
     "output_type": "display_data"
    },
    {
     "data": {
      "text/html": [
       "Synced 6 W&B file(s), 18 media file(s), 0 artifact file(s) and 8 other file(s)"
      ],
      "text/plain": [
       "<IPython.core.display.HTML object>"
      ]
     },
     "metadata": {},
     "output_type": "display_data"
    },
    {
     "data": {
      "text/html": [
       "\n",
       "                    <br/>Synced <strong style=\"color:#cdcd00\">swept-planet-681</strong>: <a href=\"https://wandb.ai/omegachysis/neural-cellular-automata/runs/16xvfmv9\" target=\"_blank\">https://wandb.ai/omegachysis/neural-cellular-automata/runs/16xvfmv9</a><br/>\n",
       "                "
      ],
      "text/plain": [
       "<IPython.core.display.HTML object>"
      ]
     },
     "metadata": {},
     "output_type": "display_data"
    },
    {
     "data": {
      "text/html": [
       "...Successfully finished last run (ID:16xvfmv9). Initializing new run:<br/><br/>"
      ],
      "text/plain": [
       "<IPython.core.display.HTML object>"
      ]
     },
     "metadata": {},
     "output_type": "display_data"
    },
    {
     "data": {
      "text/html": [
       "\n",
       "                Tracking run with wandb version 0.10.10<br/>\n",
       "                Syncing run <strong style=\"color:#cdcd00\">deft-brook-682</strong> to <a href=\"https://wandb.ai\" target=\"_blank\">Weights & Biases</a> <a href=\"https://docs.wandb.com/integrations/jupyter.html\" target=\"_blank\">(Documentation)</a>.<br/>\n",
       "                Project page: <a href=\"https://wandb.ai/omegachysis/neural-cellular-automata\" target=\"_blank\">https://wandb.ai/omegachysis/neural-cellular-automata</a><br/>\n",
       "                Run page: <a href=\"https://wandb.ai/omegachysis/neural-cellular-automata/runs/18k31246\" target=\"_blank\">https://wandb.ai/omegachysis/neural-cellular-automata/runs/18k31246</a><br/>\n",
       "                Run data is saved locally in <code>E:\\Files\\Programming\\thesis\\wandb\\run-20201111_165915-18k31246</code><br/><br/>\n",
       "            "
      ],
      "text/plain": [
       "<IPython.core.display.HTML object>"
      ]
     },
     "metadata": {},
     "output_type": "display_data"
    },
    {
     "name": "stdout",
     "output_type": "stream",
     "text": [
      "Model: \"sequential_1\"\n",
      "_________________________________________________________________\n",
      "Layer (type)                 Output Shape              Param #   \n",
      "=================================================================\n",
      "conv2d_2 (Conv2D)            multiple                  16100     \n",
      "_________________________________________________________________\n",
      "conv2d_3 (Conv2D)            multiple                  5265      \n",
      "=================================================================\n",
      "Total params: 21,365\n",
      "Trainable params: 21,365\n",
      "Non-trainable params: 0\n",
      "_________________________________________________________________\n",
      "Target state:\n"
     ]
    },
    {
     "data": {
      "image/png": "[encoded data removed]",
      "text/plain": [
       "<IPython.core.display.Image object>"
      ]
     },
     "metadata": {},
     "output_type": "display_data"
    },
    {
     "name": "stdout",
     "output_type": "stream",
     "text": [
      "Lifetime:  8\n",
      "Target size:  4\n",
      "Stopping due to target loss\n",
      "Time:  2.178999900817871 seconds\n",
      "Best loss:  0.0055530122\n",
      "Lifetime:  16\n",
      "Target size:  8\n",
      "Stopping due to target loss\n",
      "Time:  4.307993412017822 seconds\n",
      "Best loss:  0.0055530122\n",
      "Lifetime:  24\n",
      "Target size:  12\n",
      "Stopping due to target loss\n",
      "Time:  8.388980627059937 seconds\n",
      "Best loss:  0.0055530122\n",
      "Lifetime:  32\n",
      "Target size:  16\n",
      "Stopping due to target loss\n",
      "Time:  14.996995210647583 seconds\n",
      "Best loss:  0.0055530122\n",
      "Lifetime:  40\n",
      "Target size:  20\n",
      "Stopping due to target loss\n",
      "Time:  15.535996198654175 seconds\n",
      "Best loss:  0.0055530122\n",
      "Lifetime:  48\n",
      "Target size:  24\n",
      "Stopping due to target loss\n",
      "Time:  18.18099880218506 seconds\n",
      "Best loss:  0.0055530122\n",
      "Lifetime:  56\n",
      "Target size:  28\n",
      "Stopping due to target loss\n",
      "Time:  18.22898554801941 seconds\n",
      "Best loss:  0.0055530122\n",
      "Lifetime:  64\n",
      "Target size:  32\n",
      "Stopping due to target loss\n",
      "Time:  20.469001531600952 seconds\n",
      "Best loss:  0.0055530122\n",
      "Total elapsed time: 105.0300087928772 seconds\n"
     ]
    },
    {
     "data": {
      "text/html": [
       "Finishing last run (ID:18k31246) before initializing another..."
      ],
      "text/plain": [
       "<IPython.core.display.HTML object>"
      ]
     },
     "metadata": {},
     "output_type": "display_data"
    },
    {
     "data": {
      "text/html": [
       "<br/>Waiting for W&B process to finish, PID 6748<br/>Program ended successfully."
      ],
      "text/plain": [
       "<IPython.core.display.HTML object>"
      ]
     },
     "metadata": {},
     "output_type": "display_data"
    },
    {
     "data": {
      "text/html": [
       "Find user logs for this run at: <code>E:\\Files\\Programming\\thesis\\wandb\\run-20201111_165915-18k31246\\logs\\debug.log</code>"
      ],
      "text/plain": [
       "<IPython.core.display.HTML object>"
      ]
     },
     "metadata": {},
     "output_type": "display_data"
    },
    {
     "data": {
      "text/html": [
       "Find internal logs for this run at: <code>E:\\Files\\Programming\\thesis\\wandb\\run-20201111_165915-18k31246\\logs\\debug-internal.log</code>"
      ],
      "text/plain": [
       "<IPython.core.display.HTML object>"
      ]
     },
     "metadata": {},
     "output_type": "display_data"
    },
    {
     "data": {
      "text/html": [
       "<h3>Run summary:</h3><br/><style>\n",
       "    table.wandb td:nth-child(1) { padding: 0 10px; text-align: right }\n",
       "    </style><table class=\"wandb\">\n",
       "<tr><td>loss</td><td>0.00899</td></tr><tr><td>step</td><td>654</td></tr><tr><td>loss0</td><td>0.00899</td></tr><tr><td>_step</td><td>654</td></tr><tr><td>_runtime</td><td>107</td></tr><tr><td>_timestamp</td><td>1605132065</td></tr><tr><td>total_seconds</td><td>105.03001</td></tr></table>"
      ],
      "text/plain": [
       "<IPython.core.display.HTML object>"
      ]
     },
     "metadata": {},
     "output_type": "display_data"
    },
    {
     "data": {
      "text/html": [
       "<h3>Run history:</h3><br/><style>\n",
       "    table.wandb td:nth-child(1) { padding: 0 10px; text-align: right }\n",
       "    </style><table class=\"wandb\">\n",
       "<tr><td>loss</td><td>█▁▇▂▁▁▇▄▂▂▁▇▄▂▂▁▂▁▁▄▂▂▁▁▅▂▁▂▂▁▄▂▁▁▁▄▂▂▂▁</td></tr><tr><td>step</td><td>▁▁▁▂▂▂▂▂▂▃▃▃▃▃▃▄▄▄▄▄▅▅▅▅▅▅▆▆▆▆▆▇▇▇▇▇▇███</td></tr><tr><td>loss0</td><td>█▁▇▂▁▁▇▄▂▂▁▇▄▂▂▁▂▁▁▄▂▂▁▁▅▂▁▂▂▁▄▂▁▁▁▄▂▂▂▁</td></tr><tr><td>_step</td><td>▁▁▁▂▂▂▂▂▂▃▃▃▃▃▃▄▄▄▄▄▅▅▅▅▅▅▆▆▆▆▆▇▇▇▇▇▇███</td></tr><tr><td>_runtime</td><td>▁▁▁▁▁▁▁▂▂▂▂▂▂▂▂▃▃▃▃▃▃▄▄▄▄▄▅▅▅▅▅▆▆▆▆▇▇▇██</td></tr><tr><td>_timestamp</td><td>▁▁▁▁▁▁▁▂▂▂▂▂▂▂▂▃▃▃▃▃▃▄▄▄▄▄▅▅▅▅▅▆▆▆▆▇▇▇██</td></tr></table><br/>"
      ],
      "text/plain": [
       "<IPython.core.display.HTML object>"
      ]
     },
     "metadata": {},
     "output_type": "display_data"
    },
    {
     "data": {
      "text/html": [
       "Synced 6 W&B file(s), 18 media file(s), 0 artifact file(s) and 8 other file(s)"
      ],
      "text/plain": [
       "<IPython.core.display.HTML object>"
      ]
     },
     "metadata": {},
     "output_type": "display_data"
    },
    {
     "data": {
      "text/html": [
       "\n",
       "                    <br/>Synced <strong style=\"color:#cdcd00\">deft-brook-682</strong>: <a href=\"https://wandb.ai/omegachysis/neural-cellular-automata/runs/18k31246\" target=\"_blank\">https://wandb.ai/omegachysis/neural-cellular-automata/runs/18k31246</a><br/>\n",
       "                "
      ],
      "text/plain": [
       "<IPython.core.display.HTML object>"
      ]
     },
     "metadata": {},
     "output_type": "display_data"
    },
    {
     "data": {
      "text/html": [
       "...Successfully finished last run (ID:18k31246). Initializing new run:<br/><br/>"
      ],
      "text/plain": [
       "<IPython.core.display.HTML object>"
      ]
     },
     "metadata": {},
     "output_type": "display_data"
    },
    {
     "data": {
      "text/html": [
       "\n",
       "                Tracking run with wandb version 0.10.10<br/>\n",
       "                Syncing run <strong style=\"color:#cdcd00\">lemon-field-683</strong> to <a href=\"https://wandb.ai\" target=\"_blank\">Weights & Biases</a> <a href=\"https://docs.wandb.com/integrations/jupyter.html\" target=\"_blank\">(Documentation)</a>.<br/>\n",
       "                Project page: <a href=\"https://wandb.ai/omegachysis/neural-cellular-automata\" target=\"_blank\">https://wandb.ai/omegachysis/neural-cellular-automata</a><br/>\n",
       "                Run page: <a href=\"https://wandb.ai/omegachysis/neural-cellular-automata/runs/3mpg55lm\" target=\"_blank\">https://wandb.ai/omegachysis/neural-cellular-automata/runs/3mpg55lm</a><br/>\n",
       "                Run data is saved locally in <code>E:\\Files\\Programming\\thesis\\wandb\\run-20201111_170105-3mpg55lm</code><br/><br/>\n",
       "            "
      ],
      "text/plain": [
       "<IPython.core.display.HTML object>"
      ]
     },
     "metadata": {},
     "output_type": "display_data"
    },
    {
     "name": "stdout",
     "output_type": "stream",
     "text": [
      "Model: \"sequential_2\"\n",
      "_________________________________________________________________\n",
      "Layer (type)                 Output Shape              Param #   \n",
      "=================================================================\n",
      "conv2d_4 (Conv2D)            multiple                  16100     \n",
      "_________________________________________________________________\n",
      "conv2d_5 (Conv2D)            multiple                  5265      \n",
      "=================================================================\n",
      "Total params: 21,365\n",
      "Trainable params: 21,365\n",
      "Non-trainable params: 0\n",
      "_________________________________________________________________\n",
      "Target state:\n"
     ]
    },
    {
     "data": {
      "image/png": "[encoded data removed]",
      "text/plain": [
       "<IPython.core.display.Image object>"
      ]
     },
     "metadata": {},
     "output_type": "display_data"
    },
    {
     "name": "stdout",
     "output_type": "stream",
     "text": [
      "Lifetime:  8\n",
      "Target size:  4\n",
      "Stopping due to target loss\n",
      "Time:  2.731998920440674 seconds\n",
      "Best loss:  0.008249664\n",
      "Lifetime:  16\n",
      "Target size:  8\n",
      "Stopping due to target loss\n",
      "Time:  4.840996026992798 seconds\n",
      "Best loss:  0.007246359\n",
      "Lifetime:  24\n",
      "Target size:  12\n",
      "Stopping due to target loss\n",
      "Time:  8.58600115776062 seconds\n",
      "Best loss:  0.007246359\n",
      "Lifetime:  32\n",
      "Target size:  16\n",
      "Stopping due to target loss\n",
      "Time:  16.3649959564209 seconds\n",
      "Best loss:  0.007246359\n",
      "Lifetime:  40\n",
      "Target size:  20\n",
      "Stopping due to target loss\n",
      "Time:  15.03199815750122 seconds\n",
      "Best loss:  0.007246359\n",
      "Lifetime:  48\n",
      "Target size:  24\n",
      "Stopping due to target loss\n",
      "Time:  22.1569926738739 seconds\n",
      "Best loss:  0.007246359\n",
      "Lifetime:  56\n",
      "Target size:  28\n",
      "Stopping due to target loss\n",
      "Time:  33.619999408721924 seconds\n",
      "Best loss:  0.007246359\n",
      "Lifetime:  64\n",
      "Target size:  32\n",
      "Stopping due to target loss\n",
      "Time:  31.487995862960815 seconds\n",
      "Best loss:  0.007246359\n",
      "Total elapsed time: 137.72300004959106 seconds\n"
     ]
    },
    {
     "data": {
      "text/html": [
       "Finishing last run (ID:3mpg55lm) before initializing another..."
      ],
      "text/plain": [
       "<IPython.core.display.HTML object>"
      ]
     },
     "metadata": {},
     "output_type": "display_data"
    },
    {
     "data": {
      "text/html": [
       "<br/>Waiting for W&B process to finish, PID 15140<br/>Program ended successfully."
      ],
      "text/plain": [
       "<IPython.core.display.HTML object>"
      ]
     },
     "metadata": {},
     "output_type": "display_data"
    },
    {
     "data": {
      "text/html": [
       "Find user logs for this run at: <code>E:\\Files\\Programming\\thesis\\wandb\\run-20201111_170105-3mpg55lm\\logs\\debug.log</code>"
      ],
      "text/plain": [
       "<IPython.core.display.HTML object>"
      ]
     },
     "metadata": {},
     "output_type": "display_data"
    },
    {
     "data": {
      "text/html": [
       "Find internal logs for this run at: <code>E:\\Files\\Programming\\thesis\\wandb\\run-20201111_170105-3mpg55lm\\logs\\debug-internal.log</code>"
      ],
      "text/plain": [
       "<IPython.core.display.HTML object>"
      ]
     },
     "metadata": {},
     "output_type": "display_data"
    },
    {
     "data": {
      "text/html": [
       "<h3>Run summary:</h3><br/><style>\n",
       "    table.wandb td:nth-child(1) { padding: 0 10px; text-align: right }\n",
       "    </style><table class=\"wandb\">\n",
       "<tr><td>loss</td><td>0.00952</td></tr><tr><td>step</td><td>788</td></tr><tr><td>loss0</td><td>0.01106</td></tr><tr><td>loss1</td><td>0.00799</td></tr><tr><td>_step</td><td>788</td></tr><tr><td>_runtime</td><td>140</td></tr><tr><td>_timestamp</td><td>1605132210</td></tr><tr><td>total_seconds</td><td>137.723</td></tr></table>"
      ],
      "text/plain": [
       "<IPython.core.display.HTML object>"
      ]
     },
     "metadata": {},
     "output_type": "display_data"
    },
    {
     "data": {
      "text/html": [
       "<h3>Run history:</h3><br/><style>\n",
       "    table.wandb td:nth-child(1) { padding: 0 10px; text-align: right }\n",
       "    </style><table class=\"wandb\">\n",
       "<tr><td>loss</td><td>█▁▇▂▁▄▂▂▁▄▂▂▁▁▁▁▂▂▁▁▃▂▁▁▁▁▂▁▁▁▁▁▁▁▂▁▁▁▁▁</td></tr><tr><td>step</td><td>▁▁▁▂▂▂▂▂▂▃▃▃▃▃▃▄▄▄▄▄▅▅▅▅▅▅▆▆▆▆▆▇▇▇▇▇▇███</td></tr><tr><td>loss0</td><td>█▁▇▃▁▄▂▂▁▃▂▂▁▁▁▁▂▂▁▁▃▂▁▁▁▁▂▂▁▁▁▁▁▁▂▂▁▁▁▁</td></tr><tr><td>loss1</td><td>█▁█▂▁▄▂▂▁▄▂▂▁▁▁▁▂▁▁▁▃▂▁▁▁▁▂▁▁▁▁▁▁▁▂▁▁▁▁▁</td></tr><tr><td>_step</td><td>▁▁▁▂▂▂▂▂▂▃▃▃▃▃▃▄▄▄▄▄▅▅▅▅▅▅▆▆▆▆▆▇▇▇▇▇▇███</td></tr><tr><td>_runtime</td><td>▁▁▁▁▁▁▁▂▂▂▂▂▂▂▂▃▃▃▃▃▄▄▄▄▄▅▅▅▅▅▆▆▆▆▇▇▇▇██</td></tr><tr><td>_timestamp</td><td>▁▁▁▁▁▁▁▂▂▂▂▂▂▂▂▃▃▃▃▃▄▄▄▄▄▅▅▅▅▅▆▆▆▆▇▇▇▇██</td></tr></table><br/>"
      ],
      "text/plain": [
       "<IPython.core.display.HTML object>"
      ]
     },
     "metadata": {},
     "output_type": "display_data"
    },
    {
     "data": {
      "text/html": [
       "Synced 6 W&B file(s), 18 media file(s), 0 artifact file(s) and 8 other file(s)"
      ],
      "text/plain": [
       "<IPython.core.display.HTML object>"
      ]
     },
     "metadata": {},
     "output_type": "display_data"
    },
    {
     "data": {
      "text/html": [
       "\n",
       "                    <br/>Synced <strong style=\"color:#cdcd00\">lemon-field-683</strong>: <a href=\"https://wandb.ai/omegachysis/neural-cellular-automata/runs/3mpg55lm\" target=\"_blank\">https://wandb.ai/omegachysis/neural-cellular-automata/runs/3mpg55lm</a><br/>\n",
       "                "
      ],
      "text/plain": [
       "<IPython.core.display.HTML object>"
      ]
     },
     "metadata": {},
     "output_type": "display_data"
    },
    {
     "data": {
      "text/html": [
       "...Successfully finished last run (ID:3mpg55lm). Initializing new run:<br/><br/>"
      ],
      "text/plain": [
       "<IPython.core.display.HTML object>"
      ]
     },
     "metadata": {},
     "output_type": "display_data"
    },
    {
     "data": {
      "text/html": [
       "\n",
       "                Tracking run with wandb version 0.10.10<br/>\n",
       "                Syncing run <strong style=\"color:#cdcd00\">apricot-thunder-684</strong> to <a href=\"https://wandb.ai\" target=\"_blank\">Weights & Biases</a> <a href=\"https://docs.wandb.com/integrations/jupyter.html\" target=\"_blank\">(Documentation)</a>.<br/>\n",
       "                Project page: <a href=\"https://wandb.ai/omegachysis/neural-cellular-automata\" target=\"_blank\">https://wandb.ai/omegachysis/neural-cellular-automata</a><br/>\n",
       "                Run page: <a href=\"https://wandb.ai/omegachysis/neural-cellular-automata/runs/32caen6a\" target=\"_blank\">https://wandb.ai/omegachysis/neural-cellular-automata/runs/32caen6a</a><br/>\n",
       "                Run data is saved locally in <code>E:\\Files\\Programming\\thesis\\wandb\\run-20201111_170330-32caen6a</code><br/><br/>\n",
       "            "
      ],
      "text/plain": [
       "<IPython.core.display.HTML object>"
      ]
     },
     "metadata": {},
     "output_type": "display_data"
    },
    {
     "name": "stdout",
     "output_type": "stream",
     "text": [
      "Model: \"sequential_3\"\n",
      "_________________________________________________________________\n",
      "Layer (type)                 Output Shape              Param #   \n",
      "=================================================================\n",
      "conv2d_6 (Conv2D)            multiple                  19250     \n",
      "_________________________________________________________________\n",
      "conv2d_7 (Conv2D)            multiple                  6318      \n",
      "=================================================================\n",
      "Total params: 25,568\n",
      "Trainable params: 25,568\n",
      "Non-trainable params: 0\n",
      "_________________________________________________________________\n",
      "Target state:\n"
     ]
    },
    {
     "data": {
      "image/png": "[encoded data removed]",
      "text/plain": [
       "<IPython.core.display.Image object>"
      ]
     },
     "metadata": {},
     "output_type": "display_data"
    },
    {
     "name": "stdout",
     "output_type": "stream",
     "text": [
      "Lifetime:  8\n",
      "Target size:  4\n",
      "Stopping due to target loss\n",
      "Time:  2.9399991035461426 seconds\n",
      "Best loss:  0.009639551\n",
      "Lifetime:  16\n",
      "Target size:  8\n",
      "Stopping due to target loss\n",
      "Time:  4.450990438461304 seconds\n",
      "Best loss:  0.008475552\n",
      "Lifetime:  24\n",
      "Target size:  12\n",
      "Stopping due to target loss\n",
      "Time:  7.384999513626099 seconds\n",
      "Best loss:  0.008475552\n",
      "Lifetime:  32\n",
      "Target size:  16\n",
      "Stopping due to target loss\n",
      "Time:  14.814000368118286 seconds\n",
      "Best loss:  0.008475552\n",
      "Lifetime:  40\n",
      "Target size:  20\n",
      "Stopping due to target loss\n",
      "Time:  17.6369891166687 seconds\n",
      "Best loss:  0.008475552\n",
      "Lifetime:  48\n",
      "Target size:  24\n",
      "Stopping due to target loss\n",
      "Time:  19.118996143341064 seconds\n",
      "Best loss:  0.008461946\n",
      "Lifetime:  56\n",
      "Target size:  28\n",
      "Stopping due to target loss\n",
      "Time:  23.85499906539917 seconds\n",
      "Best loss:  0.008461946\n",
      "Lifetime:  64\n",
      "Target size:  32\n",
      "Stopping due to target loss\n",
      "Time:  23.301970720291138 seconds\n",
      "Best loss:  0.008461946\n",
      "Total elapsed time: 116.73706269264221 seconds\n"
     ]
    }
   ],
   "source": [
    "from importlib import reload\n",
    "import main\n",
    "main = reload(main)\n",
    "main.main()"
   ]
  },
  {
   "cell_type": "code",
   "execution_count": 2,
   "metadata": {},
   "outputs": [
    {
     "data": {
      "text/html": [
       "<br/>Waiting for W&B process to finish, PID 4772<br/>Program ended successfully."
      ],
      "text/plain": [
       "<IPython.core.display.HTML object>"
      ]
     },
     "metadata": {},
     "output_type": "display_data"
    },
    {
     "data": {
      "text/html": [
       "Find user logs for this run at: <code>E:\\Files\\Programming\\thesis\\wandb\\run-20201111_170330-32caen6a\\logs\\debug.log</code>"
      ],
      "text/plain": [
       "<IPython.core.display.HTML object>"
      ]
     },
     "metadata": {},
     "output_type": "display_data"
    },
    {
     "data": {
      "text/html": [
       "Find internal logs for this run at: <code>E:\\Files\\Programming\\thesis\\wandb\\run-20201111_170330-32caen6a\\logs\\debug-internal.log</code>"
      ],
      "text/plain": [
       "<IPython.core.display.HTML object>"
      ]
     },
     "metadata": {},
     "output_type": "display_data"
    },
    {
     "data": {
      "text/html": [
       "<h3>Run summary:</h3><br/><style>\n",
       "    table.wandb td:nth-child(1) { padding: 0 10px; text-align: right }\n",
       "    </style><table class=\"wandb\">\n",
       "<tr><td>loss</td><td>0.00991</td></tr><tr><td>step</td><td>639</td></tr><tr><td>loss0</td><td>0.00888</td></tr><tr><td>loss1</td><td>0.01095</td></tr><tr><td>_step</td><td>639</td></tr><tr><td>_runtime</td><td>119</td></tr><tr><td>_timestamp</td><td>1605132332</td></tr><tr><td>total_seconds</td><td>116.73706</td></tr></table>"
      ],
      "text/plain": [
       "<IPython.core.display.HTML object>"
      ]
     },
     "metadata": {},
     "output_type": "display_data"
    },
    {
     "data": {
      "text/html": [
       "<h3>Run history:</h3><br/><style>\n",
       "    table.wandb td:nth-child(1) { padding: 0 10px; text-align: right }\n",
       "    </style><table class=\"wandb\">\n",
       "<tr><td>loss</td><td>█▁▃▁▁▄▂▁▁▁▂▁▁▁▁▁▂▁▁▁▁▁▁▁▁▁▁▁▂▁▁▁▁▁▁▁▁▁▁▁</td></tr><tr><td>step</td><td>▁▁▁▂▂▂▂▂▂▃▃▃▃▃▄▄▄▄▄▄▅▅▅▅▅▅▆▆▆▆▆▇▇▇▇▇▇███</td></tr><tr><td>loss0</td><td>█▁▂▂▁▃▂▁▁▁▁▁▁▁▁▁▁▁▁▁▁▁▁▁▁▁▁▁▂▁▁▁▁▁▁▁▁▁▁▁</td></tr><tr><td>loss1</td><td>█▁▃▁▁▅▂▁▁▁▂▁▁▁▁▁▂▁▁▁▁▁▁▁▁▁▁▁▂▁▁▁▁▁▁▁▁▁▁▁</td></tr><tr><td>_step</td><td>▁▁▁▂▂▂▂▂▂▃▃▃▃▃▃▄▄▄▄▄▅▅▅▅▅▅▆▆▆▆▆▆▇▇▇▇▇███</td></tr><tr><td>_runtime</td><td>▁▁▁▁▁▁▂▂▂▂▂▂▂▂▃▃▃▃▃▃▃▄▄▄▄▄▅▅▅▅▆▆▆▆▆▇▇▇██</td></tr><tr><td>_timestamp</td><td>▁▁▁▁▁▁▂▂▂▂▂▂▂▂▃▃▃▃▃▃▃▄▄▄▄▄▅▅▅▅▆▆▆▆▆▇▇▇██</td></tr></table><br/>"
      ],
      "text/plain": [
       "<IPython.core.display.HTML object>"
      ]
     },
     "metadata": {},
     "output_type": "display_data"
    },
    {
     "data": {
      "text/html": [
       "Synced 6 W&B file(s), 18 media file(s), 0 artifact file(s) and 8 other file(s)"
      ],
      "text/plain": [
       "<IPython.core.display.HTML object>"
      ]
     },
     "metadata": {},
     "output_type": "display_data"
    },
    {
     "data": {
      "text/html": [
       "\n",
       "                    <br/>Synced <strong style=\"color:#cdcd00\">apricot-thunder-684</strong>: <a href=\"https://wandb.ai/omegachysis/neural-cellular-automata/runs/32caen6a\" target=\"_blank\">https://wandb.ai/omegachysis/neural-cellular-automata/runs/32caen6a</a><br/>\n",
       "                "
      ],
      "text/plain": [
       "<IPython.core.display.HTML object>"
      ]
     },
     "metadata": {},
     "output_type": "display_data"
    }
   ],
   "source": [
    "quit()"
   ]
  },
  {
   "cell_type": "code",
   "execution_count": null,
   "metadata": {},
   "outputs": [],
   "source": [
    "from importlib import reload\n",
    "import bioinfo\n",
    "bioinfo = reload(bioinfo)\n",
    "bioinfo.main()"
   ]
  },
  {
   "cell_type": "code",
   "execution_count": null,
   "metadata": {},
   "outputs": [],
   "source": [
    "quit()"
   ]
  },
  {
   "cell_type": "code",
   "execution_count": null,
   "metadata": {},
   "outputs": [],
   "source": []
  }
 ],
 "metadata": {
  "kernelspec": {
   "display_name": "Python 3",
   "language": "python",
   "name": "python3"
  },
  "language_info": {
   "codemirror_mode": {
    "name": "ipython",
    "version": 3
   },
   "file_extension": ".py",
   "mimetype": "text/x-python",
   "name": "python",
   "nbconvert_exporter": "python",
   "pygments_lexer": "ipython3",
   "version": "3.8.3"
  }
 },
 "nbformat": 4,
 "nbformat_minor": 4
}
