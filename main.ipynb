{
 "cells": [
  {
   "cell_type": "code",
   "execution_count": 1,
   "metadata": {},
   "outputs": [
    {
     "name": "stderr",
     "output_type": "stream",
     "text": [
      "wandb: Currently logged in as: omegachysis (use `wandb login --relogin` to force relogin)\n",
      "wandb: wandb version 0.10.5 is available!  To upgrade, please run:\n",
      "wandb:  $ pip install wandb --upgrade\n",
      "wandb: Tracking run with wandb version 0.10.2\n",
      "wandb: Run data is saved locally in wandb\\run-20201007_212002-2y5or7z8\n",
      "wandb: Syncing run breezy-firefly-341\n"
     ]
    },
    {
     "data": {
      "text/html": [
       "\n",
       "                Logging results to <a href=\"https://wandb.com\" target=\"_blank\">Weights & Biases</a> <a href=\"https://docs.wandb.com/integrations/jupyter.html\" target=\"_blank\">(Documentation)</a>.<br/>\n",
       "                Project page: <a href=\"https://wandb.ai/omegachysis/neural-cellular-automata\" target=\"_blank\">https://wandb.ai/omegachysis/neural-cellular-automata</a><br/>\n",
       "                Run page: <a href=\"https://wandb.ai/omegachysis/neural-cellular-automata/runs/2y5or7z8\" target=\"_blank\">https://wandb.ai/omegachysis/neural-cellular-automata/runs/2y5or7z8</a><br/>\n",
       "            "
      ],
      "text/plain": [
       "<IPython.core.display.HTML object>"
      ]
     },
     "metadata": {},
     "output_type": "display_data"
    },
    {
     "name": "stdout",
     "output_type": "stream",
     "text": [
      "\n",
      "Stopping due to time-out\n",
      "Time:  30.359067678451538 seconds\n",
      "Best loss:  0.122369014\n",
      "Stopping due to time-out\n",
      "Time:  30.33600163459778 seconds\n",
      "Best loss:  0.08935491\n",
      "Stopping due to time-out\n",
      "Time:  30.134997367858887 seconds\n",
      "Best loss:  0.05156758\n",
      "Stopping due to time-out\n",
      "Time:  30.014994621276855 seconds\n",
      "Best loss:  0.037651554\n",
      "Stopping due to time-out\n",
      "Time:  30.510001182556152 seconds\n",
      "Best loss:  0.032315787\n",
      "Stopping due to time-out\n",
      "Time:  30.285996675491333 seconds\n",
      "Best loss:  0.028748447\n",
      "Stopping due to time-out\n",
      "Time:  30.07700514793396 seconds\n",
      "Best loss:  0.024169533\n",
      "Stopping due to time-out\n",
      "Time:  30.67599630355835 seconds\n",
      "Best loss:  0.023300683\n",
      "Stopping due to time-out\n",
      "Time:  30.320011615753174 seconds\n",
      "Best loss:  0.019219207\n",
      "Stopping due to time-out\n",
      "Time:  30.023998737335205 seconds\n",
      "Best loss:  0.018205283\n",
      "Stopping due to time-out\n",
      "Time:  30.16701602935791 seconds\n",
      "Best loss:  0.016846696\n",
      "Stopping due to time-out\n",
      "Time:  30.3039767742157 seconds\n",
      "Best loss:  0.015617969\n",
      "Stopping due to time-out\n",
      "Time:  30.535008430480957 seconds\n",
      "Best loss:  0.014183852\n",
      "Stopping due to time-out\n",
      "Time:  30.01199698448181 seconds\n",
      "Best loss:  0.012977101\n",
      "Stopping due to time-out\n",
      "Time:  30.37200093269348 seconds\n",
      "Best loss:  0.012647475\n",
      "Stopping due to time-out\n",
      "Time:  30.071005821228027 seconds\n",
      "Best loss:  0.011401434\n",
      "Stopping due to time-out\n",
      "Time:  30.446004390716553 seconds\n",
      "Best loss:  0.011401434\n",
      "Stopping due to zero loss\n",
      "Time:  18.283998012542725 seconds\n",
      "Best loss:  0.00952233\n",
      "Target loss reached, ending...\n"
     ]
    }
   ],
   "source": [
    "import main\n",
    "main.main()"
   ]
  },
  {
   "cell_type": "code",
   "execution_count": 2,
   "metadata": {},
   "outputs": [
    {
     "name": "stderr",
     "output_type": "stream",
     "text": [
      "wandb: Waiting for W&B process to finish, PID 9928\n",
      "wandb: Program ended successfully.\n",
      "wandb: - 42.19MB of 42.19MB uploaded (0.00MB deduped)\r"
     ]
    },
    {
     "name": "stdout",
     "output_type": "stream",
     "text": [
      "\n"
     ]
    },
    {
     "name": "stderr",
     "output_type": "stream",
     "text": [
      "wandb:                                                                                \n",
      "wandb: Find user logs for this run at: wandb\\run-20201007_212002-2y5or7z8\\logs\\debug.log\n",
      "wandb: Find internal logs for this run at: wandb\\run-20201007_212002-2y5or7z8\\logs\\debug-internal.log\n",
      "wandb: Run summary:\n",
      "wandb:          loss 0.00952233001589775\n",
      "wandb:         _step 875\n",
      "wandb:      _runtime 554\n",
      "wandb:    _timestamp 1602120558\n",
      "wandb: Run history:\n",
      "wandb:         loss █▃▂▂▂▂▁▁▁▁▁▁▁▁▁▁▁▁▁▁▁▁▁▁▁▁▁▁▁▁▁▁▁▁▁▁▁▁▁▁\n",
      "wandb:        _step ▁▁▁▂▂▂▂▂▂▃▃▃▃▃▃▄▄▄▄▄▅▅▅▅▅▅▆▆▆▆▆▇▇▇▇▇▇███\n",
      "wandb:     _runtime ▁▁▁▁▂▂▂▂▂▃▃▃▃▃▃▄▄▄▄▄▅▅▅▅▅▅▆▆▆▆▆▇▇▇▇▇▇███\n",
      "wandb:   _timestamp ▁▁▁▁▂▂▂▂▂▃▃▃▃▃▃▄▄▄▄▄▅▅▅▅▅▅▆▆▆▆▆▇▇▇▇▇▇███\n",
      "wandb: Synced 6 W&B file(s), 36 media file(s), 0 artifact file(s) and 18 other file(s)\n",
      "wandb: \n",
      "wandb: Synced breezy-firefly-341: https://wandb.ai/omegachysis/neural-cellular-automata/runs/2y5or7z8\n"
     ]
    }
   ],
   "source": [
    "quit()"
   ]
  },
  {
   "cell_type": "code",
   "execution_count": null,
   "metadata": {},
   "outputs": [],
   "source": []
  }
 ],
 "metadata": {
  "kernelspec": {
   "display_name": "Python 3",
   "language": "python",
   "name": "python3"
  },
  "language_info": {
   "codemirror_mode": {
    "name": "ipython",
    "version": 3
   },
   "file_extension": ".py",
   "mimetype": "text/x-python",
   "name": "python",
   "nbconvert_exporter": "python",
   "pygments_lexer": "ipython3",
   "version": "3.8.3"
  }
 },
 "nbformat": 4,
 "nbformat_minor": 4
}
