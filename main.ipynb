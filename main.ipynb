{
 "cells": [
  {
   "cell_type": "code",
   "execution_count": 1,
   "metadata": {},
   "outputs": [
    {
     "name": "stderr",
     "output_type": "stream",
     "text": [
      "wandb: Currently logged in as: omegachysis (use `wandb login --relogin` to force relogin)\n",
      "wandb: wandb version 0.10.7 is available!  To upgrade, please run:\n",
      "wandb:  $ pip install wandb --upgrade\n",
      "wandb: Tracking run with wandb version 0.10.2\n",
      "wandb: Run data is saved locally in wandb\\run-20201020_132627-2te9fr7b\n",
      "wandb: Syncing run spring-dust-402\n"
     ]
    },
    {
     "data": {
      "text/html": [
       "\n",
       "                Logging results to <a href=\"https://wandb.com\" target=\"_blank\">Weights & Biases</a> <a href=\"https://docs.wandb.com/integrations/jupyter.html\" target=\"_blank\">(Documentation)</a>.<br/>\n",
       "                Project page: <a href=\"https://wandb.ai/omegachysis/neural-cellular-automata\" target=\"_blank\">https://wandb.ai/omegachysis/neural-cellular-automata</a><br/>\n",
       "                Run page: <a href=\"https://wandb.ai/omegachysis/neural-cellular-automata/runs/2te9fr7b\" target=\"_blank\">https://wandb.ai/omegachysis/neural-cellular-automata/runs/2te9fr7b</a><br/>\n",
       "            "
      ],
      "text/plain": [
       "<IPython.core.display.HTML object>"
      ]
     },
     "metadata": {},
     "output_type": "display_data"
    },
    {
     "name": "stdout",
     "output_type": "stream",
     "text": [
      "\n",
      "Stopping due to time-out\n",
      "Time:  12.173000574111938 seconds\n",
      "Best loss:  0.022965623\n",
      "Stopping due to time-out\n",
      "Time:  12.147002935409546 seconds\n",
      "Best loss:  0.014535391\n",
      "Stopping due to time-out\n",
      "Time:  12.00700068473816 seconds\n",
      "Best loss:  0.005063323\n",
      "Stopping due to time-out\n",
      "Time:  12.174002647399902 seconds\n",
      "Best loss:  0.0019372359\n",
      "Stopping due to time-out\n",
      "Time:  12.154004335403442 seconds\n",
      "Best loss:  0.0013592886\n"
     ]
    }
   ],
   "source": [
    "import main\n",
    "main.main()"
   ]
  },
  {
   "cell_type": "code",
   "execution_count": 2,
   "metadata": {},
   "outputs": [
    {
     "name": "stderr",
     "output_type": "stream",
     "text": [
      "wandb: Waiting for W&B process to finish, PID 12500\n",
      "wandb: Program ended successfully.\n"
     ]
    },
    {
     "name": "stdout",
     "output_type": "stream",
     "text": [
      "\n"
     ]
    },
    {
     "name": "stderr",
     "output_type": "stream",
     "text": [
      "wandb:                                                                                \n",
      "wandb: Find user logs for this run at: wandb\\run-20201020_132627-2te9fr7b\\logs\\debug.log\n",
      "wandb: Find internal logs for this run at: wandb\\run-20201020_132627-2te9fr7b\\logs\\debug-internal.log\n",
      "wandb: Run summary:\n",
      "wandb:          loss 0.0016574598848819733\n",
      "wandb:         _step 254\n",
      "wandb:      _runtime 66\n",
      "wandb:    _timestamp 1603214855\n",
      "wandb: Run history:\n",
      "wandb:         loss █▁▁▁▁▁▁▁▁▁▁▁▁▁▁▁▁▁▁▁▁▁▁▁▁▁▁▁▁▁▁▁▁▁▁▁▁▁▁▁\n",
      "wandb:        _step ▁▁▁▁▂▂▂▂▂▃▃▃▃▃▃▄▄▄▄▄▅▅▅▅▅▅▆▆▆▆▆▇▇▇▇▇▇███\n",
      "wandb:     _runtime ▁▁▁▁▂▂▂▂▂▂▃▃▃▃▃▄▄▄▄▄▄▅▅▅▅▅▅▆▆▆▆▆▇▇▇▇▇███\n",
      "wandb:   _timestamp ▁▁▁▁▂▂▂▂▂▂▃▃▃▃▃▄▄▄▄▄▄▅▅▅▅▅▅▆▆▆▆▆▇▇▇▇▇███\n",
      "wandb: Synced 6 W&B file(s), 10 media file(s), 0 artifact file(s) and 5 other file(s)\n",
      "wandb: \n",
      "wandb: Synced spring-dust-402: https://wandb.ai/omegachysis/neural-cellular-automata/runs/2te9fr7b\n"
     ]
    }
   ],
   "source": [
    "quit()"
   ]
  },
  {
   "cell_type": "code",
   "execution_count": null,
   "metadata": {},
   "outputs": [],
   "source": []
  }
 ],
 "metadata": {
  "kernelspec": {
   "display_name": "Python 3",
   "language": "python",
   "name": "python3"
  },
  "language_info": {
   "codemirror_mode": {
    "name": "ipython",
    "version": 3
   },
   "file_extension": ".py",
   "mimetype": "text/x-python",
   "name": "python",
   "nbconvert_exporter": "python",
   "pygments_lexer": "ipython3",
   "version": "3.8.3"
  }
 },
 "nbformat": 4,
 "nbformat_minor": 4
}
