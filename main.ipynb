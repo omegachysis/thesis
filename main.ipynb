{
 "cells": [
  {
   "cell_type": "code",
   "execution_count": null,
   "metadata": {},
   "outputs": [
    {
     "name": "stderr",
     "output_type": "stream",
     "text": [
      "wandb: Currently logged in as: omegachysis (use `wandb login --relogin` to force relogin)\n",
      "c:\\users\\matthew a. robinson\\appdata\\local\\programs\\python\\python38\\lib\\site-packages\\IPython\\html.py:12: ShimWarning: The `IPython.html` package has been deprecated since IPython 4.0. You should import from `notebook` instead. `IPython.html.widgets` has moved to `ipywidgets`.\n",
      "  warn(\"The `IPython.html` package has been deprecated since IPython 4.0. \"\n",
      "wandb: wandb version 0.10.17 is available!  To upgrade, please run:\n",
      "wandb:  $ pip install wandb --upgrade\n"
     ]
    },
    {
     "data": {
      "text/html": [
       "\n",
       "                Tracking run with wandb version 0.10.10<br/>\n",
       "                Syncing run <strong style=\"color:#cdcd00\">rose-totem-4261</strong> to <a href=\"https://wandb.ai\" target=\"_blank\">Weights & Biases</a> <a href=\"https://docs.wandb.com/integrations/jupyter.html\" target=\"_blank\">(Documentation)</a>.<br/>\n",
       "                Project page: <a href=\"https://wandb.ai/omegachysis/neural-cellular-automata\" target=\"_blank\">https://wandb.ai/omegachysis/neural-cellular-automata</a><br/>\n",
       "                Run page: <a href=\"https://wandb.ai/omegachysis/neural-cellular-automata/runs/3vp7lcs1\" target=\"_blank\">https://wandb.ai/omegachysis/neural-cellular-automata/runs/3vp7lcs1</a><br/>\n",
       "                Run data is saved locally in <code>E:\\Files\\Programming\\thesis\\wandb\\run-20210206_232546-3vp7lcs1</code><br/><br/>\n",
       "            "
      ],
      "text/plain": [
       "<IPython.core.display.HTML object>"
      ]
     },
     "metadata": {},
     "output_type": "display_data"
    },
    {
     "name": "stdout",
     "output_type": "stream",
     "text": [
      "Model: \"sequential\"\n",
      "_________________________________________________________________\n",
      "Layer (type)                 Output Shape              Param #   \n",
      "=================================================================\n",
      "conv2d (Conv2D)              multiple                  11776     \n",
      "_________________________________________________________________\n",
      "conv2d_1 (Conv2D)            multiple                  3855      \n",
      "=================================================================\n",
      "Total params: 15,631\n",
      "Trainable params: 15,631\n",
      "Non-trainable params: 0\n",
      "_________________________________________________________________\n",
      "Target state:\n"
     ]
    },
    {
     "data": {
      "image/png": "[encoded data removed]",
      "text/plain": [
       "<IPython.core.display.Image object>"
      ]
     },
     "metadata": {},
     "output_type": "display_data"
    },
    {
     "name": "stdout",
     "output_type": "stream",
     "text": [
      "Window size:  60\n",
      "Lifetime:  70\n"
     ]
    }
   ],
   "source": [
    "from importlib import reload\n",
    "import main\n",
    "main = reload(main)\n",
    "main.main()"
   ]
  },
  {
   "cell_type": "code",
   "execution_count": null,
   "metadata": {},
   "outputs": [],
   "source": [
    "quit()"
   ]
  },
  {
   "cell_type": "code",
   "execution_count": null,
   "metadata": {},
   "outputs": [],
   "source": [
    "from importlib import reload\n",
    "import bioinfo\n",
    "bioinfo = reload(bioinfo)\n",
    "bioinfo.main()"
   ]
  },
  {
   "cell_type": "code",
   "execution_count": null,
   "metadata": {},
   "outputs": [],
   "source": [
    "quit()"
   ]
  },
  {
   "cell_type": "code",
   "execution_count": null,
   "metadata": {},
   "outputs": [],
   "source": [
    "from importlib import reload\n",
    "from yeast_abm import yeast_model\n",
    "yeast_model = reload(yeast_model)\n",
    "model = yeast_model.main()"
   ]
  },
  {
   "cell_type": "code",
   "execution_count": null,
   "metadata": {},
   "outputs": [],
   "source": [
    "quit()"
   ]
  }
 ],
 "metadata": {
  "kernelspec": {
   "display_name": "Python 3",
   "language": "python",
   "name": "python3"
  },
  "language_info": {
   "codemirror_mode": {
    "name": "ipython",
    "version": 3
   },
   "file_extension": ".py",
   "mimetype": "text/x-python",
   "name": "python",
   "nbconvert_exporter": "python",
   "pygments_lexer": "ipython3",
   "version": "3.8.3"
  }
 },
 "nbformat": 4,
 "nbformat_minor": 4
}
