{
 "cells": [
  {
   "cell_type": "code",
   "execution_count": null,
   "metadata": {},
   "outputs": [],
   "source": [
    "from importlib import reload\n",
    "import main\n",
    "main = reload(main)\n",
    "main.main()"
   ]
  },
  {
   "cell_type": "code",
   "execution_count": null,
   "metadata": {},
   "outputs": [],
   "source": [
    "quit()"
   ]
  },
  {
   "cell_type": "code",
   "execution_count": 1,
   "metadata": {},
   "outputs": [
    {
     "name": "stderr",
     "output_type": "stream",
     "text": [
      "wandb: Currently logged in as: omegachysis (use `wandb login --relogin` to force relogin)\n",
      "wandb: wandb version 0.10.7 is available!  To upgrade, please run:\n",
      "wandb:  $ pip install wandb --upgrade\n",
      "wandb: Tracking run with wandb version 0.10.2\n",
      "wandb: Run data is saved locally in wandb\\run-20201021_111505-3ofujp0c\n",
      "wandb: Syncing run dulcet-blaze-8\n"
     ]
    },
    {
     "data": {
      "text/html": [
       "\n",
       "                Logging results to <a href=\"https://wandb.com\" target=\"_blank\">Weights & Biases</a> <a href=\"https://docs.wandb.com/integrations/jupyter.html\" target=\"_blank\">(Documentation)</a>.<br/>\n",
       "                Project page: <a href=\"https://wandb.ai/omegachysis/neural-ca-bioinfo\" target=\"_blank\">https://wandb.ai/omegachysis/neural-ca-bioinfo</a><br/>\n",
       "                Run page: <a href=\"https://wandb.ai/omegachysis/neural-ca-bioinfo/runs/3ofujp0c\" target=\"_blank\">https://wandb.ai/omegachysis/neural-ca-bioinfo/runs/3ofujp0c</a><br/>\n",
       "            "
      ],
      "text/plain": [
       "<IPython.core.display.HTML object>"
      ]
     },
     "metadata": {},
     "output_type": "display_data"
    },
    {
     "name": "stdout",
     "output_type": "stream",
     "text": [
      "\n",
      "Stopping due to time-out\n",
      "Time:  20.038992643356323 seconds\n",
      "Best loss:  0.060058918\n",
      "Stopping due to time-out\n",
      "Time:  20.020994424819946 seconds\n",
      "Best loss:  0.056058496\n",
      "Stopping due to time-out\n",
      "Time:  20.007002592086792 seconds\n",
      "Best loss:  0.055003624\n"
     ]
    }
   ],
   "source": [
    "from importlib import reload\n",
    "import bioinfo\n",
    "bioinfo = reload(bioinfo)\n",
    "bioinfo.main()"
   ]
  },
  {
   "cell_type": "code",
   "execution_count": 2,
   "metadata": {},
   "outputs": [
    {
     "name": "stderr",
     "output_type": "stream",
     "text": [
      "wandb: Waiting for W&B process to finish, PID 8396\n",
      "wandb: Program ended successfully.\n",
      "wandb: - 0.39MB of 0.39MB uploaded (0.00MB deduped)\r"
     ]
    },
    {
     "name": "stdout",
     "output_type": "stream",
     "text": [
      "\n"
     ]
    },
    {
     "name": "stderr",
     "output_type": "stream",
     "text": [
      "wandb:                                                                                \n",
      "wandb: Find user logs for this run at: wandb\\run-20201021_111505-3ofujp0c\\logs\\debug.log\n",
      "wandb: Find internal logs for this run at: wandb\\run-20201021_111505-3ofujp0c\\logs\\debug-internal.log\n",
      "wandb: Run summary:\n",
      "wandb:          loss 0.055032119154930115\n",
      "wandb:         _step 1492\n",
      "wandb:      _runtime 63\n",
      "wandb:    _timestamp 1603293370\n",
      "wandb: Run history:\n",
      "wandb:         loss █▇▇▅▅▄▃▄▄▃▄▃▃▃▂▂▂▂▂▂▂▂▂▂▂▁▁▁▂▁▁▁▁▁▁▂▁▁▁▁\n",
      "wandb:        _step ▁▁▁▂▂▂▂▂▂▃▃▃▃▃▄▄▄▄▄▄▅▅▅▅▅▅▆▆▆▆▆▇▇▇▇▇▇███\n",
      "wandb:     _runtime ▁▁▁▂▂▂▂▂▂▃▃▃▃▃▄▄▄▄▄▄▅▅▅▅▅▅▆▆▆▆▆▇▇▇▇▇▇███\n",
      "wandb:   _timestamp ▁▁▁▂▂▂▂▂▂▃▃▃▃▃▄▄▄▄▄▄▅▅▅▅▅▅▆▆▆▆▆▇▇▇▇▇▇███\n",
      "wandb: Synced 6 W&B file(s), 6 media file(s), 0 artifact file(s) and 3 other file(s)\n",
      "wandb: \n",
      "wandb: Synced dulcet-blaze-8: https://wandb.ai/omegachysis/neural-ca-bioinfo/runs/3ofujp0c\n"
     ]
    }
   ],
   "source": [
    "quit()"
   ]
  },
  {
   "cell_type": "code",
   "execution_count": null,
   "metadata": {},
   "outputs": [],
   "source": []
  }
 ],
 "metadata": {
  "kernelspec": {
   "display_name": "Python 3",
   "language": "python",
   "name": "python3"
  },
  "language_info": {
   "codemirror_mode": {
    "name": "ipython",
    "version": 3
   },
   "file_extension": ".py",
   "mimetype": "text/x-python",
   "name": "python",
   "nbconvert_exporter": "python",
   "pygments_lexer": "ipython3",
   "version": "3.8.3"
  }
 },
 "nbformat": 4,
 "nbformat_minor": 4
}
