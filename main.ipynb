{
 "cells": [
  {
   "cell_type": "code",
   "execution_count": 1,
   "metadata": {},
   "outputs": [
    {
     "name": "stderr",
     "output_type": "stream",
     "text": [
      "Failed to query for notebook name, you can set it manually with the WANDB_NOTEBOOK_NAME environment variable\n",
      "wandb: Currently logged in as: omegachysis (use `wandb login --relogin` to force relogin)\n",
      "wandb: wandb version 0.10.4 is available!  To upgrade, please run:\n",
      "wandb:  $ pip install wandb --upgrade\n",
      "wandb: Tracking run with wandb version 0.10.2\n",
      "wandb: Run data is saved locally in wandb\\run-20200930_201943-72kayh5c\n",
      "wandb: Syncing run efficient-salad-201\n"
     ]
    },
    {
     "data": {
      "text/html": [
       "\n",
       "                Logging results to <a href=\"https://wandb.com\" target=\"_blank\">Weights & Biases</a> <a href=\"https://docs.wandb.com/integrations/jupyter.html\" target=\"_blank\">(Documentation)</a>.<br/>\n",
       "                Project page: <a href=\"https://wandb.ai/omegachysis/neural-cellular-automata\" target=\"_blank\">https://wandb.ai/omegachysis/neural-cellular-automata</a><br/>\n",
       "                Run page: <a href=\"https://wandb.ai/omegachysis/neural-cellular-automata/runs/72kayh5c\" target=\"_blank\">https://wandb.ai/omegachysis/neural-cellular-automata/runs/72kayh5c</a><br/>\n",
       "            "
      ],
      "text/plain": [
       "<IPython.core.display.HTML object>"
      ]
     },
     "metadata": {},
     "output_type": "display_data"
    },
    {
     "name": "stdout",
     "output_type": "stream",
     "text": [
      "\n",
      "Stopping due to time-out\n",
      "Time:  12.093851566314697 seconds\n",
      "Best loss:  0.023791173\n",
      "Stopping due to time-out\n",
      "Time:  12.157596349716187 seconds\n",
      "Best loss:  0.020354345\n",
      "Stopping due to time-out\n",
      "Time:  12.077317237854004 seconds\n",
      "Best loss:  0.014048295\n",
      "Stopping due to time-out\n",
      "Time:  12.116966009140015 seconds\n",
      "Best loss:  0.012248933\n",
      "Stopping due to time-out\n",
      "Time:  12.16827917098999 seconds\n",
      "Best loss:  0.01128844\n"
     ]
    }
   ],
   "source": [
    "import main\n",
    "main.main()"
   ]
  },
  {
   "cell_type": "code",
   "execution_count": 2,
   "metadata": {},
   "outputs": [
    {
     "name": "stderr",
     "output_type": "stream",
     "text": [
      "wandb: Waiting for W&B process to finish, PID 18344\n",
      "wandb: Program ended successfully.\n",
      "wandb: - 16.23MB of 16.23MB uploaded (0.00MB deduped)\r"
     ]
    },
    {
     "name": "stdout",
     "output_type": "stream",
     "text": [
      "\n"
     ]
    },
    {
     "name": "stderr",
     "output_type": "stream",
     "text": [
      "wandb:                                                                                \n",
      "wandb: Find user logs for this run at: wandb\\run-20200930_201943-72kayh5c\\logs\\debug.log\n",
      "wandb: Find internal logs for this run at: wandb\\run-20200930_201943-72kayh5c\\logs\\debug-internal.log\n",
      "wandb: Run summary:\n",
      "wandb:          loss 0.011288439854979515\n",
      "wandb:         _step 229\n",
      "wandb:      _runtime 69\n",
      "wandb:    _timestamp 1601511654\n",
      "wandb: Run history:\n",
      "wandb:         loss █▂▁▁▁▁▁▁▁▁▁▁▁▁▁▁▁▁▁▁▁▁▁▁▁▁▁▁▁▁▁▁▁▁▁▁▁▁▁▁\n",
      "wandb:        _step ▁▁▁▁▂▂▂▂▂▃▃▃▃▃▃▄▄▄▄▄▅▅▅▅▅▅▆▆▆▆▆▇▇▇▇▇▇███\n",
      "wandb:     _runtime ▁▁▁▁▂▂▂▂▃▃▃▃▃▃▄▄▄▄▅▅▅▅▅▅▆▆▆▆▆▆▇▇▇▇▇▇████\n",
      "wandb:   _timestamp ▁▁▁▁▂▂▂▂▃▃▃▃▃▃▄▄▄▄▅▅▅▅▅▅▆▆▆▆▆▆▇▇▇▇▇▇████\n",
      "wandb: Synced 6 W&B file(s), 10 media file(s), 0 artifact file(s) and 5 other file(s)\n",
      "wandb: \n",
      "wandb: Synced efficient-salad-201: https://wandb.ai/omegachysis/neural-cellular-automata/runs/72kayh5c\n"
     ]
    }
   ],
   "source": [
    "quit()"
   ]
  },
  {
   "cell_type": "code",
   "execution_count": null,
   "metadata": {},
   "outputs": [],
   "source": []
  }
 ],
 "metadata": {
  "kernelspec": {
   "display_name": "Python 3",
   "language": "python",
   "name": "python3"
  },
  "language_info": {
   "codemirror_mode": {
    "name": "ipython",
    "version": 3
   },
   "file_extension": ".py",
   "mimetype": "text/x-python",
   "name": "python",
   "nbconvert_exporter": "python",
   "pygments_lexer": "ipython3",
   "version": "3.8.3"
  }
 },
 "nbformat": 4,
 "nbformat_minor": 4
}
