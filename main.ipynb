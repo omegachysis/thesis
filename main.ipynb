{
 "cells": [
  {
   "cell_type": "code",
   "execution_count": null,
   "metadata": {},
   "outputs": [],
   "source": [
    "from importlib import reload\n",
    "import main\n",
    "main = reload(main)\n",
    "main.main()"
   ]
  },
  {
   "cell_type": "code",
   "execution_count": null,
   "metadata": {},
   "outputs": [],
   "source": [
    "quit()"
   ]
  },
  {
   "cell_type": "code",
   "execution_count": 3,
   "metadata": {},
   "outputs": [
    {
     "name": "stderr",
     "output_type": "stream",
     "text": [
      "wandb: Waiting for W&B process to finish, PID 7480\n",
      "wandb: Program ended successfully.\n",
      "wandb: - 0.01MB of 0.01MB uploaded (0.00MB deduped)\r"
     ]
    },
    {
     "name": "stdout",
     "output_type": "stream",
     "text": [
      "\n"
     ]
    },
    {
     "name": "stderr",
     "output_type": "stream",
     "text": [
      "wandb:                                                                                \n",
      "wandb: Find user logs for this run at: wandb\\run-20201021_110319-90yz9zhi\\logs\\debug.log\n",
      "wandb: Find internal logs for this run at: wandb\\run-20201021_110319-90yz9zhi\\logs\\debug-internal.log\n",
      "wandb: Synced 5 W&B file(s), 0 media file(s), 0 artifact file(s) and 0 other file(s)\n",
      "wandb: \n",
      "wandb: Synced wise-microwave-2: https://wandb.ai/omegachysis/neural-ca-bioinfo/runs/90yz9zhi\n",
      "wandb: wandb version 0.10.7 is available!  To upgrade, please run:\n",
      "wandb:  $ pip install wandb --upgrade\n",
      "wandb: Tracking run with wandb version 0.10.2\n",
      "wandb: Run data is saved locally in wandb\\run-20201021_110345-1q0b466o\n",
      "wandb: Syncing run magic-planet-3\n"
     ]
    },
    {
     "data": {
      "text/html": [
       "\n",
       "                Logging results to <a href=\"https://wandb.com\" target=\"_blank\">Weights & Biases</a> <a href=\"https://docs.wandb.com/integrations/jupyter.html\" target=\"_blank\">(Documentation)</a>.<br/>\n",
       "                Project page: <a href=\"https://wandb.ai/omegachysis/neural-ca-bioinfo\" target=\"_blank\">https://wandb.ai/omegachysis/neural-ca-bioinfo</a><br/>\n",
       "                Run page: <a href=\"https://wandb.ai/omegachysis/neural-ca-bioinfo/runs/1q0b466o\" target=\"_blank\">https://wandb.ai/omegachysis/neural-ca-bioinfo/runs/1q0b466o</a><br/>\n",
       "            "
      ],
      "text/plain": [
       "<IPython.core.display.HTML object>"
      ]
     },
     "metadata": {},
     "output_type": "display_data"
    },
    {
     "name": "stdout",
     "output_type": "stream",
     "text": [
      "\n",
      "Stopping due to zero loss\n",
      "Time:  1.677687644958496 seconds\n",
      "Best loss:  0.0\n",
      "Target loss reached, ending...\n"
     ]
    }
   ],
   "source": [
    "from importlib import reload\n",
    "import bioinfo\n",
    "bioinfo = reload(bioinfo)\n",
    "bioinfo.main()"
   ]
  },
  {
   "cell_type": "code",
   "execution_count": 4,
   "metadata": {},
   "outputs": [
    {
     "name": "stderr",
     "output_type": "stream",
     "text": [
      "wandb: Waiting for W&B process to finish, PID 15728\n",
      "wandb: Program ended successfully.\n",
      "wandb: - 0.01MB of 0.01MB uploaded (0.00MB deduped)\r"
     ]
    },
    {
     "name": "stdout",
     "output_type": "stream",
     "text": [
      "\n"
     ]
    },
    {
     "name": "stderr",
     "output_type": "stream",
     "text": [
      "wandb:                                                                                \n",
      "wandb: Find user logs for this run at: wandb\\run-20201021_110345-1q0b466o\\logs\\debug.log\n",
      "wandb: Find internal logs for this run at: wandb\\run-20201021_110345-1q0b466o\\logs\\debug-internal.log\n",
      "wandb: Run summary:\n",
      "wandb:          loss 0.0\n",
      "wandb:         _step 1\n",
      "wandb:      _runtime 10\n",
      "wandb:    _timestamp 1603292640\n",
      "wandb: Run history:\n",
      "wandb:         loss ▁\n",
      "wandb:        _step ▁\n",
      "wandb:     _runtime ▁\n",
      "wandb:   _timestamp ▁\n",
      "wandb: Synced 6 W&B file(s), 2 media file(s), 0 artifact file(s) and 1 other file(s)\n",
      "wandb: \n",
      "wandb: Synced magic-planet-3: https://wandb.ai/omegachysis/neural-ca-bioinfo/runs/1q0b466o\n"
     ]
    }
   ],
   "source": [
    "quit()"
   ]
  },
  {
   "cell_type": "code",
   "execution_count": null,
   "metadata": {},
   "outputs": [],
   "source": []
  }
 ],
 "metadata": {
  "kernelspec": {
   "display_name": "Python 3",
   "language": "python",
   "name": "python3"
  },
  "language_info": {
   "codemirror_mode": {
    "name": "ipython",
    "version": 3
   },
   "file_extension": ".py",
   "mimetype": "text/x-python",
   "name": "python",
   "nbconvert_exporter": "python",
   "pygments_lexer": "ipython3",
   "version": "3.8.3"
  }
 },
 "nbformat": 4,
 "nbformat_minor": 4
}
