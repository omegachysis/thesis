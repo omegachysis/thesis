{
 "cells": [
  {
   "cell_type": "code",
   "execution_count": 7,
   "metadata": {},
   "outputs": [
    {
     "name": "stderr",
     "output_type": "stream",
     "text": [
      "wandb: Waiting for W&B process to finish, PID 5820\n",
      "wandb: Program ended successfully.\n",
      "wandb: - 3.63MB of 3.63MB uploaded (0.00MB deduped)\r"
     ]
    },
    {
     "name": "stdout",
     "output_type": "stream",
     "text": [
      "\n"
     ]
    },
    {
     "name": "stderr",
     "output_type": "stream",
     "text": [
      "wandb:                                                                                \n",
      "wandb: Find user logs for this run at: wandb\\run-20201105_151032-27n5codi\\logs\\debug.log\n",
      "wandb: Find internal logs for this run at: wandb\\run-20201105_151032-27n5codi\\logs\\debug-internal.log\n",
      "wandb: Run summary:\n",
      "wandb:           _step 81\n",
      "wandb:        _runtime 26\n",
      "wandb:      _timestamp 1604607064\n",
      "wandb:            loss 0.018300650641322136\n",
      "wandb:   channel1_loss nan\n",
      "wandb:   channel2_loss nan\n",
      "wandb:   channel3_loss nan\n",
      "wandb: Run history:\n",
      "wandb:        _step ▁▁▁▂▂▂▂▂▂▃▃▃▃▃▄▄▄▄▄▄▅▅▅▅▅▅▆▆▆▆▆▇▇▇▇▇▇███\n",
      "wandb:     _runtime ▁▁▁▁▁▁▁▁▁▁▁▁▁▂▂▂▂▂▂▂▂▂▂▂▂▃▃▃▃▃▃▃▃▄▄▄▄▄▄█\n",
      "wandb:   _timestamp ▁▁▁▁▁▁▁▁▁▁▁▁▁▂▂▂▂▂▂▂▂▂▂▂▂▃▃▃▃▃▃▃▃▄▄▄▄▄▄█\n",
      "wandb:         loss █▄▂▁▁▁▁▁▁▁▁▁▁▂▁▁▁▁▁▁▁▁▁▁▁▁▁▁▁▁▁▁▁▁▁▁▁▁▁▁\n",
      "wandb: Synced 6 W&B file(s), 6 media file(s), 0 artifact file(s) and 2 other file(s)\n",
      "wandb: \n",
      "wandb: Synced summer-plasma-623: https://wandb.ai/omegachysis/neural-cellular-automata/runs/27n5codi\n",
      "wandb: wandb version 0.10.9 is available!  To upgrade, please run:\n",
      "wandb:  $ pip install wandb --upgrade\n",
      "wandb: Tracking run with wandb version 0.10.2\n",
      "wandb: Run data is saved locally in wandb\\run-20201105_151104-qi4kbum9\n",
      "wandb: Syncing run fearless-plant-624\n"
     ]
    },
    {
     "data": {
      "text/html": [
       "\n",
       "                Logging results to <a href=\"https://wandb.com\" target=\"_blank\">Weights & Biases</a> <a href=\"https://docs.wandb.com/integrations/jupyter.html\" target=\"_blank\">(Documentation)</a>.<br/>\n",
       "                Project page: <a href=\"https://wandb.ai/omegachysis/neural-cellular-automata\" target=\"_blank\">https://wandb.ai/omegachysis/neural-cellular-automata</a><br/>\n",
       "                Run page: <a href=\"https://wandb.ai/omegachysis/neural-cellular-automata/runs/qi4kbum9\" target=\"_blank\">https://wandb.ai/omegachysis/neural-cellular-automata/runs/qi4kbum9</a><br/>\n",
       "            "
      ],
      "text/plain": [
       "<IPython.core.display.HTML object>"
      ]
     },
     "metadata": {},
     "output_type": "display_data"
    },
    {
     "name": "stdout",
     "output_type": "stream",
     "text": [
      "\n",
      "Model: \"sequential_6\"\n",
      "_________________________________________________________________\n",
      "Layer (type)                 Output Shape              Param #   \n",
      "=================================================================\n",
      "conv2d_12 (Conv2D)           multiple                  11776     \n",
      "_________________________________________________________________\n",
      "conv2d_13 (Conv2D)           multiple                  3855      \n",
      "=================================================================\n",
      "Total params: 15,631\n",
      "Trainable params: 15,631\n",
      "Non-trainable params: 0\n",
      "_________________________________________________________________\n",
      "Lifetime:  6\n",
      "Target size:  3\n",
      "Stopping due to target loss\n",
      "Time:  3.2249977588653564 seconds\n",
      "Best loss:  0.00940861\n",
      "channel1_loss:  0.013234958\n",
      "channel2_loss:  0.015951144\n",
      "channel3_loss:  0.038920768\n",
      "Lifetime:  12\n",
      "Target size:  6\n",
      "Stopping due to target loss\n",
      "Time:  5.538995742797852 seconds\n",
      "Best loss:  0.0091433395\n",
      "channel1_loss:  0.017708408\n",
      "channel2_loss:  0.013003623\n",
      "channel3_loss:  0.01136402\n",
      "Lifetime:  18\n",
      "Target size:  9\n",
      "Stopping due to target loss\n",
      "Time:  6.640000343322754 seconds\n",
      "Best loss:  0.0091433395\n",
      "channel1_loss:  0.01766057\n",
      "channel2_loss:  0.013306343\n",
      "channel3_loss:  0.014800506\n",
      "Lifetime:  24\n",
      "Target size:  12\n",
      "Stopping due to target loss\n",
      "Time:  7.478994846343994 seconds\n",
      "Best loss:  0.0091433395\n",
      "channel1_loss:  0.0154912565\n",
      "channel2_loss:  0.013609342\n",
      "channel3_loss:  0.01001876\n",
      "Lifetime:  30\n",
      "Target size:  15\n",
      "Stopping due to target loss\n",
      "Time:  10.725994110107422 seconds\n",
      "Best loss:  0.0091433395\n",
      "channel1_loss:  0.013750406\n",
      "channel2_loss:  0.0127793215\n",
      "channel3_loss:  0.009272146\n",
      "Lifetime:  36\n",
      "Target size:  18\n",
      "Stopping due to target loss\n",
      "Time:  19.150031805038452 seconds\n",
      "Best loss:  0.0091433395\n",
      "channel1_loss:  0.012731679\n",
      "channel2_loss:  0.01466149\n",
      "channel3_loss:  0.009087573\n",
      "Lifetime:  42\n",
      "Target size:  21\n",
      "Stopping due to target loss\n",
      "Time:  16.253999710083008 seconds\n",
      "Best loss:  0.0091433395\n",
      "channel1_loss:  0.0125313755\n",
      "channel2_loss:  0.010254695\n",
      "channel3_loss:  0.007643217\n",
      "Lifetime:  48\n",
      "Target size:  24\n",
      "Stopping due to target loss\n",
      "Time:  13.512995481491089 seconds\n",
      "Best loss:  0.0091433395\n",
      "channel1_loss:  0.011593157\n",
      "channel2_loss:  0.009089082\n",
      "channel3_loss:  0.008011665\n",
      "Lifetime:  54\n",
      "Target size:  27\n",
      "Stopping due to target loss\n",
      "Time:  17.700999975204468 seconds\n",
      "Best loss:  0.0091433395\n",
      "channel1_loss:  0.02265577\n",
      "channel2_loss:  0.03178411\n",
      "channel3_loss:  0.018561484\n",
      "Lifetime:  60\n",
      "Target size:  30\n",
      "Stopping due to target loss\n",
      "Time:  45.817996978759766 seconds\n",
      "Best loss:  0.0091433395\n",
      "channel1_loss:  0.010339644\n",
      "channel2_loss:  0.00927767\n",
      "channel3_loss:  0.006834704\n",
      "Total elapsed time: 153.9020037651062 seconds\n"
     ]
    },
    {
     "name": "stderr",
     "output_type": "stream",
     "text": [
      "wandb: Waiting for W&B process to finish, PID 288\n",
      "wandb: Program ended successfully.\n",
      "wandb: - 15.59MB of 15.59MB uploaded (0.00MB deduped)\r"
     ]
    },
    {
     "name": "stdout",
     "output_type": "stream",
     "text": [
      "\n"
     ]
    },
    {
     "name": "stderr",
     "output_type": "stream",
     "text": [
      "wandb:                                                                                \n",
      "wandb: Find user logs for this run at: wandb\\run-20201105_151104-qi4kbum9\\logs\\debug.log\n",
      "wandb: Find internal logs for this run at: wandb\\run-20201105_151104-qi4kbum9\\logs\\debug-internal.log\n",
      "wandb: Run summary:\n",
      "wandb:           _step 407\n",
      "wandb:        _runtime 156\n",
      "wandb:      _timestamp 1604607226\n",
      "wandb:            loss 0.00981459952890873\n",
      "wandb:   channel1_loss 0.010339643806219101\n",
      "wandb:   channel2_loss 0.009277669712901115\n",
      "wandb:   channel3_loss 0.006834703963249922\n",
      "wandb:   total_seconds 153.9020037651062\n",
      "wandb: Run history:\n",
      "wandb:        _step ▁▁▁▁▂▂▂▂▂▃▃▃▃▃▃▄▄▄▄▄▅▅▅▅▅▅▆▆▆▆▆▇▇▇▇▇▇███\n",
      "wandb:     _runtime ▁▁▁▁▁▁▁▁▂▂▂▂▂▂▂▂▂▃▃▃▃▃▃▄▄▄▄▄▅▅▅▅▆▆▆▇▇▇██\n",
      "wandb:   _timestamp ▁▁▁▁▁▁▁▁▂▂▂▂▂▂▂▂▂▃▃▃▃▃▃▄▄▄▄▄▅▅▅▅▆▆▆▇▇▇██\n",
      "wandb:         loss █▁▁▁▁▁▁▁▁▁▁▁▁▁▁▁▁▁▁▁▁▁▁▁▁▁▁▁▁▁▁▁▁▁▁▁▁▁▁▁\n",
      "wandb: Synced 6 W&B file(s), 22 media file(s), 0 artifact file(s) and 11 other file(s)\n",
      "wandb: \n",
      "wandb: Synced fearless-plant-624: https://wandb.ai/omegachysis/neural-cellular-automata/runs/qi4kbum9\n",
      "wandb: wandb version 0.10.9 is available!  To upgrade, please run:\n",
      "wandb:  $ pip install wandb --upgrade\n",
      "wandb: Tracking run with wandb version 0.10.2\n",
      "wandb: Run data is saved locally in wandb\\run-20201105_151346-xomu5l7x\n",
      "wandb: Syncing run zany-pine-625\n"
     ]
    },
    {
     "data": {
      "text/html": [
       "\n",
       "                Logging results to <a href=\"https://wandb.com\" target=\"_blank\">Weights & Biases</a> <a href=\"https://docs.wandb.com/integrations/jupyter.html\" target=\"_blank\">(Documentation)</a>.<br/>\n",
       "                Project page: <a href=\"https://wandb.ai/omegachysis/neural-cellular-automata\" target=\"_blank\">https://wandb.ai/omegachysis/neural-cellular-automata</a><br/>\n",
       "                Run page: <a href=\"https://wandb.ai/omegachysis/neural-cellular-automata/runs/xomu5l7x\" target=\"_blank\">https://wandb.ai/omegachysis/neural-cellular-automata/runs/xomu5l7x</a><br/>\n",
       "            "
      ],
      "text/plain": [
       "<IPython.core.display.HTML object>"
      ]
     },
     "metadata": {},
     "output_type": "display_data"
    },
    {
     "name": "stdout",
     "output_type": "stream",
     "text": [
      "\n",
      "Model: \"sequential_7\"\n",
      "_________________________________________________________________\n",
      "Layer (type)                 Output Shape              Param #   \n",
      "=================================================================\n",
      "conv2d_14 (Conv2D)           multiple                  11776     \n",
      "_________________________________________________________________\n",
      "conv2d_15 (Conv2D)           multiple                  3855      \n",
      "=================================================================\n",
      "Total params: 15,631\n",
      "Trainable params: 15,631\n",
      "Non-trainable params: 0\n",
      "_________________________________________________________________\n",
      "Lifetime:  6\n",
      "Target size:  3\n",
      "Stopping due to target loss\n",
      "Time:  4.928006649017334 seconds\n",
      "Best loss:  0.002840714\n",
      "channel1_loss:  0.08104378\n",
      "channel2_loss:  0.010974104\n",
      "Lifetime:  12\n",
      "Target size:  6\n",
      "Stopping due to target loss\n",
      "Time:  6.065999746322632 seconds\n",
      "Best loss:  0.002840714\n",
      "channel1_loss:  0.023779836\n",
      "channel2_loss:  0.026018433\n",
      "Lifetime:  18\n",
      "Target size:  9\n",
      "Stopping due to target loss\n",
      "Time:  9.849000215530396 seconds\n",
      "Best loss:  0.002840714\n",
      "channel1_loss:  0.01394853\n",
      "channel2_loss:  0.007630552\n",
      "Lifetime:  24\n",
      "Target size:  12\n",
      "Stopping due to target loss\n",
      "Time:  12.934997320175171 seconds\n",
      "Best loss:  0.002840714\n",
      "channel1_loss:  0.012167529\n",
      "channel2_loss:  0.009797641\n",
      "Lifetime:  30\n",
      "Target size:  15\n",
      "Stopping due to target loss\n",
      "Time:  11.615007400512695 seconds\n",
      "Best loss:  0.002840714\n",
      "channel1_loss:  0.012352956\n",
      "channel2_loss:  0.011990415\n",
      "Lifetime:  36\n",
      "Target size:  18\n",
      "Stopping due to target loss\n",
      "Time:  35.562995195388794 seconds\n",
      "Best loss:  0.002840714\n",
      "channel1_loss:  0.011018826\n",
      "channel2_loss:  0.013399148\n",
      "Lifetime:  42\n",
      "Target size:  21\n",
      "Stopping due to target loss\n",
      "Time:  18.427998304367065 seconds\n",
      "Best loss:  0.002840714\n",
      "channel1_loss:  0.0105532175\n",
      "channel2_loss:  0.011107992\n",
      "Lifetime:  48\n",
      "Target size:  24\n",
      "Stopping due to target loss\n",
      "Time:  22.438000917434692 seconds\n",
      "Best loss:  0.002840714\n",
      "channel1_loss:  0.0117773395\n",
      "channel2_loss:  0.015732244\n",
      "Lifetime:  54\n",
      "Target size:  27\n",
      "Stopping due to target loss\n",
      "Time:  17.1369948387146 seconds\n",
      "Best loss:  0.002840714\n",
      "channel1_loss:  0.012169775\n",
      "channel2_loss:  0.015604768\n",
      "Lifetime:  60\n",
      "Target size:  30\n",
      "Stopping due to target loss\n",
      "Time:  26.3750159740448 seconds\n"
     ]
    },
    {
     "name": "stderr",
     "output_type": "stream",
     "text": [
      "wandb: Waiting for W&B process to finish, PID 2668\n",
      "wandb: Program ended successfully.\n",
      "wandb: - 15.66MB of 15.66MB uploaded (0.00MB deduped)\r"
     ]
    },
    {
     "name": "stdout",
     "output_type": "stream",
     "text": [
      "Best loss:  0.002840714\n",
      "channel1_loss:  0.01556954\n",
      "channel2_loss:  0.02038378\n",
      "Total elapsed time: 173.708997964859 seconds\n",
      "\n"
     ]
    },
    {
     "name": "stderr",
     "output_type": "stream",
     "text": [
      "wandb:                                                                                \n",
      "wandb: Find user logs for this run at: wandb\\run-20201105_151346-xomu5l7x\\logs\\debug.log\n",
      "wandb: Find internal logs for this run at: wandb\\run-20201105_151346-xomu5l7x\\logs\\debug-internal.log\n",
      "wandb: Run summary:\n",
      "wandb:           _step 410\n",
      "wandb:        _runtime 176\n",
      "wandb:      _timestamp 1604607408\n",
      "wandb:            loss 0.009786892682313919\n",
      "wandb:   channel1_loss 0.015569539740681648\n",
      "wandb:   channel2_loss 0.02038378082215786\n",
      "wandb:   total_seconds 173.708997964859\n",
      "wandb: Run history:\n",
      "wandb:        _step ▁▁▁▁▂▂▂▂▂▃▃▃▃▃▃▄▄▄▄▄▅▅▅▅▅▅▆▆▆▆▆▇▇▇▇▇▇███\n",
      "wandb:     _runtime ▁▁▁▁▁▁▁▁▂▂▂▂▂▂▂▂▃▃▃▃▃▄▄▄▄▅▅▅▅▅▆▆▆▆▇▇▇▇██\n",
      "wandb:   _timestamp ▁▁▁▁▁▁▁▁▂▂▂▂▂▂▂▂▃▃▃▃▃▄▄▄▄▅▅▅▅▅▆▆▆▆▇▇▇▇██\n",
      "wandb:         loss █▂▁▁▁▁▁▁▁▁▁▁▁▁▁▁▁▁▁▁▁▁▁▁▁▁▁▁▁▁▁▁▁▁▁▁▁▁▁▁\n",
      "wandb: Synced 6 W&B file(s), 22 media file(s), 0 artifact file(s) and 10 other file(s)\n",
      "wandb: \n",
      "wandb: Synced zany-pine-625: https://wandb.ai/omegachysis/neural-cellular-automata/runs/xomu5l7x\n",
      "wandb: wandb version 0.10.9 is available!  To upgrade, please run:\n",
      "wandb:  $ pip install wandb --upgrade\n",
      "wandb: Tracking run with wandb version 0.10.2\n",
      "wandb: Run data is saved locally in wandb\\run-20201105_151648-tkyq8moe\n",
      "wandb: Syncing run stoic-darkness-626\n"
     ]
    },
    {
     "data": {
      "text/html": [
       "\n",
       "                Logging results to <a href=\"https://wandb.com\" target=\"_blank\">Weights & Biases</a> <a href=\"https://docs.wandb.com/integrations/jupyter.html\" target=\"_blank\">(Documentation)</a>.<br/>\n",
       "                Project page: <a href=\"https://wandb.ai/omegachysis/neural-cellular-automata\" target=\"_blank\">https://wandb.ai/omegachysis/neural-cellular-automata</a><br/>\n",
       "                Run page: <a href=\"https://wandb.ai/omegachysis/neural-cellular-automata/runs/tkyq8moe\" target=\"_blank\">https://wandb.ai/omegachysis/neural-cellular-automata/runs/tkyq8moe</a><br/>\n",
       "            "
      ],
      "text/plain": [
       "<IPython.core.display.HTML object>"
      ]
     },
     "metadata": {},
     "output_type": "display_data"
    },
    {
     "name": "stdout",
     "output_type": "stream",
     "text": [
      "\n",
      "Model: \"sequential_8\"\n",
      "_________________________________________________________________\n",
      "Layer (type)                 Output Shape              Param #   \n",
      "=================================================================\n",
      "conv2d_16 (Conv2D)           multiple                  11776     \n",
      "_________________________________________________________________\n",
      "conv2d_17 (Conv2D)           multiple                  3855      \n",
      "=================================================================\n",
      "Total params: 15,631\n",
      "Trainable params: 15,631\n",
      "Non-trainable params: 0\n",
      "_________________________________________________________________\n",
      "Lifetime:  6\n",
      "Target size:  3\n",
      "Stopping due to target loss\n",
      "Time:  4.637019395828247 seconds\n",
      "Best loss:  0.002095877\n",
      "channel1_loss:  0.0675226\n",
      "Lifetime:  12\n",
      "Target size:  6\n",
      "Stopping due to target loss\n",
      "Time:  5.918997764587402 seconds\n",
      "Best loss:  0.002095877\n",
      "channel1_loss:  0.008064278\n",
      "Lifetime:  18\n",
      "Target size:  9\n",
      "Stopping due to target loss\n",
      "Time:  5.724993944168091 seconds\n",
      "Best loss:  0.002095877\n",
      "channel1_loss:  0.009704659\n",
      "Lifetime:  24\n",
      "Target size:  12\n",
      "Stopping due to target loss\n",
      "Time:  13.092995882034302 seconds\n",
      "Best loss:  0.002095877\n",
      "channel1_loss:  0.010050504\n",
      "Lifetime:  30\n",
      "Target size:  15\n",
      "Stopping due to target loss\n",
      "Time:  5.947999000549316 seconds\n",
      "Best loss:  0.002095877\n",
      "channel1_loss:  0.014002029\n",
      "Lifetime:  36\n",
      "Target size:  18\n",
      "Stopping due to target loss\n",
      "Time:  9.502996921539307 seconds\n",
      "Best loss:  0.002095877\n",
      "channel1_loss:  0.015329765\n",
      "Lifetime:  42\n",
      "Target size:  21\n",
      "Stopping due to target loss\n",
      "Time:  13.942997932434082 seconds\n",
      "Best loss:  0.002095877\n",
      "channel1_loss:  0.010401425\n",
      "Lifetime:  48\n",
      "Target size:  24\n",
      "Stopping due to target loss\n",
      "Time:  27.905003786087036 seconds\n",
      "Best loss:  0.002095877\n",
      "channel1_loss:  0.011760684\n",
      "Lifetime:  54\n",
      "Target size:  27\n",
      "Stopping due to target loss\n",
      "Time:  19.43499755859375 seconds\n",
      "Best loss:  0.002095877\n",
      "channel1_loss:  0.00871243\n",
      "Lifetime:  60\n",
      "Target size:  30\n",
      "Stopping due to target loss\n",
      "Time:  30.467981338500977 seconds\n",
      "Best loss:  0.002095877\n",
      "channel1_loss:  0.013061499\n",
      "Total elapsed time: 145.98302602767944 seconds\n"
     ]
    }
   ],
   "source": [
    "from importlib import reload\n",
    "import main\n",
    "main = reload(main)\n",
    "main.main()"
   ]
  },
  {
   "cell_type": "code",
   "execution_count": 8,
   "metadata": {},
   "outputs": [
    {
     "name": "stderr",
     "output_type": "stream",
     "text": [
      "wandb: Waiting for W&B process to finish, PID 9536\n",
      "wandb: Program ended successfully.\n",
      "wandb: - 15.25MB of 15.25MB uploaded (0.00MB deduped)\r"
     ]
    },
    {
     "name": "stdout",
     "output_type": "stream",
     "text": [
      "\n"
     ]
    },
    {
     "name": "stderr",
     "output_type": "stream",
     "text": [
      "wandb:                                                                                \n",
      "wandb: Find user logs for this run at: wandb\\run-20201105_151648-tkyq8moe\\logs\\debug.log\n",
      "wandb: Find internal logs for this run at: wandb\\run-20201105_151648-tkyq8moe\\logs\\debug-internal.log\n",
      "wandb: Run summary:\n",
      "wandb:           _step 360\n",
      "wandb:        _runtime 148\n",
      "wandb:      _timestamp 1604607561\n",
      "wandb:            loss 0.009912981651723385\n",
      "wandb:   channel1_loss 0.01306149922311306\n",
      "wandb:   total_seconds 145.98302602767944\n",
      "wandb: Run history:\n",
      "wandb:        _step ▁▁▁▁▂▂▂▂▂▃▃▃▃▃▃▄▄▄▄▄▅▅▅▅▅▅▆▆▆▆▆▇▇▇▇▇▇███\n",
      "wandb:     _runtime ▁▁▁▁▁▁▁▁▁▂▂▂▂▂▂▂▂▂▃▃▃▃▃▃▄▄▄▄▄▅▅▅▆▆▆▆▇▇██\n",
      "wandb:   _timestamp ▁▁▁▁▁▁▁▁▁▂▂▂▂▂▂▂▂▂▃▃▃▃▃▃▄▄▄▄▄▅▅▅▆▆▆▆▇▇██\n",
      "wandb:         loss █▁▁▁▁▁▁▁▁▁▁▁▁▁▁▁▁▁▁▁▁▁▁▁▁▁▁▁▁▁▁▁▁▁▁▁▁▁▁▁\n",
      "wandb: Synced 6 W&B file(s), 22 media file(s), 0 artifact file(s) and 10 other file(s)\n",
      "wandb: \n",
      "wandb: Synced stoic-darkness-626: https://wandb.ai/omegachysis/neural-cellular-automata/runs/tkyq8moe\n"
     ]
    }
   ],
   "source": [
    "quit()"
   ]
  },
  {
   "cell_type": "code",
   "execution_count": null,
   "metadata": {},
   "outputs": [],
   "source": [
    "from importlib import reload\n",
    "import bioinfo\n",
    "bioinfo = reload(bioinfo)\n",
    "bioinfo.main()"
   ]
  },
  {
   "cell_type": "code",
   "execution_count": null,
   "metadata": {},
   "outputs": [],
   "source": [
    "quit()"
   ]
  },
  {
   "cell_type": "code",
   "execution_count": null,
   "metadata": {},
   "outputs": [],
   "source": []
  }
 ],
 "metadata": {
  "kernelspec": {
   "display_name": "Python 3",
   "language": "python",
   "name": "python3"
  },
  "language_info": {
   "codemirror_mode": {
    "name": "ipython",
    "version": 3
   },
   "file_extension": ".py",
   "mimetype": "text/x-python",
   "name": "python",
   "nbconvert_exporter": "python",
   "pygments_lexer": "ipython3",
   "version": "3.8.3"
  }
 },
 "nbformat": 4,
 "nbformat_minor": 4
}
