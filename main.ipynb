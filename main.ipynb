{
 "cells": [
  {
   "cell_type": "code",
   "execution_count": null,
   "metadata": {},
   "outputs": [
    {
     "name": "stderr",
     "output_type": "stream",
     "text": [
      "wandb: Currently logged in as: omegachysis (use `wandb login --relogin` to force relogin)\n",
      "wandb: wandb version 0.10.8 is available!  To upgrade, please run:\n",
      "wandb:  $ pip install wandb --upgrade\n",
      "wandb: Tracking run with wandb version 0.10.2\n",
      "wandb: Run data is saved locally in wandb\\run-20201104_113036-327od0l7\n",
      "wandb: Syncing run dulcet-dragon-564\n"
     ]
    },
    {
     "data": {
      "text/html": [
       "\n",
       "                Logging results to <a href=\"https://wandb.com\" target=\"_blank\">Weights & Biases</a> <a href=\"https://docs.wandb.com/integrations/jupyter.html\" target=\"_blank\">(Documentation)</a>.<br/>\n",
       "                Project page: <a href=\"https://wandb.ai/omegachysis/neural-cellular-automata\" target=\"_blank\">https://wandb.ai/omegachysis/neural-cellular-automata</a><br/>\n",
       "                Run page: <a href=\"https://wandb.ai/omegachysis/neural-cellular-automata/runs/327od0l7\" target=\"_blank\">https://wandb.ai/omegachysis/neural-cellular-automata/runs/327od0l7</a><br/>\n",
       "            "
      ],
      "text/plain": [
       "<IPython.core.display.HTML object>"
      ]
     },
     "metadata": {},
     "output_type": "display_data"
    },
    {
     "name": "stdout",
     "output_type": "stream",
     "text": [
      "\n",
      "Model: \"sequential_1\"\n",
      "_________________________________________________________________\n",
      "Layer (type)                 Output Shape              Param #   \n",
      "=================================================================\n",
      "conv2d_1 (Conv2D)            multiple                  16640     \n",
      "_________________________________________________________________\n",
      "conv2d_2 (Conv2D)            multiple                  3855      \n",
      "=================================================================\n",
      "Total params: 20,495\n",
      "Trainable params: 20,495\n",
      "Non-trainable params: 0\n",
      "_________________________________________________________________\n",
      "Lifetime:  5\n",
      "Target size:  3\n",
      "Stopping due to target loss\n",
      "Time:  11.344991207122803 seconds\n",
      "Best loss:  0.0053427564\n",
      "Lifetime:  10\n",
      "Target size:  6\n",
      "Stopping due to target loss\n",
      "Time:  44.76500225067139 seconds\n",
      "Best loss:  0.0053427564\n",
      "Lifetime:  15\n",
      "Target size:  9\n",
      "Stopping due to target loss\n",
      "Time:  79.25402355194092 seconds\n",
      "Best loss:  0.0053427564\n",
      "Lifetime:  20\n",
      "Target size:  12\n",
      "Stopping due to target loss\n",
      "Time:  152.48400115966797 seconds\n",
      "Best loss:  0.0053427564\n",
      "Lifetime:  25\n",
      "Target size:  15\n",
      "Stopping due to target loss\n",
      "Time:  142.47445440292358 seconds\n",
      "Best loss:  0.0053427564\n",
      "Lifetime:  30\n",
      "Target size:  18\n"
     ]
    }
   ],
   "source": [
    "from importlib import reload\n",
    "import main\n",
    "main = reload(main)\n",
    "main.main()"
   ]
  },
  {
   "cell_type": "code",
   "execution_count": null,
   "metadata": {},
   "outputs": [],
   "source": [
    "quit()"
   ]
  },
  {
   "cell_type": "code",
   "execution_count": null,
   "metadata": {},
   "outputs": [],
   "source": [
    "from importlib import reload\n",
    "import bioinfo\n",
    "bioinfo = reload(bioinfo)\n",
    "bioinfo.main()"
   ]
  },
  {
   "cell_type": "code",
   "execution_count": null,
   "metadata": {},
   "outputs": [],
   "source": [
    "quit()"
   ]
  },
  {
   "cell_type": "code",
   "execution_count": null,
   "metadata": {},
   "outputs": [],
   "source": []
  }
 ],
 "metadata": {
  "kernelspec": {
   "display_name": "Python 3",
   "language": "python",
   "name": "python3"
  },
  "language_info": {
   "codemirror_mode": {
    "name": "ipython",
    "version": 3
   },
   "file_extension": ".py",
   "mimetype": "text/x-python",
   "name": "python",
   "nbconvert_exporter": "python",
   "pygments_lexer": "ipython3",
   "version": "3.8.3"
  }
 },
 "nbformat": 4,
 "nbformat_minor": 4
}
