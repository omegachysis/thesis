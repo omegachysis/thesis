{
 "cells": [
  {
   "cell_type": "code",
   "execution_count": null,
   "metadata": {},
   "outputs": [],
   "source": [
    "from importlib import reload\n",
    "import main\n",
    "main = reload(main)\n",
    "main.main()"
   ]
  },
  {
   "cell_type": "code",
   "execution_count": null,
   "metadata": {},
   "outputs": [],
   "source": [
    "quit()"
   ]
  },
  {
   "cell_type": "code",
   "execution_count": null,
   "metadata": {},
   "outputs": [],
   "source": [
    "from importlib import reload\n",
    "import bioinfo\n",
    "bioinfo = reload(bioinfo)\n",
    "bioinfo.main()"
   ]
  },
  {
   "cell_type": "code",
   "execution_count": null,
   "metadata": {},
   "outputs": [],
   "source": [
    "quit()"
   ]
  },
  {
   "cell_type": "code",
   "execution_count": null,
   "metadata": {},
   "outputs": [
    {
     "name": "stdout",
     "output_type": "stream",
     "text": [
      "Model: \"sequential_44\"\n",
      "_________________________________________________________________\n",
      "Layer (type)                 Output Shape              Param #   \n",
      "=================================================================\n",
      "dense_93 (Dense)             (None, 64)                320       \n",
      "_________________________________________________________________\n",
      "dense_94 (Dense)             (None, 4)                 260       \n",
      "=================================================================\n",
      "Total params: 580\n",
      "Trainable params: 580\n",
      "Non-trainable params: 0\n",
      "_________________________________________________________________\n",
      "Loss= 0.46356857\n",
      "Loss= 0.15724882\n",
      "Loss= 0.022948608\n",
      "Loss= 0.000252859\n",
      "Loss= 3.3658453e-05\n",
      "Loss= 1.2809352e-05\n",
      "Loss= 0.00017902434\n",
      "Loss= 1.6171819e-06\n",
      "Loss= 2.25413e-10\n"
     ]
    }
   ],
   "source": [
    "from importlib import reload\n",
    "from yeast_abm import yeast_model\n",
    "yeast_model = reload(yeast_model)\n",
    "yeast_model.main()"
   ]
  },
  {
   "cell_type": "code",
   "execution_count": null,
   "metadata": {},
   "outputs": [],
   "source": [
    "quit()"
   ]
  }
 ],
 "metadata": {
  "kernelspec": {
   "display_name": "Python 3",
   "language": "python",
   "name": "python3"
  },
  "language_info": {
   "codemirror_mode": {
    "name": "ipython",
    "version": 3
   },
   "file_extension": ".py",
   "mimetype": "text/x-python",
   "name": "python",
   "nbconvert_exporter": "python",
   "pygments_lexer": "ipython3",
   "version": "3.8.3"
  }
 },
 "nbformat": 4,
 "nbformat_minor": 4
}
