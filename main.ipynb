{
 "cells": [
  {
   "cell_type": "code",
   "execution_count": null,
   "metadata": {},
   "outputs": [
    {
     "name": "stderr",
     "output_type": "stream",
     "text": [
      "wandb: Currently logged in as: omegachysis (use `wandb login --relogin` to force relogin)\n",
      "wandb: wandb version 0.10.5 is available!  To upgrade, please run:\n",
      "wandb:  $ pip install wandb --upgrade\n",
      "wandb: Tracking run with wandb version 0.10.2\n",
      "wandb: Run data is saved locally in wandb\\run-20201008_095052-218eadbi\n",
      "wandb: Syncing run jumping-pond-348\n"
     ]
    },
    {
     "data": {
      "text/html": [
       "\n",
       "                Logging results to <a href=\"https://wandb.com\" target=\"_blank\">Weights & Biases</a> <a href=\"https://docs.wandb.com/integrations/jupyter.html\" target=\"_blank\">(Documentation)</a>.<br/>\n",
       "                Project page: <a href=\"https://wandb.ai/omegachysis/neural-cellular-automata\" target=\"_blank\">https://wandb.ai/omegachysis/neural-cellular-automata</a><br/>\n",
       "                Run page: <a href=\"https://wandb.ai/omegachysis/neural-cellular-automata/runs/218eadbi\" target=\"_blank\">https://wandb.ai/omegachysis/neural-cellular-automata/runs/218eadbi</a><br/>\n",
       "            "
      ],
      "text/plain": [
       "<IPython.core.display.HTML object>"
      ]
     },
     "metadata": {},
     "output_type": "display_data"
    },
    {
     "name": "stdout",
     "output_type": "stream",
     "text": [
      "\n",
      "Stopping due to time-out\n",
      "Time:  30.398634910583496 seconds\n",
      "Best loss:  0.16097565\n",
      "Stopping due to time-out\n",
      "Time:  30.15816044807434 seconds\n",
      "Best loss:  0.14620951\n",
      "Stopping due to time-out\n",
      "Time:  30.54733371734619 seconds\n",
      "Best loss:  0.10696859\n",
      "Stopping due to time-out\n",
      "Time:  30.67498469352722 seconds\n",
      "Best loss:  0.080518425\n",
      "Stopping due to time-out\n",
      "Time:  30.76232886314392 seconds\n",
      "Best loss:  0.052033696\n",
      "Stopping due to time-out\n",
      "Time:  30.601313591003418 seconds\n",
      "Best loss:  0.04337424\n",
      "Stopping due to time-out\n",
      "Time:  30.14941096305847 seconds\n",
      "Best loss:  0.034574322\n",
      "Stopping due to time-out\n",
      "Time:  30.82819390296936 seconds\n",
      "Best loss:  0.034574322\n",
      "Stopping due to time-out\n",
      "Time:  30.077996969223022 seconds\n",
      "Best loss:  0.02854197\n",
      "Stopping due to time-out\n",
      "Time:  30.13069772720337 seconds\n",
      "Best loss:  0.02854197\n",
      "Stopping due to time-out\n",
      "Time:  30.420930862426758 seconds\n",
      "Best loss:  0.025578966\n"
     ]
    }
   ],
   "source": [
    "import main\n",
    "main.main()"
   ]
  },
  {
   "cell_type": "code",
   "execution_count": null,
   "metadata": {},
   "outputs": [],
   "source": [
    "quit()"
   ]
  },
  {
   "cell_type": "code",
   "execution_count": null,
   "metadata": {},
   "outputs": [],
   "source": []
  }
 ],
 "metadata": {
  "kernelspec": {
   "display_name": "Python 3",
   "language": "python",
   "name": "python3"
  },
  "language_info": {
   "codemirror_mode": {
    "name": "ipython",
    "version": 3
   },
   "file_extension": ".py",
   "mimetype": "text/x-python",
   "name": "python",
   "nbconvert_exporter": "python",
   "pygments_lexer": "ipython3",
   "version": "3.8.3"
  }
 },
 "nbformat": 4,
 "nbformat_minor": 4
}
