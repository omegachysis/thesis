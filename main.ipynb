{
 "cells": [
  {
   "cell_type": "code",
   "execution_count": 1,
   "metadata": {},
   "outputs": [
    {
     "name": "stderr",
     "output_type": "stream",
     "text": [
      "wandb: Currently logged in as: omegachysis (use `wandb login --relogin` to force relogin)\n",
      "wandb: wandb version 0.10.5 is available!  To upgrade, please run:\n",
      "wandb:  $ pip install wandb --upgrade\n",
      "wandb: Tracking run with wandb version 0.10.2\n",
      "wandb: Run data is saved locally in wandb\\run-20201007_194630-3qbobekg\n",
      "wandb: Syncing run ethereal-fire-319\n"
     ]
    },
    {
     "data": {
      "text/html": [
       "\n",
       "                Logging results to <a href=\"https://wandb.com\" target=\"_blank\">Weights & Biases</a> <a href=\"https://docs.wandb.com/integrations/jupyter.html\" target=\"_blank\">(Documentation)</a>.<br/>\n",
       "                Project page: <a href=\"https://wandb.ai/omegachysis/neural-cellular-automata\" target=\"_blank\">https://wandb.ai/omegachysis/neural-cellular-automata</a><br/>\n",
       "                Run page: <a href=\"https://wandb.ai/omegachysis/neural-cellular-automata/runs/3qbobekg\" target=\"_blank\">https://wandb.ai/omegachysis/neural-cellular-automata/runs/3qbobekg</a><br/>\n",
       "            "
      ],
      "text/plain": [
       "<IPython.core.display.HTML object>"
      ]
     },
     "metadata": {},
     "output_type": "display_data"
    },
    {
     "name": "stdout",
     "output_type": "stream",
     "text": [
      "\n",
      "Stopping due to time-out\n",
      "Time:  24.128931522369385 seconds\n",
      "Best loss:  0.020054393\n",
      "Stopping due to time-out\n",
      "Time:  24.12017273902893 seconds\n",
      "Best loss:  0.004110146\n",
      "Stopping due to time-out\n",
      "Time:  24.10092782974243 seconds\n",
      "Best loss:  0.0013748601\n",
      "Stopping due to time-out\n",
      "Time:  24.078165769577026 seconds\n",
      "Best loss:  0.0007406496\n",
      "Stopping due to time-out\n",
      "Time:  24.206095218658447 seconds\n"
     ]
    },
    {
     "name": "stderr",
     "output_type": "stream",
     "text": [
      "wandb: Waiting for W&B process to finish, PID 12564\n",
      "wandb: Program ended successfully.\n",
      "wandb: - 4.39MB of 4.40MB uploaded (0.00MB deduped)\r"
     ]
    },
    {
     "name": "stdout",
     "output_type": "stream",
     "text": [
      "Best loss:  0.00040932518\n",
      "\n"
     ]
    },
    {
     "name": "stderr",
     "output_type": "stream",
     "text": [
      "wandb:                                                                                \n",
      "wandb: Find user logs for this run at: wandb\\run-20201007_194630-3qbobekg\\logs\\debug.log\n",
      "wandb: Find internal logs for this run at: wandb\\run-20201007_194630-3qbobekg\\logs\\debug-internal.log\n",
      "wandb: Run summary:\n",
      "wandb:          loss 0.0006661787047050893\n",
      "wandb:         _step 371\n",
      "wandb:      _runtime 126\n",
      "wandb:    _timestamp 1602114519\n",
      "wandb: Run history:\n",
      "wandb:         loss █▃▂▂▂▂▂▂▂▂▁▁▁▁▁▁▁▁▁▁▁▁▁▁▁▁▁▁▁▁▁▁▁▁▁▁▁▁▁▁\n",
      "wandb:        _step ▁▁▁▂▂▂▂▂▂▃▃▃▃▃▃▄▄▄▄▄▅▅▅▅▅▅▆▆▆▆▆▇▇▇▇▇▇███\n",
      "wandb:     _runtime ▁▁▁▂▂▂▂▂▂▃▃▃▃▃▄▄▄▄▄▅▅▅▅▅▆▆▆▆▆▆▇▇▇▇▇▇████\n",
      "wandb:   _timestamp ▁▁▁▂▂▂▂▂▂▃▃▃▃▃▄▄▄▄▄▅▅▅▅▅▆▆▆▆▆▆▇▇▇▇▇▇████\n",
      "wandb: Synced 6 W&B file(s), 10 media file(s), 0 artifact file(s) and 5 other file(s)\n",
      "wandb: \n",
      "wandb: Synced ethereal-fire-319: https://wandb.ai/omegachysis/neural-cellular-automata/runs/3qbobekg\n",
      "wandb: wandb version 0.10.5 is available!  To upgrade, please run:\n",
      "wandb:  $ pip install wandb --upgrade\n",
      "wandb: Tracking run with wandb version 0.10.2\n",
      "wandb: Run data is saved locally in wandb\\run-20201007_194839-2feagfhn\n",
      "wandb: Syncing run cerulean-lion-320\n"
     ]
    },
    {
     "data": {
      "text/html": [
       "\n",
       "                Logging results to <a href=\"https://wandb.com\" target=\"_blank\">Weights & Biases</a> <a href=\"https://docs.wandb.com/integrations/jupyter.html\" target=\"_blank\">(Documentation)</a>.<br/>\n",
       "                Project page: <a href=\"https://wandb.ai/omegachysis/neural-cellular-automata\" target=\"_blank\">https://wandb.ai/omegachysis/neural-cellular-automata</a><br/>\n",
       "                Run page: <a href=\"https://wandb.ai/omegachysis/neural-cellular-automata/runs/2feagfhn\" target=\"_blank\">https://wandb.ai/omegachysis/neural-cellular-automata/runs/2feagfhn</a><br/>\n",
       "            "
      ],
      "text/plain": [
       "<IPython.core.display.HTML object>"
      ]
     },
     "metadata": {},
     "output_type": "display_data"
    },
    {
     "name": "stdout",
     "output_type": "stream",
     "text": [
      "\n",
      "Stopping due to time-out\n",
      "Time:  24.03913640975952 seconds\n",
      "Best loss:  0.023963615\n",
      "Stopping due to time-out\n",
      "Time:  24.203598976135254 seconds\n",
      "Best loss:  0.014039631\n",
      "Stopping due to time-out\n",
      "Time:  24.000128269195557 seconds\n",
      "Best loss:  0.011055029\n",
      "Stopping due to time-out\n",
      "Time:  24.155675649642944 seconds\n",
      "Best loss:  0.009522412\n",
      "Stopping due to time-out\n",
      "Time:  24.222409963607788 seconds\n"
     ]
    },
    {
     "name": "stderr",
     "output_type": "stream",
     "text": [
      "wandb: Waiting for W&B process to finish, PID 4416\n",
      "wandb: Program ended successfully.\n",
      "wandb: - 4.40MB of 4.40MB uploaded (0.00MB deduped)\r"
     ]
    },
    {
     "name": "stdout",
     "output_type": "stream",
     "text": [
      "Best loss:  0.009076472\n",
      "\n"
     ]
    },
    {
     "name": "stderr",
     "output_type": "stream",
     "text": [
      "wandb:                                                                                \n",
      "wandb: Find user logs for this run at: wandb\\run-20201007_194839-2feagfhn\\logs\\debug.log\n",
      "wandb: Find internal logs for this run at: wandb\\run-20201007_194839-2feagfhn\\logs\\debug-internal.log\n",
      "wandb: Run summary:\n",
      "wandb:          loss 0.009595268405973911\n",
      "wandb:         _step 414\n",
      "wandb:      _runtime 126\n",
      "wandb:    _timestamp 1602114650\n",
      "wandb: Run history:\n",
      "wandb:         loss █▂▂▂▂▂▂▂▂▂▂▂▂▂▂▁▁▁▁▁▁▁▁▁▁▁▁▁▁▁▁▁▁▁▁▁▁▁▁▁\n",
      "wandb:        _step ▁▁▁▁▂▂▂▂▂▃▃▃▃▃▃▄▄▄▄▄▅▅▅▅▅▅▆▆▆▆▆▇▇▇▇▇▇███\n",
      "wandb:     _runtime ▁▁▁▁▂▂▂▂▂▃▃▃▃▃▃▄▄▄▄▄▅▅▅▅▅▅▆▆▆▆▆▇▇▇▇▇▇███\n",
      "wandb:   _timestamp ▁▁▁▁▂▂▂▂▂▃▃▃▃▃▃▄▄▄▄▄▅▅▅▅▅▅▆▆▆▆▆▇▇▇▇▇▇███\n",
      "wandb: Synced 6 W&B file(s), 10 media file(s), 0 artifact file(s) and 5 other file(s)\n",
      "wandb: \n",
      "wandb: Synced cerulean-lion-320: https://wandb.ai/omegachysis/neural-cellular-automata/runs/2feagfhn\n",
      "wandb: wandb version 0.10.5 is available!  To upgrade, please run:\n",
      "wandb:  $ pip install wandb --upgrade\n",
      "wandb: Tracking run with wandb version 0.10.2\n",
      "wandb: Run data is saved locally in wandb\\run-20201007_195050-1cv1rzeh\n",
      "wandb: Syncing run dashing-valley-321\n"
     ]
    },
    {
     "data": {
      "text/html": [
       "\n",
       "                Logging results to <a href=\"https://wandb.com\" target=\"_blank\">Weights & Biases</a> <a href=\"https://docs.wandb.com/integrations/jupyter.html\" target=\"_blank\">(Documentation)</a>.<br/>\n",
       "                Project page: <a href=\"https://wandb.ai/omegachysis/neural-cellular-automata\" target=\"_blank\">https://wandb.ai/omegachysis/neural-cellular-automata</a><br/>\n",
       "                Run page: <a href=\"https://wandb.ai/omegachysis/neural-cellular-automata/runs/1cv1rzeh\" target=\"_blank\">https://wandb.ai/omegachysis/neural-cellular-automata/runs/1cv1rzeh</a><br/>\n",
       "            "
      ],
      "text/plain": [
       "<IPython.core.display.HTML object>"
      ]
     },
     "metadata": {},
     "output_type": "display_data"
    },
    {
     "name": "stdout",
     "output_type": "stream",
     "text": [
      "\n",
      "Stopping due to time-out\n",
      "Time:  24.25300121307373 seconds\n",
      "Best loss:  0.013492458\n",
      "Stopping due to time-out\n",
      "Time:  24.114004135131836 seconds\n",
      "Best loss:  0.0077316696\n",
      "Stopping due to time-out\n",
      "Time:  24.272000074386597 seconds\n",
      "Best loss:  0.0045354776\n",
      "Stopping due to time-out\n",
      "Time:  24.117250680923462 seconds\n",
      "Best loss:  0.0032613962\n",
      "Stopping due to time-out\n",
      "Time:  24.059319257736206 seconds\n"
     ]
    },
    {
     "name": "stderr",
     "output_type": "stream",
     "text": [
      "wandb: Waiting for W&B process to finish, PID 9640\n",
      "wandb: Program ended successfully.\n",
      "wandb: - 4.42MB of 4.43MB uploaded (0.00MB deduped)\r"
     ]
    },
    {
     "name": "stdout",
     "output_type": "stream",
     "text": [
      "Best loss:  0.002312693\n",
      "\n"
     ]
    },
    {
     "name": "stderr",
     "output_type": "stream",
     "text": [
      "wandb:                                                                                \n",
      "wandb: Find user logs for this run at: wandb\\run-20201007_195050-1cv1rzeh\\logs\\debug.log\n",
      "wandb: Find internal logs for this run at: wandb\\run-20201007_195050-1cv1rzeh\\logs\\debug-internal.log\n",
      "wandb: Run summary:\n",
      "wandb:          loss 0.0027450378984212875\n",
      "wandb:         _step 361\n",
      "wandb:      _runtime 127\n",
      "wandb:    _timestamp 1602114782\n",
      "wandb: Run history:\n",
      "wandb:         loss █▂▂▂▂▂▂▂▁▁▁▁▁▁▁▁▁▁▁▁▁▁▁▁▁▁▁▁▁▁▁▁▁▁▁▁▁▁▁▁\n",
      "wandb:        _step ▁▁▁▁▂▂▂▂▂▃▃▃▃▃▃▄▄▄▄▄▅▅▅▅▅▅▆▆▆▆▆▇▇▇▇▇▇███\n",
      "wandb:     _runtime ▁▁▁▁▂▂▂▂▂▂▃▃▃▃▃▃▃▄▄▄▄▄▄▅▅▅▅▅▆▆▆▆▇▇▇▇▇███\n",
      "wandb:   _timestamp ▁▁▁▁▂▂▂▂▂▂▃▃▃▃▃▃▃▄▄▄▄▄▄▅▅▅▅▅▆▆▆▆▇▇▇▇▇███\n",
      "wandb: Synced 6 W&B file(s), 10 media file(s), 0 artifact file(s) and 5 other file(s)\n",
      "wandb: \n",
      "wandb: Synced dashing-valley-321: https://wandb.ai/omegachysis/neural-cellular-automata/runs/1cv1rzeh\n",
      "wandb: wandb version 0.10.5 is available!  To upgrade, please run:\n",
      "wandb:  $ pip install wandb --upgrade\n",
      "wandb: Tracking run with wandb version 0.10.2\n",
      "wandb: Run data is saved locally in wandb\\run-20201007_195302-30rvedrk\n",
      "wandb: Syncing run revived-bird-322\n"
     ]
    },
    {
     "data": {
      "text/html": [
       "\n",
       "                Logging results to <a href=\"https://wandb.com\" target=\"_blank\">Weights & Biases</a> <a href=\"https://docs.wandb.com/integrations/jupyter.html\" target=\"_blank\">(Documentation)</a>.<br/>\n",
       "                Project page: <a href=\"https://wandb.ai/omegachysis/neural-cellular-automata\" target=\"_blank\">https://wandb.ai/omegachysis/neural-cellular-automata</a><br/>\n",
       "                Run page: <a href=\"https://wandb.ai/omegachysis/neural-cellular-automata/runs/30rvedrk\" target=\"_blank\">https://wandb.ai/omegachysis/neural-cellular-automata/runs/30rvedrk</a><br/>\n",
       "            "
      ],
      "text/plain": [
       "<IPython.core.display.HTML object>"
      ]
     },
     "metadata": {},
     "output_type": "display_data"
    },
    {
     "name": "stdout",
     "output_type": "stream",
     "text": [
      "\n",
      "Stopping due to time-out\n",
      "Time:  24.1885929107666 seconds\n",
      "Best loss:  0.018511264\n",
      "Stopping due to time-out\n",
      "Time:  24.06752324104309 seconds\n",
      "Best loss:  0.007063529\n",
      "Stopping due to time-out\n",
      "Time:  24.06253743171692 seconds\n",
      "Best loss:  0.0033034189\n",
      "Stopping due to time-out\n",
      "Time:  24.22348976135254 seconds\n",
      "Best loss:  0.0022512546\n",
      "Stopping due to time-out\n",
      "Time:  24.195550441741943 seconds\n"
     ]
    },
    {
     "name": "stderr",
     "output_type": "stream",
     "text": [
      "wandb: Waiting for W&B process to finish, PID 19356\n",
      "wandb: Program ended successfully.\n",
      "wandb: - 4.40MB of 4.40MB uploaded (0.00MB deduped)\r"
     ]
    },
    {
     "name": "stdout",
     "output_type": "stream",
     "text": [
      "Best loss:  0.0015921722\n",
      "\n"
     ]
    },
    {
     "name": "stderr",
     "output_type": "stream",
     "text": [
      "wandb:                                                                                \n",
      "wandb: Find user logs for this run at: wandb\\run-20201007_195302-30rvedrk\\logs\\debug.log\n",
      "wandb: Find internal logs for this run at: wandb\\run-20201007_195302-30rvedrk\\logs\\debug-internal.log\n",
      "wandb: Run summary:\n",
      "wandb:          loss 0.0018732016906142235\n",
      "wandb:         _step 351\n",
      "wandb:      _runtime 126\n",
      "wandb:    _timestamp 1602114914\n",
      "wandb: Run history:\n",
      "wandb:         loss █▂▂▂▂▁▁▁▁▁▁▁▁▁▁▁▁▁▁▁▁▁▁▁▁▁▁▁▁▁▁▁▁▁▁▁▁▁▁▁\n",
      "wandb:        _step ▁▁▁▁▂▂▂▂▂▃▃▃▃▃▃▄▄▄▄▄▅▅▅▅▅▅▆▆▆▆▆▇▇▇▇▇▇███\n",
      "wandb:     _runtime ▁▁▁▁▂▂▂▂▂▂▃▃▃▃▃▄▄▄▄▄▅▅▅▅▅▅▅▆▆▆▆▆▆▇▇▇▇███\n",
      "wandb:   _timestamp ▁▁▁▁▂▂▂▂▂▂▃▃▃▃▃▄▄▄▄▄▅▅▅▅▅▅▅▆▆▆▆▆▆▇▇▇▇███\n",
      "wandb: Synced 6 W&B file(s), 10 media file(s), 0 artifact file(s) and 5 other file(s)\n",
      "wandb: \n",
      "wandb: Synced revived-bird-322: https://wandb.ai/omegachysis/neural-cellular-automata/runs/30rvedrk\n",
      "wandb: wandb version 0.10.5 is available!  To upgrade, please run:\n",
      "wandb:  $ pip install wandb --upgrade\n",
      "wandb: Tracking run with wandb version 0.10.2\n",
      "wandb: Run data is saved locally in wandb\\run-20201007_195514-1a0081pp\n",
      "wandb: Syncing run honest-breeze-323\n"
     ]
    },
    {
     "data": {
      "text/html": [
       "\n",
       "                Logging results to <a href=\"https://wandb.com\" target=\"_blank\">Weights & Biases</a> <a href=\"https://docs.wandb.com/integrations/jupyter.html\" target=\"_blank\">(Documentation)</a>.<br/>\n",
       "                Project page: <a href=\"https://wandb.ai/omegachysis/neural-cellular-automata\" target=\"_blank\">https://wandb.ai/omegachysis/neural-cellular-automata</a><br/>\n",
       "                Run page: <a href=\"https://wandb.ai/omegachysis/neural-cellular-automata/runs/1a0081pp\" target=\"_blank\">https://wandb.ai/omegachysis/neural-cellular-automata/runs/1a0081pp</a><br/>\n",
       "            "
      ],
      "text/plain": [
       "<IPython.core.display.HTML object>"
      ]
     },
     "metadata": {},
     "output_type": "display_data"
    },
    {
     "name": "stdout",
     "output_type": "stream",
     "text": [
      "\n",
      "Stopping due to time-out\n",
      "Time:  24.218526363372803 seconds\n",
      "Best loss:  0.02059601\n",
      "Stopping due to time-out\n",
      "Time:  24.286232948303223 seconds\n",
      "Best loss:  0.007877951\n",
      "Stopping due to time-out\n",
      "Time:  24.06751036643982 seconds\n",
      "Best loss:  0.0037566004\n",
      "Stopping due to time-out\n",
      "Time:  24.059098482131958 seconds\n",
      "Best loss:  0.0024183795\n",
      "Stopping due to time-out\n",
      "Time:  24.098010540008545 seconds\n"
     ]
    },
    {
     "name": "stderr",
     "output_type": "stream",
     "text": [
      "wandb: Waiting for W&B process to finish, PID 16812\n",
      "wandb: Program ended successfully.\n",
      "wandb: - 4.39MB of 4.40MB uploaded (0.00MB deduped)\r"
     ]
    },
    {
     "name": "stdout",
     "output_type": "stream",
     "text": [
      "Best loss:  0.0017567918\n",
      "\n"
     ]
    },
    {
     "name": "stderr",
     "output_type": "stream",
     "text": [
      "wandb:                                                                                \n",
      "wandb: Find user logs for this run at: wandb\\run-20201007_195514-1a0081pp\\logs\\debug.log\n",
      "wandb: Find internal logs for this run at: wandb\\run-20201007_195514-1a0081pp\\logs\\debug-internal.log\n",
      "wandb: Run summary:\n",
      "wandb:          loss 0.0021866357419639826\n",
      "wandb:         _step 315\n",
      "wandb:      _runtime 127\n",
      "wandb:    _timestamp 1602115046\n",
      "wandb: Run history:\n",
      "wandb:         loss █▅▄▄▄▄▄▄▃▃▃▃▃▂▂▂▂▂▂▁▂▁▁▁▁▁▁▁▁▁▁▁▁▁▁▁▁▁▁▁\n",
      "wandb:        _step ▁▁▁▁▂▂▂▂▂▃▃▃▃▃▃▄▄▄▄▄▅▅▅▅▅▅▆▆▆▆▆▇▇▇▇▇▇███\n",
      "wandb:     _runtime ▁▁▁▂▂▂▂▂▃▃▃▃▃▃▄▄▄▄▄▄▅▅▅▅▅▆▆▆▆▆▆▇▇▇▇▇████\n",
      "wandb:   _timestamp ▁▁▁▂▂▂▂▂▃▃▃▃▃▃▄▄▄▄▄▄▅▅▅▅▅▆▆▆▆▆▆▇▇▇▇▇████\n",
      "wandb: Synced 6 W&B file(s), 10 media file(s), 0 artifact file(s) and 5 other file(s)\n",
      "wandb: \n",
      "wandb: Synced honest-breeze-323: https://wandb.ai/omegachysis/neural-cellular-automata/runs/1a0081pp\n",
      "wandb: wandb version 0.10.5 is available!  To upgrade, please run:\n",
      "wandb:  $ pip install wandb --upgrade\n",
      "wandb: Tracking run with wandb version 0.10.2\n",
      "wandb: Run data is saved locally in wandb\\run-20201007_195726-2nushcin\n",
      "wandb: Syncing run graceful-haze-324\n"
     ]
    },
    {
     "data": {
      "text/html": [
       "\n",
       "                Logging results to <a href=\"https://wandb.com\" target=\"_blank\">Weights & Biases</a> <a href=\"https://docs.wandb.com/integrations/jupyter.html\" target=\"_blank\">(Documentation)</a>.<br/>\n",
       "                Project page: <a href=\"https://wandb.ai/omegachysis/neural-cellular-automata\" target=\"_blank\">https://wandb.ai/omegachysis/neural-cellular-automata</a><br/>\n",
       "                Run page: <a href=\"https://wandb.ai/omegachysis/neural-cellular-automata/runs/2nushcin\" target=\"_blank\">https://wandb.ai/omegachysis/neural-cellular-automata/runs/2nushcin</a><br/>\n",
       "            "
      ],
      "text/plain": [
       "<IPython.core.display.HTML object>"
      ]
     },
     "metadata": {},
     "output_type": "display_data"
    },
    {
     "name": "stdout",
     "output_type": "stream",
     "text": [
      "\n",
      "Stopping due to time-out\n",
      "Time:  24.384154319763184 seconds\n",
      "Best loss:  0.020811573\n",
      "Stopping due to time-out\n",
      "Time:  24.224520683288574 seconds\n",
      "Best loss:  0.0068993205\n",
      "Stopping due to time-out\n",
      "Time:  24.000361680984497 seconds\n",
      "Best loss:  0.003664749\n",
      "Stopping due to time-out\n",
      "Time:  24.005927324295044 seconds\n",
      "Best loss:  0.0023504898\n",
      "Stopping due to time-out\n",
      "Time:  24.173102378845215 seconds\n"
     ]
    },
    {
     "name": "stderr",
     "output_type": "stream",
     "text": [
      "wandb: Waiting for W&B process to finish, PID 16720\n",
      "wandb: Program ended successfully.\n",
      "wandb: - 4.43MB of 4.43MB uploaded (0.00MB deduped)\r"
     ]
    },
    {
     "name": "stdout",
     "output_type": "stream",
     "text": [
      "Best loss:  0.001638727\n",
      "\n"
     ]
    },
    {
     "name": "stderr",
     "output_type": "stream",
     "text": [
      "wandb:                                                                                \n",
      "wandb: Find user logs for this run at: wandb\\run-20201007_195726-2nushcin\\logs\\debug.log\n",
      "wandb: Find internal logs for this run at: wandb\\run-20201007_195726-2nushcin\\logs\\debug-internal.log\n",
      "wandb: Run summary:\n",
      "wandb:          loss 0.0019387773936614394\n",
      "wandb:         _step 290\n",
      "wandb:      _runtime 126\n",
      "wandb:    _timestamp 1602115178\n",
      "wandb: Run history:\n",
      "wandb:         loss █▅▃▃▃▃▃▃▃▂▂▂▂▂▂▂▁▁▁▁▁▁▁▁▁▁▁▁▁▁▁▁▁▁▁▁▁▁▁▁\n",
      "wandb:        _step ▁▁▁▁▂▂▂▂▂▃▃▃▃▃▃▄▄▄▄▄▅▅▅▅▅▅▆▆▆▆▆▇▇▇▇▇▇███\n",
      "wandb:     _runtime ▁▁▁▁▂▂▂▂▂▃▃▃▃▃▃▃▄▄▄▄▄▅▅▅▅▅▅▆▆▆▆▆▇▇▇▇▇███\n",
      "wandb:   _timestamp ▁▁▁▁▂▂▂▂▂▃▃▃▃▃▃▃▄▄▄▄▄▅▅▅▅▅▅▆▆▆▆▆▇▇▇▇▇███\n",
      "wandb: Synced 6 W&B file(s), 10 media file(s), 0 artifact file(s) and 5 other file(s)\n",
      "wandb: \n",
      "wandb: Synced graceful-haze-324: https://wandb.ai/omegachysis/neural-cellular-automata/runs/2nushcin\n",
      "wandb: wandb version 0.10.5 is available!  To upgrade, please run:\n",
      "wandb:  $ pip install wandb --upgrade\n",
      "wandb: Tracking run with wandb version 0.10.2\n",
      "wandb: Run data is saved locally in wandb\\run-20201007_195938-34j5xsne\n",
      "wandb: Syncing run summer-dawn-325\n"
     ]
    },
    {
     "data": {
      "text/html": [
       "\n",
       "                Logging results to <a href=\"https://wandb.com\" target=\"_blank\">Weights & Biases</a> <a href=\"https://docs.wandb.com/integrations/jupyter.html\" target=\"_blank\">(Documentation)</a>.<br/>\n",
       "                Project page: <a href=\"https://wandb.ai/omegachysis/neural-cellular-automata\" target=\"_blank\">https://wandb.ai/omegachysis/neural-cellular-automata</a><br/>\n",
       "                Run page: <a href=\"https://wandb.ai/omegachysis/neural-cellular-automata/runs/34j5xsne\" target=\"_blank\">https://wandb.ai/omegachysis/neural-cellular-automata/runs/34j5xsne</a><br/>\n",
       "            "
      ],
      "text/plain": [
       "<IPython.core.display.HTML object>"
      ]
     },
     "metadata": {},
     "output_type": "display_data"
    },
    {
     "name": "stdout",
     "output_type": "stream",
     "text": [
      "\n",
      "Stopping due to time-out\n",
      "Time:  24.108853101730347 seconds\n",
      "Best loss:  0.02207863\n",
      "Stopping due to time-out\n",
      "Time:  24.055161237716675 seconds\n",
      "Best loss:  0.012733513\n",
      "Stopping due to time-out\n",
      "Time:  24.250041007995605 seconds\n",
      "Best loss:  0.0037826004\n",
      "Stopping due to time-out\n",
      "Time:  24.065590381622314 seconds\n",
      "Best loss:  0.0017019981\n",
      "Stopping due to time-out\n",
      "Time:  24.21739649772644 seconds\n"
     ]
    },
    {
     "name": "stderr",
     "output_type": "stream",
     "text": [
      "wandb: Waiting for W&B process to finish, PID 2760\n",
      "wandb: Program ended successfully.\n",
      "wandb: - 4.41MB of 4.42MB uploaded (0.00MB deduped)\r"
     ]
    },
    {
     "name": "stdout",
     "output_type": "stream",
     "text": [
      "Best loss:  0.0009797863\n",
      "\n"
     ]
    },
    {
     "name": "stderr",
     "output_type": "stream",
     "text": [
      "wandb:                                                                                \n",
      "wandb: Find user logs for this run at: wandb\\run-20201007_195938-34j5xsne\\logs\\debug.log\n",
      "wandb: Find internal logs for this run at: wandb\\run-20201007_195938-34j5xsne\\logs\\debug-internal.log\n",
      "wandb: Run summary:\n",
      "wandb:          loss 0.0015445091994479299\n",
      "wandb:         _step 230\n",
      "wandb:      _runtime 126\n",
      "wandb:    _timestamp 1602115309\n",
      "wandb: Run history:\n",
      "wandb:         loss █▁▁▁▁▁▁▁▁▁▁▁▁▁▁▁▁▁▁▁▁▁▁▁▁▁▁▁▁▁▁▁▁▁▁▁▁▁▁▁\n",
      "wandb:        _step ▁▁▁▁▂▂▂▂▂▃▃▃▃▃▃▄▄▄▄▄▅▅▅▅▅▅▆▆▆▆▆▇▇▇▇▇▇███\n",
      "wandb:     _runtime ▁▁▁▂▂▂▂▂▃▃▃▃▃▃▄▄▄▄▄▅▅▅▅▅▅▆▆▆▆▆▆▇▇▇▇▇▇███\n",
      "wandb:   _timestamp ▁▁▁▂▂▂▂▂▃▃▃▃▃▃▄▄▄▄▄▅▅▅▅▅▅▆▆▆▆▆▆▇▇▇▇▇▇███\n",
      "wandb: Synced 6 W&B file(s), 10 media file(s), 0 artifact file(s) and 5 other file(s)\n",
      "wandb: \n",
      "wandb: Synced summer-dawn-325: https://wandb.ai/omegachysis/neural-cellular-automata/runs/34j5xsne\n",
      "wandb: wandb version 0.10.5 is available!  To upgrade, please run:\n",
      "wandb:  $ pip install wandb --upgrade\n",
      "wandb: Tracking run with wandb version 0.10.2\n",
      "wandb: Run data is saved locally in wandb\\run-20201007_200149-kjdnem5m\n",
      "wandb: Syncing run wise-grass-326\n"
     ]
    },
    {
     "data": {
      "text/html": [
       "\n",
       "                Logging results to <a href=\"https://wandb.com\" target=\"_blank\">Weights & Biases</a> <a href=\"https://docs.wandb.com/integrations/jupyter.html\" target=\"_blank\">(Documentation)</a>.<br/>\n",
       "                Project page: <a href=\"https://wandb.ai/omegachysis/neural-cellular-automata\" target=\"_blank\">https://wandb.ai/omegachysis/neural-cellular-automata</a><br/>\n",
       "                Run page: <a href=\"https://wandb.ai/omegachysis/neural-cellular-automata/runs/kjdnem5m\" target=\"_blank\">https://wandb.ai/omegachysis/neural-cellular-automata/runs/kjdnem5m</a><br/>\n",
       "            "
      ],
      "text/plain": [
       "<IPython.core.display.HTML object>"
      ]
     },
     "metadata": {},
     "output_type": "display_data"
    },
    {
     "name": "stdout",
     "output_type": "stream",
     "text": [
      "\n",
      "Stopping due to time-out\n",
      "Time:  24.263755083084106 seconds\n",
      "Best loss:  0.023413362\n",
      "Stopping due to time-out\n",
      "Time:  24.175458431243896 seconds\n",
      "Best loss:  0.022122541\n",
      "Stopping due to time-out\n",
      "Time:  24.000507593154907 seconds\n",
      "Best loss:  0.016582537\n",
      "Stopping due to time-out\n",
      "Time:  24.740561723709106 seconds\n",
      "Best loss:  0.0069966414\n",
      "Stopping due to time-out\n",
      "Time:  24.775123357772827 seconds\n"
     ]
    },
    {
     "name": "stderr",
     "output_type": "stream",
     "text": [
      "wandb: Waiting for W&B process to finish, PID 16500\n",
      "wandb: Program ended successfully.\n",
      "wandb: - 4.31MB of 4.31MB uploaded (0.00MB deduped)\r"
     ]
    },
    {
     "name": "stdout",
     "output_type": "stream",
     "text": [
      "Best loss:  0.0040198993\n",
      "\n"
     ]
    },
    {
     "name": "stderr",
     "output_type": "stream",
     "text": [
      "wandb:                                                                                \n",
      "wandb: Find user logs for this run at: wandb\\run-20201007_200149-kjdnem5m\\logs\\debug.log\n",
      "wandb: Find internal logs for this run at: wandb\\run-20201007_200149-kjdnem5m\\logs\\debug-internal.log\n",
      "wandb: Run summary:\n",
      "wandb:          loss 0.004019899293780327\n",
      "wandb:         _step 155\n",
      "wandb:      _runtime 127\n",
      "wandb:    _timestamp 1602115441\n",
      "wandb: Run history:\n",
      "wandb:         loss █▁▁▁▁▁▁▁▁▁▁▁▁▁▁▁▁▁▁▁▁▁▁▁▁▁▁▁▁▁▁▁▁▁▁▁▁▁▁▁\n",
      "wandb:        _step ▁▁▁▁▂▂▂▂▂▃▃▃▃▃▃▄▄▄▄▄▅▅▅▅▅▅▆▆▆▆▆▇▇▇▇▇▇███\n",
      "wandb:     _runtime ▁▁▁▁▂▂▂▂▂▃▃▃▃▃▃▄▄▄▄▄▅▅▅▅▅▅▆▆▆▆▆▇▇▇▇▇▇███\n",
      "wandb:   _timestamp ▁▁▁▁▂▂▂▂▂▃▃▃▃▃▃▄▄▄▄▄▅▅▅▅▅▅▆▆▆▆▆▇▇▇▇▇▇███\n",
      "wandb: Synced 6 W&B file(s), 10 media file(s), 0 artifact file(s) and 5 other file(s)\n",
      "wandb: \n",
      "wandb: Synced wise-grass-326: https://wandb.ai/omegachysis/neural-cellular-automata/runs/kjdnem5m\n",
      "wandb: wandb version 0.10.5 is available!  To upgrade, please run:\n",
      "wandb:  $ pip install wandb --upgrade\n",
      "wandb: Tracking run with wandb version 0.10.2\n",
      "wandb: Run data is saved locally in wandb\\run-20201007_200401-k5kpygy5\n",
      "wandb: Syncing run worldly-firefly-327\n"
     ]
    },
    {
     "data": {
      "text/html": [
       "\n",
       "                Logging results to <a href=\"https://wandb.com\" target=\"_blank\">Weights & Biases</a> <a href=\"https://docs.wandb.com/integrations/jupyter.html\" target=\"_blank\">(Documentation)</a>.<br/>\n",
       "                Project page: <a href=\"https://wandb.ai/omegachysis/neural-cellular-automata\" target=\"_blank\">https://wandb.ai/omegachysis/neural-cellular-automata</a><br/>\n",
       "                Run page: <a href=\"https://wandb.ai/omegachysis/neural-cellular-automata/runs/k5kpygy5\" target=\"_blank\">https://wandb.ai/omegachysis/neural-cellular-automata/runs/k5kpygy5</a><br/>\n",
       "            "
      ],
      "text/plain": [
       "<IPython.core.display.HTML object>"
      ]
     },
     "metadata": {},
     "output_type": "display_data"
    },
    {
     "name": "stdout",
     "output_type": "stream",
     "text": [
      "\n",
      "Stopping due to time-out\n",
      "Time:  25.044093132019043 seconds\n",
      "Best loss:  0.024044253\n",
      "Stopping due to time-out\n",
      "Time:  25.132604360580444 seconds\n",
      "Best loss:  0.023389973\n",
      "Stopping due to time-out\n",
      "Time:  24.09922194480896 seconds\n",
      "Best loss:  0.023046024\n",
      "Stopping due to time-out\n",
      "Time:  24.80061173439026 seconds\n",
      "Best loss:  0.023046024\n",
      "Stopping due to time-out\n",
      "Time:  24.345954418182373 seconds\n"
     ]
    },
    {
     "name": "stderr",
     "output_type": "stream",
     "text": [
      "wandb: Waiting for W&B process to finish, PID 18068\n",
      "wandb: Program ended successfully.\n",
      "wandb: - 4.31MB of 4.31MB uploaded (0.00MB deduped)\r"
     ]
    },
    {
     "name": "stdout",
     "output_type": "stream",
     "text": [
      "Best loss:  0.021907171\n",
      "\n"
     ]
    },
    {
     "name": "stderr",
     "output_type": "stream",
     "text": [
      "wandb:                                                                                \n",
      "wandb: Find user logs for this run at: wandb\\run-20201007_200401-k5kpygy5\\logs\\debug.log\n",
      "wandb: Find internal logs for this run at: wandb\\run-20201007_200401-k5kpygy5\\logs\\debug-internal.log\n",
      "wandb: Run summary:\n",
      "wandb:          loss 0.021907171234488487\n",
      "wandb:         _step 75\n",
      "wandb:      _runtime 129\n",
      "wandb:    _timestamp 1602115576\n",
      "wandb: Run history:\n",
      "wandb:         loss ▁█▁▁▁▁▁▁▁▁▁▁▁▁▁▁▁▁▁▁▁▁▁▁▁▁▁▁▁▁▁▁▁▁▁▁▁▁▁▁\n",
      "wandb:        _step ▁▁▁▁▂▂▂▂▂▃▃▃▃▃▃▄▄▄▄▄▅▅▅▅▅▅▆▆▆▆▆▆▇▇▇▇▇███\n",
      "wandb:     _runtime ▁▁▁▁▂▂▂▂▂▂▃▃▃▃▃▄▄▄▄▄▅▅▅▅▅▆▆▆▆▆▆▇▇▇▇▇▇███\n",
      "wandb:   _timestamp ▁▁▁▁▂▂▂▂▂▂▃▃▃▃▃▄▄▄▄▄▅▅▅▅▅▆▆▆▆▆▆▇▇▇▇▇▇███\n",
      "wandb: Synced 6 W&B file(s), 10 media file(s), 0 artifact file(s) and 5 other file(s)\n",
      "wandb: \n",
      "wandb: Synced worldly-firefly-327: https://wandb.ai/omegachysis/neural-cellular-automata/runs/k5kpygy5\n",
      "wandb: wandb version 0.10.5 is available!  To upgrade, please run:\n",
      "wandb:  $ pip install wandb --upgrade\n",
      "wandb: Tracking run with wandb version 0.10.2\n",
      "wandb: Run data is saved locally in wandb\\run-20201007_200616-2y9lkfqg\n",
      "wandb: Syncing run colorful-snowball-328\n"
     ]
    },
    {
     "data": {
      "text/html": [
       "\n",
       "                Logging results to <a href=\"https://wandb.com\" target=\"_blank\">Weights & Biases</a> <a href=\"https://docs.wandb.com/integrations/jupyter.html\" target=\"_blank\">(Documentation)</a>.<br/>\n",
       "                Project page: <a href=\"https://wandb.ai/omegachysis/neural-cellular-automata\" target=\"_blank\">https://wandb.ai/omegachysis/neural-cellular-automata</a><br/>\n",
       "                Run page: <a href=\"https://wandb.ai/omegachysis/neural-cellular-automata/runs/2y9lkfqg\" target=\"_blank\">https://wandb.ai/omegachysis/neural-cellular-automata/runs/2y9lkfqg</a><br/>\n",
       "            "
      ],
      "text/plain": [
       "<IPython.core.display.HTML object>"
      ]
     },
     "metadata": {},
     "output_type": "display_data"
    },
    {
     "name": "stdout",
     "output_type": "stream",
     "text": [
      "\n",
      "Stopping due to time-out\n",
      "Time:  26.90242576599121 seconds\n",
      "Best loss:  0.033328302\n",
      "Stopping due to time-out\n",
      "Time:  26.506056308746338 seconds\n",
      "Best loss:  0.024599683\n",
      "Stopping due to time-out\n",
      "Time:  27.11799383163452 seconds\n",
      "Best loss:  0.023152534\n",
      "Stopping due to time-out\n",
      "Time:  24.30306649208069 seconds\n",
      "Best loss:  0.023152534\n",
      "Stopping due to time-out\n",
      "Time:  26.085246801376343 seconds\n",
      "Best loss:  0.02300899\n"
     ]
    }
   ],
   "source": [
    "import main\n",
    "main.main()"
   ]
  },
  {
   "cell_type": "code",
   "execution_count": 2,
   "metadata": {},
   "outputs": [
    {
     "name": "stderr",
     "output_type": "stream",
     "text": [
      "wandb: Waiting for W&B process to finish, PID 13596\n",
      "wandb: Program ended successfully.\n"
     ]
    },
    {
     "name": "stdout",
     "output_type": "stream",
     "text": [
      "\n"
     ]
    },
    {
     "name": "stderr",
     "output_type": "stream",
     "text": [
      "wandb:                                                                                \n",
      "wandb: Find user logs for this run at: wandb\\run-20201007_200616-2y9lkfqg\\logs\\debug.log\n",
      "wandb: Find internal logs for this run at: wandb\\run-20201007_200616-2y9lkfqg\\logs\\debug-internal.log\n",
      "wandb: Run summary:\n",
      "wandb:          loss 0.02368977852165699\n",
      "wandb:         _step 39\n",
      "wandb:      _runtime 140\n",
      "wandb:    _timestamp 1602115722\n",
      "wandb: Run history:\n",
      "wandb:         loss ▁█▁▁▁▁▁▁▁▁▁▁▁▁▁▁▁▁▁▁▁▁▁▁▁▁▁▁▁▁▁▁▁▁▁▁▁▁▁\n",
      "wandb:        _step ▁▁▁▂▂▂▂▂▂▃▃▃▃▃▄▄▄▄▄▅▅▅▅▅▅▆▆▆▆▆▇▇▇▇▇▇███\n",
      "wandb:     _runtime ▁▁▁▂▂▂▂▂▂▃▃▃▃▃▄▄▄▄▄▄▅▅▅▅▆▆▆▆▆▆▇▇▇▇▇████\n",
      "wandb:   _timestamp ▁▁▁▂▂▂▂▂▂▃▃▃▃▃▄▄▄▄▄▄▅▅▅▅▆▆▆▆▆▆▇▇▇▇▇████\n",
      "wandb: Synced 6 W&B file(s), 10 media file(s), 0 artifact file(s) and 5 other file(s)\n",
      "wandb: \n",
      "wandb: Synced colorful-snowball-328: https://wandb.ai/omegachysis/neural-cellular-automata/runs/2y9lkfqg\n"
     ]
    }
   ],
   "source": [
    "quit()"
   ]
  },
  {
   "cell_type": "code",
   "execution_count": null,
   "metadata": {},
   "outputs": [],
   "source": []
  }
 ],
 "metadata": {
  "kernelspec": {
   "display_name": "Python 3",
   "language": "python",
   "name": "python3"
  },
  "language_info": {
   "codemirror_mode": {
    "name": "ipython",
    "version": 3
   },
   "file_extension": ".py",
   "mimetype": "text/x-python",
   "name": "python",
   "nbconvert_exporter": "python",
   "pygments_lexer": "ipython3",
   "version": "3.8.3"
  }
 },
 "nbformat": 4,
 "nbformat_minor": 4
}
