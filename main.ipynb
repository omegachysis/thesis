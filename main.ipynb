{
 "cells": [
  {
   "cell_type": "code",
   "execution_count": 4,
   "metadata": {},
   "outputs": [
    {
     "name": "stderr",
     "output_type": "stream",
     "text": [
      "wandb: Waiting for W&B process to finish, PID 2344\n",
      "wandb: Program ended successfully.\n",
      "wandb: - 0.01MB of 0.01MB uploaded (0.00MB deduped)\r"
     ]
    },
    {
     "name": "stdout",
     "output_type": "stream",
     "text": [
      "\n"
     ]
    },
    {
     "name": "stderr",
     "output_type": "stream",
     "text": [
      "wandb:                                                                                \n",
      "wandb: Find user logs for this run at: wandb\\run-20201105_141300-2a56en14\\logs\\debug.log\n",
      "wandb: Find internal logs for this run at: wandb\\run-20201105_141300-2a56en14\\logs\\debug-internal.log\n",
      "wandb: Synced 6 W&B file(s), 0 media file(s), 0 artifact file(s) and 0 other file(s)\n",
      "wandb: \n",
      "wandb: Synced azure-blaze-606: https://wandb.ai/omegachysis/neural-cellular-automata/runs/2a56en14\n",
      "wandb: wandb version 0.10.9 is available!  To upgrade, please run:\n",
      "wandb:  $ pip install wandb --upgrade\n",
      "wandb: Tracking run with wandb version 0.10.2\n",
      "wandb: Run data is saved locally in wandb\\run-20201105_141337-2akswvbp\n",
      "wandb: Syncing run elated-violet-607\n"
     ]
    },
    {
     "data": {
      "text/html": [
       "\n",
       "                Logging results to <a href=\"https://wandb.com\" target=\"_blank\">Weights & Biases</a> <a href=\"https://docs.wandb.com/integrations/jupyter.html\" target=\"_blank\">(Documentation)</a>.<br/>\n",
       "                Project page: <a href=\"https://wandb.ai/omegachysis/neural-cellular-automata\" target=\"_blank\">https://wandb.ai/omegachysis/neural-cellular-automata</a><br/>\n",
       "                Run page: <a href=\"https://wandb.ai/omegachysis/neural-cellular-automata/runs/2akswvbp\" target=\"_blank\">https://wandb.ai/omegachysis/neural-cellular-automata/runs/2akswvbp</a><br/>\n",
       "            "
      ],
      "text/plain": [
       "<IPython.core.display.HTML object>"
      ]
     },
     "metadata": {},
     "output_type": "display_data"
    },
    {
     "name": "stdout",
     "output_type": "stream",
     "text": [
      "\n",
      "Model: \"sequential_4\"\n",
      "_________________________________________________________________\n",
      "Layer (type)                 Output Shape              Param #   \n",
      "=================================================================\n",
      "conv2d_8 (Conv2D)            multiple                  11776     \n",
      "_________________________________________________________________\n",
      "conv2d_9 (Conv2D)            multiple                  3855      \n",
      "=================================================================\n",
      "Total params: 15,631\n",
      "Trainable params: 15,631\n",
      "Non-trainable params: 0\n",
      "_________________________________________________________________\n",
      "Lifetime:  50\n",
      "Target size:  25\n",
      "Stopping due to time-out\n",
      "Time:  20.18499493598938 seconds\n",
      "Best loss:  0.062272433\n",
      "Lifetime:  50\n",
      "Target size:  25\n",
      "Stopping due to time-out\n",
      "Time:  20.163000106811523 seconds\n",
      "Best loss:  0.04089673\n",
      "Lifetime:  50\n",
      "Target size:  25\n",
      "Stopping due to time-out\n",
      "Time:  20.078984260559082 seconds\n"
     ]
    },
    {
     "name": "stderr",
     "output_type": "stream",
     "text": [
      "wandb: Waiting for W&B process to finish, PID 1456\n",
      "wandb: Program ended successfully.\n",
      "wandb: - 4.24MB of 4.24MB uploaded (0.00MB deduped)\r"
     ]
    },
    {
     "name": "stdout",
     "output_type": "stream",
     "text": [
      "Best loss:  0.0294004\n",
      "Total elapsed time: 63.40176343917847 seconds\n",
      "\n"
     ]
    },
    {
     "name": "stderr",
     "output_type": "stream",
     "text": [
      "wandb:                                                                                \n",
      "wandb: Find user logs for this run at: wandb\\run-20201105_141337-2akswvbp\\logs\\debug.log\n",
      "wandb: Find internal logs for this run at: wandb\\run-20201105_141337-2akswvbp\\logs\\debug-internal.log\n",
      "wandb: Run summary:\n",
      "wandb:         _step 178\n",
      "wandb:      _runtime 65\n",
      "wandb:    _timestamp 1604603688\n",
      "wandb:          loss 0.03141229599714279\n",
      "wandb: Run history:\n",
      "wandb:        _step ▁▁▁▁▂▂▂▂▂▃▃▃▃▃▃▄▄▄▄▄▅▅▅▅▅▅▆▆▆▆▆▆▇▇▇▇▇███\n",
      "wandb:     _runtime ▁▁▁▁▂▂▂▂▂▃▃▃▃▃▄▄▄▄▄▅▅▅▅▅▅▅▆▆▆▆▆▇▇▇▇▇████\n",
      "wandb:   _timestamp ▁▁▁▁▂▂▂▂▂▃▃▃▃▃▄▄▄▄▄▅▅▅▅▅▅▅▆▆▆▆▆▇▇▇▇▇████\n",
      "wandb:         loss █▁▁▁▁▁▁▁▁▁▁▁▁▁▁▁▁▁▁▁▁▁▁▁▁▁▁▁▁▁▁▁▁▁▁▁▁▁▁▁\n",
      "wandb: Synced 6 W&B file(s), 8 media file(s), 0 artifact file(s) and 4 other file(s)\n",
      "wandb: \n",
      "wandb: Synced elated-violet-607: https://wandb.ai/omegachysis/neural-cellular-automata/runs/2akswvbp\n",
      "wandb: wandb version 0.10.9 is available!  To upgrade, please run:\n",
      "wandb:  $ pip install wandb --upgrade\n",
      "wandb: Tracking run with wandb version 0.10.2\n",
      "wandb: Run data is saved locally in wandb\\run-20201105_141448-xqno5nkn\n",
      "wandb: Syncing run ethereal-microwave-608\n"
     ]
    },
    {
     "data": {
      "text/html": [
       "\n",
       "                Logging results to <a href=\"https://wandb.com\" target=\"_blank\">Weights & Biases</a> <a href=\"https://docs.wandb.com/integrations/jupyter.html\" target=\"_blank\">(Documentation)</a>.<br/>\n",
       "                Project page: <a href=\"https://wandb.ai/omegachysis/neural-cellular-automata\" target=\"_blank\">https://wandb.ai/omegachysis/neural-cellular-automata</a><br/>\n",
       "                Run page: <a href=\"https://wandb.ai/omegachysis/neural-cellular-automata/runs/xqno5nkn\" target=\"_blank\">https://wandb.ai/omegachysis/neural-cellular-automata/runs/xqno5nkn</a><br/>\n",
       "            "
      ],
      "text/plain": [
       "<IPython.core.display.HTML object>"
      ]
     },
     "metadata": {},
     "output_type": "display_data"
    },
    {
     "name": "stdout",
     "output_type": "stream",
     "text": [
      "\n",
      "Model: \"sequential_5\"\n",
      "_________________________________________________________________\n",
      "Layer (type)                 Output Shape              Param #   \n",
      "=================================================================\n",
      "conv2d_10 (Conv2D)           multiple                  11776     \n",
      "_________________________________________________________________\n",
      "conv2d_11 (Conv2D)           multiple                  3855      \n",
      "=================================================================\n",
      "Total params: 15,631\n",
      "Trainable params: 15,631\n",
      "Non-trainable params: 0\n",
      "_________________________________________________________________\n",
      "Lifetime:  50\n",
      "Target size:  25\n",
      "Stopping due to time-out\n",
      "Time:  20.29900050163269 seconds\n",
      "Best loss:  0.16248374\n",
      "Lifetime:  50\n",
      "Target size:  25\n",
      "Stopping due to time-out\n",
      "Time:  20.223992347717285 seconds\n",
      "Best loss:  0.12698258\n",
      "Lifetime:  50\n",
      "Target size:  25\n",
      "Stopping due to time-out\n",
      "Time:  20.121004104614258 seconds\n"
     ]
    },
    {
     "name": "stderr",
     "output_type": "stream",
     "text": [
      "wandb: Waiting for W&B process to finish, PID 9540\n",
      "wandb: Program ended successfully.\n",
      "wandb: - 4.41MB of 4.42MB uploaded (0.00MB deduped)\r"
     ]
    },
    {
     "name": "stdout",
     "output_type": "stream",
     "text": [
      "Best loss:  0.059955765\n",
      "Total elapsed time: 63.941999673843384 seconds\n",
      "\n"
     ]
    },
    {
     "name": "stderr",
     "output_type": "stream",
     "text": [
      "wandb:                                                                                \n",
      "wandb: Find user logs for this run at: wandb\\run-20201105_141448-xqno5nkn\\logs\\debug.log\n",
      "wandb: Find internal logs for this run at: wandb\\run-20201105_141448-xqno5nkn\\logs\\debug-internal.log\n",
      "wandb: Run summary:\n",
      "wandb:         _step 162\n",
      "wandb:      _runtime 65\n",
      "wandb:    _timestamp 1604603759\n",
      "wandb:          loss 0.08489164710044861\n",
      "wandb: Run history:\n",
      "wandb:        _step ▁▁▁▂▂▂▂▂▂▃▃▃▃▃▃▄▄▄▄▄▅▅▅▅▅▅▆▆▆▆▆▇▇▇▇▇▇███\n",
      "wandb:     _runtime ▁▁▁▁▂▂▂▂▂▃▃▃▃▄▄▄▄▄▅▅▅▅▅▅▅▆▆▆▆▆▇▇▇▇▇▇████\n",
      "wandb:   _timestamp ▁▁▁▁▂▂▂▂▂▃▃▃▃▄▄▄▄▄▅▅▅▅▅▅▅▆▆▆▆▆▇▇▇▇▇▇████\n",
      "wandb:         loss █▇▇▇▆▆▅▅▅▆▅▅▅▄▅▅▅▅▄▄▄▄▃▄▄▄▃▃▃▂▂▂▁▁▂▁▁▂▁▁\n",
      "wandb: Synced 6 W&B file(s), 8 media file(s), 0 artifact file(s) and 3 other file(s)\n",
      "wandb: \n",
      "wandb: Synced ethereal-microwave-608: https://wandb.ai/omegachysis/neural-cellular-automata/runs/xqno5nkn\n",
      "wandb: wandb version 0.10.9 is available!  To upgrade, please run:\n",
      "wandb:  $ pip install wandb --upgrade\n",
      "wandb: Tracking run with wandb version 0.10.2\n",
      "wandb: Run data is saved locally in wandb\\run-20201105_141559-1wimy0os\n",
      "wandb: Syncing run logical-serenity-609\n"
     ]
    },
    {
     "data": {
      "text/html": [
       "\n",
       "                Logging results to <a href=\"https://wandb.com\" target=\"_blank\">Weights & Biases</a> <a href=\"https://docs.wandb.com/integrations/jupyter.html\" target=\"_blank\">(Documentation)</a>.<br/>\n",
       "                Project page: <a href=\"https://wandb.ai/omegachysis/neural-cellular-automata\" target=\"_blank\">https://wandb.ai/omegachysis/neural-cellular-automata</a><br/>\n",
       "                Run page: <a href=\"https://wandb.ai/omegachysis/neural-cellular-automata/runs/1wimy0os\" target=\"_blank\">https://wandb.ai/omegachysis/neural-cellular-automata/runs/1wimy0os</a><br/>\n",
       "            "
      ],
      "text/plain": [
       "<IPython.core.display.HTML object>"
      ]
     },
     "metadata": {},
     "output_type": "display_data"
    },
    {
     "name": "stdout",
     "output_type": "stream",
     "text": [
      "\n",
      "Model: \"sequential_6\"\n",
      "_________________________________________________________________\n",
      "Layer (type)                 Output Shape              Param #   \n",
      "=================================================================\n",
      "conv2d_12 (Conv2D)           multiple                  11776     \n",
      "_________________________________________________________________\n",
      "conv2d_13 (Conv2D)           multiple                  3855      \n",
      "=================================================================\n",
      "Total params: 15,631\n",
      "Trainable params: 15,631\n",
      "Non-trainable params: 0\n",
      "_________________________________________________________________\n",
      "Lifetime:  50\n",
      "Target size:  25\n",
      "Stopping due to time-out\n",
      "Time:  20.10399866104126 seconds\n",
      "Best loss:  0.031665396\n",
      "Lifetime:  50\n",
      "Target size:  25\n",
      "Stopping due to time-out\n",
      "Time:  20.21098756790161 seconds\n",
      "Best loss:  0.029325146\n",
      "Lifetime:  50\n",
      "Target size:  25\n",
      "Stopping due to time-out\n",
      "Time:  20.10199999809265 seconds\n",
      "Best loss:  0.014833655\n",
      "Total elapsed time: 64.17500138282776 seconds\n"
     ]
    }
   ],
   "source": [
    "from importlib import reload\n",
    "import main\n",
    "main = reload(main)\n",
    "main.main()"
   ]
  },
  {
   "cell_type": "code",
   "execution_count": 5,
   "metadata": {},
   "outputs": [
    {
     "name": "stderr",
     "output_type": "stream",
     "text": [
      "wandb: Waiting for W&B process to finish, PID 8228\n",
      "wandb: Program ended successfully.\n",
      "wandb: - 4.39MB of 4.39MB uploaded (0.00MB deduped)\r"
     ]
    },
    {
     "name": "stdout",
     "output_type": "stream",
     "text": [
      "\n"
     ]
    },
    {
     "name": "stderr",
     "output_type": "stream",
     "text": [
      "wandb:                                                                                \n",
      "wandb: Find user logs for this run at: wandb\\run-20201105_141559-1wimy0os\\logs\\debug.log\n",
      "wandb: Find internal logs for this run at: wandb\\run-20201105_141559-1wimy0os\\logs\\debug-internal.log\n",
      "wandb: Run summary:\n",
      "wandb:         _step 171\n",
      "wandb:      _runtime 66\n",
      "wandb:    _timestamp 1604603831\n",
      "wandb:          loss 0.022109586745500565\n",
      "wandb: Run history:\n",
      "wandb:        _step ▁▁▁▁▂▂▂▂▂▃▃▃▃▃▃▄▄▄▄▄▅▅▅▅▅▅▆▆▆▆▆▇▇▇▇▇▇███\n",
      "wandb:     _runtime ▁▁▁▁▂▂▂▂▂▃▃▃▃▄▄▄▄▄▄▅▅▅▅▅▅▆▆▆▆▆▆▇▇▇▇▇████\n",
      "wandb:   _timestamp ▁▁▁▁▂▂▂▂▂▃▃▃▃▄▄▄▄▄▄▅▅▅▅▅▅▆▆▆▆▆▆▇▇▇▇▇████\n",
      "wandb:         loss █▃▂▂▂▂▂▂▂▂▂▁▁▁▁▁▁▁▁▁▁▁▁▁▁▁▁▁▁▁▁▁▁▁▁▁▁▁▁▁\n",
      "wandb: Synced 6 W&B file(s), 8 media file(s), 0 artifact file(s) and 3 other file(s)\n",
      "wandb: \n",
      "wandb: Synced logical-serenity-609: https://wandb.ai/omegachysis/neural-cellular-automata/runs/1wimy0os\n"
     ]
    }
   ],
   "source": [
    "quit()"
   ]
  },
  {
   "cell_type": "code",
   "execution_count": null,
   "metadata": {},
   "outputs": [],
   "source": [
    "from importlib import reload\n",
    "import bioinfo\n",
    "bioinfo = reload(bioinfo)\n",
    "bioinfo.main()"
   ]
  },
  {
   "cell_type": "code",
   "execution_count": null,
   "metadata": {},
   "outputs": [],
   "source": [
    "quit()"
   ]
  },
  {
   "cell_type": "code",
   "execution_count": null,
   "metadata": {},
   "outputs": [],
   "source": []
  }
 ],
 "metadata": {
  "kernelspec": {
   "display_name": "Python 3",
   "language": "python",
   "name": "python3"
  },
  "language_info": {
   "codemirror_mode": {
    "name": "ipython",
    "version": 3
   },
   "file_extension": ".py",
   "mimetype": "text/x-python",
   "name": "python",
   "nbconvert_exporter": "python",
   "pygments_lexer": "ipython3",
   "version": "3.8.3"
  }
 },
 "nbformat": 4,
 "nbformat_minor": 4
}
