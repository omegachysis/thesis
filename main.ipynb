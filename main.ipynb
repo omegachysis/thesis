{
 "cells": [
  {
   "cell_type": "code",
   "execution_count": 1,
   "metadata": {},
   "outputs": [
    {
     "name": "stderr",
     "output_type": "stream",
     "text": [
      "wandb: Currently logged in as: omegachysis (use `wandb login --relogin` to force relogin)\n",
      "c:\\users\\matthew a. robinson\\appdata\\local\\programs\\python\\python38\\lib\\site-packages\\IPython\\html.py:12: ShimWarning: The `IPython.html` package has been deprecated since IPython 4.0. You should import from `notebook` instead. `IPython.html.widgets` has moved to `ipywidgets`.\n",
      "  warn(\"The `IPython.html` package has been deprecated since IPython 4.0. \"\n",
      "wandb: wandb version 0.10.13 is available!  To upgrade, please run:\n",
      "wandb:  $ pip install wandb --upgrade\n"
     ]
    },
    {
     "data": {
      "text/html": [
       "\n",
       "                Tracking run with wandb version 0.10.10<br/>\n",
       "                Syncing run <strong style=\"color:#cdcd00\">fiery-bird-953</strong> to <a href=\"https://wandb.ai\" target=\"_blank\">Weights & Biases</a> <a href=\"https://docs.wandb.com/integrations/jupyter.html\" target=\"_blank\">(Documentation)</a>.<br/>\n",
       "                Project page: <a href=\"https://wandb.ai/omegachysis/neural-cellular-automata\" target=\"_blank\">https://wandb.ai/omegachysis/neural-cellular-automata</a><br/>\n",
       "                Run page: <a href=\"https://wandb.ai/omegachysis/neural-cellular-automata/runs/1mfd2ppn\" target=\"_blank\">https://wandb.ai/omegachysis/neural-cellular-automata/runs/1mfd2ppn</a><br/>\n",
       "                Run data is saved locally in <code>E:\\Files\\Programming\\thesis\\wandb\\run-20210114_210458-1mfd2ppn</code><br/><br/>\n",
       "            "
      ],
      "text/plain": [
       "<IPython.core.display.HTML object>"
      ]
     },
     "metadata": {},
     "output_type": "display_data"
    },
    {
     "name": "stdout",
     "output_type": "stream",
     "text": [
      "Model: \"sequential\"\n",
      "_________________________________________________________________\n",
      "Layer (type)                 Output Shape              Param #   \n",
      "=================================================================\n",
      "conv2d (Conv2D)              multiple                  11776     \n",
      "_________________________________________________________________\n",
      "conv2d_1 (Conv2D)            multiple                  3855      \n",
      "=================================================================\n",
      "Total params: 15,631\n",
      "Trainable params: 15,631\n",
      "Non-trainable params: 0\n",
      "_________________________________________________________________\n",
      "Target state:\n"
     ]
    },
    {
     "data": {
      "image/png": "[encoded data removed]",
      "text/plain": [
       "<IPython.core.display.Image object>"
      ]
     },
     "metadata": {},
     "output_type": "display_data"
    },
    {
     "name": "stdout",
     "output_type": "stream",
     "text": [
      "Window size:  32\n",
      "Stopping due to target loss\n",
      "Time:  364.30000019073486 seconds\n",
      "Total elapsed time: 364.30599880218506 seconds\n"
     ]
    },
    {
     "data": {
      "text/html": [
       "Finishing last run (ID:1mfd2ppn) before initializing another..."
      ],
      "text/plain": [
       "<IPython.core.display.HTML object>"
      ]
     },
     "metadata": {},
     "output_type": "display_data"
    },
    {
     "data": {
      "text/html": [
       "<br/>Waiting for W&B process to finish, PID 9296<br/>Program ended successfully."
      ],
      "text/plain": [
       "<IPython.core.display.HTML object>"
      ]
     },
     "metadata": {},
     "output_type": "display_data"
    },
    {
     "data": {
      "text/html": [
       "Find user logs for this run at: <code>E:\\Files\\Programming\\thesis\\wandb\\run-20210114_210458-1mfd2ppn\\logs\\debug.log</code>"
      ],
      "text/plain": [
       "<IPython.core.display.HTML object>"
      ]
     },
     "metadata": {},
     "output_type": "display_data"
    },
    {
     "data": {
      "text/html": [
       "Find internal logs for this run at: <code>E:\\Files\\Programming\\thesis\\wandb\\run-20210114_210458-1mfd2ppn\\logs\\debug-internal.log</code>"
      ],
      "text/plain": [
       "<IPython.core.display.HTML object>"
      ]
     },
     "metadata": {},
     "output_type": "display_data"
    },
    {
     "data": {
      "text/html": [
       "<h3>Run summary:</h3><br/><style>\n",
       "    table.wandb td:nth-child(1) { padding: 0 10px; text-align: right }\n",
       "    </style><table class=\"wandb\">\n",
       "<tr><td>loss</td><td>0.00466</td></tr><tr><td>step</td><td>3416</td></tr><tr><td>loss0</td><td>0.00466</td></tr><tr><td>_step</td><td>3416</td></tr><tr><td>_runtime</td><td>367</td></tr><tr><td>_timestamp</td><td>1610676665</td></tr><tr><td>total_seconds</td><td>364.306</td></tr></table>"
      ],
      "text/plain": [
       "<IPython.core.display.HTML object>"
      ]
     },
     "metadata": {},
     "output_type": "display_data"
    },
    {
     "data": {
      "text/html": [
       "<h3>Run history:</h3><br/><style>\n",
       "    table.wandb td:nth-child(1) { padding: 0 10px; text-align: right }\n",
       "    </style><table class=\"wandb\">\n",
       "<tr><td>loss</td><td>█▄▃▃▂▂▂▂▂▂▂▂▁▁▁▁▁▁▁▂▁▁▁▁▁▁▁▁▁▁▁▁▁▁▁▁▁▁▁▁</td></tr><tr><td>step</td><td>▁▁▁▂▂▂▂▂▂▃▃▃▃▃▃▄▄▄▄▄▅▅▅▅▅▅▆▆▆▆▆▇▇▇▇▇▇███</td></tr><tr><td>loss0</td><td>█▄▃▃▂▂▂▂▂▂▂▂▁▁▁▁▁▁▁▂▁▁▁▁▁▁▁▁▁▁▁▁▁▁▁▁▁▁▁▁</td></tr><tr><td>_step</td><td>▁▁▁▂▂▂▂▂▂▃▃▃▃▃▃▄▄▄▄▄▅▅▅▅▅▅▆▆▆▆▆▇▇▇▇▇▇███</td></tr><tr><td>_runtime</td><td>▁▁▁▂▂▂▂▂▂▃▃▃▃▃▄▄▄▄▄▅▅▅▅▅▅▆▆▆▆▆▆▇▇▇▇▇▇███</td></tr><tr><td>_timestamp</td><td>▁▁▁▂▂▂▂▂▂▃▃▃▃▃▄▄▄▄▄▅▅▅▅▅▅▆▆▆▆▆▆▇▇▇▇▇▇███</td></tr></table><br/>"
      ],
      "text/plain": [
       "<IPython.core.display.HTML object>"
      ]
     },
     "metadata": {},
     "output_type": "display_data"
    },
    {
     "data": {
      "text/html": [
       "Synced 6 W&B file(s), 2 media file(s), 0 artifact file(s) and 0 other file(s)"
      ],
      "text/plain": [
       "<IPython.core.display.HTML object>"
      ]
     },
     "metadata": {},
     "output_type": "display_data"
    },
    {
     "data": {
      "text/html": [
       "\n",
       "                    <br/>Synced <strong style=\"color:#cdcd00\">fiery-bird-953</strong>: <a href=\"https://wandb.ai/omegachysis/neural-cellular-automata/runs/1mfd2ppn\" target=\"_blank\">https://wandb.ai/omegachysis/neural-cellular-automata/runs/1mfd2ppn</a><br/>\n",
       "                "
      ],
      "text/plain": [
       "<IPython.core.display.HTML object>"
      ]
     },
     "metadata": {},
     "output_type": "display_data"
    },
    {
     "data": {
      "text/html": [
       "...Successfully finished last run (ID:1mfd2ppn). Initializing new run:<br/><br/>"
      ],
      "text/plain": [
       "<IPython.core.display.HTML object>"
      ]
     },
     "metadata": {},
     "output_type": "display_data"
    },
    {
     "name": "stderr",
     "output_type": "stream",
     "text": [
      "wandb: wandb version 0.10.13 is available!  To upgrade, please run:\n",
      "wandb:  $ pip install wandb --upgrade\n"
     ]
    },
    {
     "data": {
      "text/html": [
       "\n",
       "                Tracking run with wandb version 0.10.10<br/>\n",
       "                Syncing run <strong style=\"color:#cdcd00\">dauntless-snowflake-954</strong> to <a href=\"https://wandb.ai\" target=\"_blank\">Weights & Biases</a> <a href=\"https://docs.wandb.com/integrations/jupyter.html\" target=\"_blank\">(Documentation)</a>.<br/>\n",
       "                Project page: <a href=\"https://wandb.ai/omegachysis/neural-cellular-automata\" target=\"_blank\">https://wandb.ai/omegachysis/neural-cellular-automata</a><br/>\n",
       "                Run page: <a href=\"https://wandb.ai/omegachysis/neural-cellular-automata/runs/1hu2ugsc\" target=\"_blank\">https://wandb.ai/omegachysis/neural-cellular-automata/runs/1hu2ugsc</a><br/>\n",
       "                Run data is saved locally in <code>E:\\Files\\Programming\\thesis\\wandb\\run-20210114_211105-1hu2ugsc</code><br/><br/>\n",
       "            "
      ],
      "text/plain": [
       "<IPython.core.display.HTML object>"
      ]
     },
     "metadata": {},
     "output_type": "display_data"
    },
    {
     "name": "stdout",
     "output_type": "stream",
     "text": [
      "Model: \"sequential_1\"\n",
      "_________________________________________________________________\n",
      "Layer (type)                 Output Shape              Param #   \n",
      "=================================================================\n",
      "conv2d_2 (Conv2D)            multiple                  14080     \n",
      "_________________________________________________________________\n",
      "conv2d_3 (Conv2D)            multiple                  4626      \n",
      "=================================================================\n",
      "Total params: 18,706\n",
      "Trainable params: 18,706\n",
      "Non-trainable params: 0\n",
      "_________________________________________________________________\n",
      "Target state:\n"
     ]
    },
    {
     "data": {
      "image/png": "[encoded data removed]",
      "text/plain": [
       "<IPython.core.display.Image object>"
      ]
     },
     "metadata": {},
     "output_type": "display_data"
    },
    {
     "name": "stdout",
     "output_type": "stream",
     "text": [
      "Window size:  3\n",
      "Stopping due to target loss\n",
      "Time:  2.049999237060547 seconds\n",
      "Window size:  6\n",
      "Stopping due to target loss\n",
      "Time:  4.622001647949219 seconds\n",
      "Window size:  9\n",
      "Stopping due to target loss\n",
      "Time:  8.571002006530762 seconds\n",
      "Window size:  12\n",
      "Stopping due to target loss\n",
      "Time:  13.326000213623047 seconds\n",
      "Window size:  15\n",
      "Stopping due to target loss\n",
      "Time:  10.802998065948486 seconds\n",
      "Window size:  18\n",
      "Stopping due to target loss\n",
      "Time:  21.68900227546692 seconds\n",
      "Window size:  21\n",
      "Stopping due to target loss\n",
      "Time:  18.567999601364136 seconds\n",
      "Window size:  24\n",
      "Stopping due to target loss\n",
      "Time:  30.40999937057495 seconds\n",
      "Window size:  27\n",
      "Stopping due to target loss\n",
      "Time:  18.182000398635864 seconds\n",
      "Window size:  30\n",
      "Stopping due to target loss\n",
      "Time:  40.34699845314026 seconds\n",
      "Window size:  33\n",
      "Stopping due to target loss\n",
      "Time:  19.977001667022705 seconds\n",
      "Total elapsed time: 188.59900283813477 seconds\n"
     ]
    }
   ],
   "source": [
    "from importlib import reload\n",
    "import main\n",
    "main = reload(main)\n",
    "main.main()"
   ]
  },
  {
   "cell_type": "code",
   "execution_count": 2,
   "metadata": {},
   "outputs": [
    {
     "data": {
      "text/html": [
       "<br/>Waiting for W&B process to finish, PID 16724<br/>Program ended successfully."
      ],
      "text/plain": [
       "<IPython.core.display.HTML object>"
      ]
     },
     "metadata": {},
     "output_type": "display_data"
    },
    {
     "data": {
      "text/html": [
       "Find user logs for this run at: <code>E:\\Files\\Programming\\thesis\\wandb\\run-20210114_211105-1hu2ugsc\\logs\\debug.log</code>"
      ],
      "text/plain": [
       "<IPython.core.display.HTML object>"
      ]
     },
     "metadata": {},
     "output_type": "display_data"
    },
    {
     "data": {
      "text/html": [
       "Find internal logs for this run at: <code>E:\\Files\\Programming\\thesis\\wandb\\run-20210114_211105-1hu2ugsc\\logs\\debug-internal.log</code>"
      ],
      "text/plain": [
       "<IPython.core.display.HTML object>"
      ]
     },
     "metadata": {},
     "output_type": "display_data"
    },
    {
     "data": {
      "text/html": [
       "<h3>Run summary:</h3><br/><style>\n",
       "    table.wandb td:nth-child(1) { padding: 0 10px; text-align: right }\n",
       "    </style><table class=\"wandb\">\n",
       "<tr><td>loss</td><td>0.00983</td></tr><tr><td>step</td><td>2823</td></tr><tr><td>loss0</td><td>0.00983</td></tr><tr><td>_step</td><td>2823</td></tr><tr><td>_runtime</td><td>190</td></tr><tr><td>_timestamp</td><td>1610676859</td></tr><tr><td>total_seconds</td><td>188.599</td></tr></table>"
      ],
      "text/plain": [
       "<IPython.core.display.HTML object>"
      ]
     },
     "metadata": {},
     "output_type": "display_data"
    },
    {
     "data": {
      "text/html": [
       "<h3>Run history:</h3><br/><style>\n",
       "    table.wandb td:nth-child(1) { padding: 0 10px; text-align: right }\n",
       "    </style><table class=\"wandb\">\n",
       "<tr><td>loss</td><td>▄█▃▁▁▁▁▁█▂▁▁▁▂▁▁▂▁▁▁▁▂▁▁▄▂▂▁▁▃▂▁▃▂▂▁▁▄▂▁</td></tr><tr><td>step</td><td>▁▁▁▁▂▂▂▂▂▃▃▃▃▃▃▄▄▄▄▄▅▅▅▅▅▅▆▆▆▆▆▇▇▇▇▇▇███</td></tr><tr><td>loss0</td><td>▄█▃▁▁▁▁▁█▂▁▁▁▂▁▁▂▁▁▁▁▂▁▁▄▂▂▁▁▃▂▁▃▂▂▁▁▄▂▁</td></tr><tr><td>_step</td><td>▁▁▁▁▂▂▂▂▂▃▃▃▃▃▃▄▄▄▄▄▅▅▅▅▅▅▆▆▆▆▆▇▇▇▇▇▇███</td></tr><tr><td>_runtime</td><td>▁▁▁▁▁▁▁▁▂▂▂▂▂▂▂▂▃▃▃▃▃▃▄▄▄▄▅▅▅▅▅▆▆▆▆▇▇▇██</td></tr><tr><td>_timestamp</td><td>▁▁▁▁▁▁▁▁▂▂▂▂▂▂▂▂▃▃▃▃▃▃▄▄▄▄▅▅▅▅▅▆▆▆▆▇▇▇██</td></tr></table><br/>"
      ],
      "text/plain": [
       "<IPython.core.display.HTML object>"
      ]
     },
     "metadata": {},
     "output_type": "display_data"
    },
    {
     "data": {
      "text/html": [
       "Synced 6 W&B file(s), 2 media file(s), 0 artifact file(s) and 0 other file(s)"
      ],
      "text/plain": [
       "<IPython.core.display.HTML object>"
      ]
     },
     "metadata": {},
     "output_type": "display_data"
    },
    {
     "data": {
      "text/html": [
       "\n",
       "                    <br/>Synced <strong style=\"color:#cdcd00\">dauntless-snowflake-954</strong>: <a href=\"https://wandb.ai/omegachysis/neural-cellular-automata/runs/1hu2ugsc\" target=\"_blank\">https://wandb.ai/omegachysis/neural-cellular-automata/runs/1hu2ugsc</a><br/>\n",
       "                "
      ],
      "text/plain": [
       "<IPython.core.display.HTML object>"
      ]
     },
     "metadata": {},
     "output_type": "display_data"
    }
   ],
   "source": [
    "quit()"
   ]
  },
  {
   "cell_type": "code",
   "execution_count": null,
   "metadata": {},
   "outputs": [],
   "source": [
    "from importlib import reload\n",
    "import bioinfo\n",
    "bioinfo = reload(bioinfo)\n",
    "bioinfo.main()"
   ]
  },
  {
   "cell_type": "code",
   "execution_count": null,
   "metadata": {},
   "outputs": [],
   "source": [
    "quit()"
   ]
  },
  {
   "cell_type": "code",
   "execution_count": null,
   "metadata": {},
   "outputs": [],
   "source": [
    "from importlib import reload\n",
    "from yeast_abm import yeast_model\n",
    "yeast_model = reload(yeast_model)\n",
    "model = yeast_model.main()"
   ]
  },
  {
   "cell_type": "code",
   "execution_count": null,
   "metadata": {},
   "outputs": [],
   "source": [
    "quit()"
   ]
  },
  {
   "cell_type": "code",
   "execution_count": null,
   "metadata": {},
   "outputs": [],
   "source": []
  }
 ],
 "metadata": {
  "kernelspec": {
   "display_name": "Python 3",
   "language": "python",
   "name": "python3"
  },
  "language_info": {
   "codemirror_mode": {
    "name": "ipython",
    "version": 3
   },
   "file_extension": ".py",
   "mimetype": "text/x-python",
   "name": "python",
   "nbconvert_exporter": "python",
   "pygments_lexer": "ipython3",
   "version": "3.8.3"
  }
 },
 "nbformat": 4,
 "nbformat_minor": 4
}
