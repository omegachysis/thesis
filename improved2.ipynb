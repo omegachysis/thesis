{
 "cells": [
  {
   "cell_type": "code",
   "execution_count": null,
   "metadata": {},
   "outputs": [],
   "source": [
    "import module1\n",
    "from importlib import reload\n",
    "reload(module1)\n",
    "\n",
    "ca = module1.CellularAutomata(\n",
    "    img_size=16, \n",
    "    channel_count=8, \n",
    "    layer_counts=[512],\n",
    "    perception_kernel=module1.sobel_state_kernel())\n",
    "ca.noise = 0.0\n",
    "ca.conserve_mass = False\n",
    "\n",
    "lifetime = 16\n",
    "\n",
    "x0 = ca.randomfilled\n",
    "xf = lambda: ca.imagefilled(\"lenna.png\")\n",
    "training = module1.init_training(ca, do_load=False, learning_rate=1.0e-3)\n",
    "training.show_sample_run(x0, xf, lifetime)\n",
    "\n",
    "for i in range(6):\n",
    "    print(\"Training...\")\n",
    "    training.run(x0, xf, lifetime, seconds=10)\n",
    "    training.show_sample_run(x0, xf, lifetime)\n",
    "    training.show_loss_history()\n",
    "    training.save()\n",
    "    print(\" -- saved parameters\")"
   ]
  },
  {
   "cell_type": "code",
   "execution_count": null,
   "metadata": {},
   "outputs": [],
   "source": []
  }
 ],
 "metadata": {
  "kernelspec": {
   "display_name": "Python 3",
   "language": "python",
   "name": "python3"
  },
  "language_info": {
   "codemirror_mode": {
    "name": "ipython",
    "version": 3
   },
   "file_extension": ".py",
   "mimetype": "text/x-python",
   "name": "python",
   "nbconvert_exporter": "python",
   "pygments_lexer": "ipython3",
   "version": "3.8.3"
  }
 },
 "nbformat": 4,
 "nbformat_minor": 4
}
