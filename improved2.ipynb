{
 "cells": [
  {
   "cell_type": "code",
   "execution_count": null,
   "metadata": {},
   "outputs": [],
   "source": [
    "import module1\n",
    "from importlib import reload\n",
    "reload(module1)\n",
    "\n",
    "ca = module1.CellularAutomata(\n",
    "    img_size=8, \n",
    "    channel_count=32, \n",
    "    layer_counts=[512],\n",
    "    perception_kernel=module1.sobel_state_kernel())\n",
    "ca.noise_range = (0, 0) #(-0.1, 0.1)\n",
    "ca.conserve_mass = False\n",
    "ca.edge_strategy = module1.EdgeStrategy.MIRROR\n",
    "\n",
    "lifetime = 16\n",
    "\n",
    "x0 = lambda: ca.constfilled(0.0)\n",
    "xf = lambda: ca.imagefilled(\"checkers.png\")\n",
    "training = module1.init_training(ca, do_load=False, learning_rate=5.0e-4)\n",
    "training.show_sample_run(x0, xf, lifetime)\n",
    "\n",
    "while not training.is_done():\n",
    "    print(\"Training...\")\n",
    "    training.run(x0, xf, lifetime, max_seconds=5)\n",
    "    training.show_sample_run(x0, xf, lifetime)\n",
    "    training.show_loss_history()\n",
    "    training.save()\n",
    "    print(\" -- saved parameters\")\n",
    "\n",
    "\"\"\"\n",
    "results = {}\n",
    "\n",
    "irange = range(4,16)\n",
    "jrange = range(3,8)\n",
    "\n",
    "for i in irange:\n",
    "    for j in jrange:\n",
    "        print(f\"Running experiment ({i},{j})...\")\n",
    "        res = run_experiment(img_size=i, channel_count=j)\n",
    "        results[(i,j)] = res\n",
    "\"\"\""
   ]
  },
  {
   "cell_type": "code",
   "execution_count": null,
   "metadata": {},
   "outputs": [],
   "source": [
    "import numpy as np\n",
    "import matplotlib\n",
    "import matplotlib.pyplot as plt\n",
    "\n",
    "print(\"RESULTS: \")\n",
    "\n",
    "vals = np.zeros([len(irange), len(jrange)])\n",
    "for k,v in results.items():\n",
    "    print(k, len(v.loss_hist), v.loss_hist[-1])\n",
    "    if v.loss_hist[-1] > 0: continue\n",
    "    i,j = k\n",
    "    vals[i-irange[0],j-jrange[0]] = len(v.loss_hist)\n",
    "\n",
    "fig, ax = plt.subplots()\n",
    "im = ax.imshow(vals, cmap='jet')\n",
    "\n",
    "plt.show()"
   ]
  },
  {
   "cell_type": "code",
   "execution_count": null,
   "metadata": {},
   "outputs": [],
   "source": [
    "import tensorflow as tf\n",
    "\n",
    "x = tf.constant([[\n",
    "    [1.0, 2.0, 3.0],\n",
    "    [4.0, 5.0, 6.0],\n",
    "    [7.0, 8.0, 9.0]]])\n",
    "print(x.shape)\n",
    "paddings = tf.constant([[0,0], [1,1], [1,1]])\n",
    "x = tf.pad(x, paddings, \"CONSTANT\")\n",
    "mask = tf.constant(0.0, shape=(1, 3, 3))\n",
    "mask = tf.pad(mask, paddings, \"CONSTANT\", constant_values=1.0)\n",
    "noise = tf.cast(tf.random.uniform(tf.shape(mask[...])), tf.float32)\n",
    "x += mask * noise\n",
    "x"
   ]
  },
  {
   "cell_type": "code",
   "execution_count": null,
   "metadata": {},
   "outputs": [],
   "source": []
  }
 ],
 "metadata": {
  "kernelspec": {
   "display_name": "Python 3",
   "language": "python",
   "name": "python3"
  },
  "language_info": {
   "codemirror_mode": {
    "name": "ipython",
    "version": 3
   },
   "file_extension": ".py",
   "mimetype": "text/x-python",
   "name": "python",
   "nbconvert_exporter": "python",
   "pygments_lexer": "ipython3",
   "version": "3.8.3"
  }
 },
 "nbformat": 4,
 "nbformat_minor": 4
}
