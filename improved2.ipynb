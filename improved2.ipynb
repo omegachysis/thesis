{
 "cells": [
  {
   "cell_type": "code",
   "execution_count": null,
   "metadata": {},
   "outputs": [],
   "source": [
    "import module1\n",
    "from importlib import reload\n",
    "import random\n",
    "reload(module1)\n",
    "\n",
    "ca = module1.CellularAutomata(\n",
    "    img_size=6, \n",
    "    channel_count=6,\n",
    "    layer_counts=[512],\n",
    "    perception_kernel=module1.sobel_state_kernel())\n",
    "ca.noise_range = (0, 0) #(-0.1, 0.1)\n",
    "ca.conserve_mass = False\n",
    "ca.edge_strategy = module1.EdgeStrategy.MIRROR\n",
    "\n",
    "lifetime_range = (24,40)\n",
    "\n",
    "x0 = lambda: ca.pointfilled(ca.constfilled(1.0), point_value=0.0)\n",
    "xf = lambda: ca.bordered(ca.constfilled(1.0), border_value=0.0)\n",
    "training = module1.init_training(ca, learning_rate=1.0e-3)\n",
    "training.show_sample_run(x0, xf, 50)\n",
    "\n",
    "while not training.is_done():\n",
    "    print(\"Training...\")\n",
    "    training.run(x0, xf, random.randrange(*lifetime_range), max_seconds=5)\n",
    "    training.show_sample_run(x0, xf, 50)\n",
    "    training.show_loss_history()\n",
    "    training.save()\n",
    "    print(\" -- saved parameters\")"
   ]
  },
  {
   "cell_type": "code",
   "execution_count": null,
   "metadata": {},
   "outputs": [],
   "source": []
  }
 ],
 "metadata": {
  "kernelspec": {
   "display_name": "Python 3",
   "language": "python",
   "name": "python3"
  },
  "language_info": {
   "codemirror_mode": {
    "name": "ipython",
    "version": 3
   },
   "file_extension": ".py",
   "mimetype": "text/x-python",
   "name": "python",
   "nbconvert_exporter": "python",
   "pygments_lexer": "ipython3",
   "version": "3.8.3"
  }
 },
 "nbformat": 4,
 "nbformat_minor": 4
}
